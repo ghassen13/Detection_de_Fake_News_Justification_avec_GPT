{
  "nbformat": 4,
  "nbformat_minor": 0,
  "metadata": {
    "colab": {
      "provenance": []
    },
    "kernelspec": {
      "name": "python3",
      "display_name": "Python 3"
    },
    "language_info": {
      "name": "python"
    }
  },
  "cells": [
    {
      "cell_type": "markdown",
      "source": [
        "# FAKE NEWS\n",
        "Dans ce projet, notre objectif est de traiter le problème croissant de la désinformation (fake news) et de nous concentrer sur la justification de la classification de ces informations.\n",
        "\n",
        "##Méthodologie appliquée dans le projet\n",
        "### Processus CRISP-DM\n",
        "Le cadre CRISP-DM guide le développement systématique des projets de fouille de données et de science des données. Il se compose de six étapes clés :\n",
        "\n",
        "1. Compréhension du métier (Business Understanding)\n",
        "2. Compréhension des données (Data Understanding)\n",
        "3. Préparation des données (Data Preparation)\n",
        "4. Modélisation (Modeling)\n",
        "5. Évaluation (Evaluation)\n",
        "6. Déploiement (Deployment)"
      ],
      "metadata": {
        "id": "hQyyERXgI6A6"
      }
    },
    {
      "cell_type": "code",
      "execution_count": null,
      "metadata": {
        "id": "fattqmUIYoX1"
      },
      "outputs": [],
      "source": [
        "import pandas as pd\n",
        "import numpy as np\n",
        "import matplotlib.pyplot as plt\n",
        "import seaborn as sns\n",
        "\n",
        "from IPython.display import display\n",
        "pd.options.display.max_columns = None\n"
      ]
    },
    {
      "cell_type": "code",
      "source": [
        "\n",
        "df = pd.read_csv('train2.tsv', delimiter='\\t', header=None)\n",
        "df_val = pd.read_csv('val2.tsv', delimiter='\\t', header=None)\n",
        "df_test = pd.read_csv('test2.tsv', delimiter='\\t', header=None)"
      ],
      "metadata": {
        "id": "Prqy-cA1ZTBr"
      },
      "execution_count": null,
      "outputs": []
    },
    {
      "cell_type": "code",
      "source": [
        "header_names = ['Id', 'ID_Json','label','statement','subject(s)','speaker','speakers_job_title','state_info','total_credit_history_count',\n",
        "                'barely_true_counts','false_counts','half_true_counts','mostly_true_counts','pants_on_fire_counts','context ',\n",
        "                'extracted_justification']"
      ],
      "metadata": {
        "id": "bwjbb8P7ZZ-z"
      },
      "execution_count": null,
      "outputs": []
    },
    {
      "cell_type": "code",
      "source": [
        "df_val.columns = header_names\n",
        "df_test.columns = header_names"
      ],
      "metadata": {
        "id": "xZJN-7vaI8A4"
      },
      "execution_count": null,
      "outputs": []
    },
    {
      "cell_type": "code",
      "source": [
        "df.columns = header_names\n",
        "df.head()"
      ],
      "metadata": {
        "colab": {
          "base_uri": "https://localhost:8080/",
          "height": 626
        },
        "id": "9SyAg3jiZdTO",
        "outputId": "7524d798-b4d1-420f-b426-1aa161de04d6"
      },
      "execution_count": null,
      "outputs": [
        {
          "output_type": "execute_result",
          "data": {
            "text/plain": [
              "    Id     ID_Json        label  \\\n",
              "0  0.0   2635.json        false   \n",
              "1  1.0  10540.json    half-true   \n",
              "2  2.0    324.json  mostly-true   \n",
              "3  3.0   1123.json        false   \n",
              "4  4.0   9028.json    half-true   \n",
              "\n",
              "                                           statement  \\\n",
              "0  Says the Annies List political group supports ...   \n",
              "1  When did the decline of coal start? It started...   \n",
              "2  Hillary Clinton agrees with John McCain \"by vo...   \n",
              "3  Health care reform legislation is likely to ma...   \n",
              "4  The economic turnaround started at the end of ...   \n",
              "\n",
              "                           subject(s)         speaker    speakers_job_title  \\\n",
              "0                            abortion    dwayne-bohac  State representative   \n",
              "1  energy,history,job-accomplishments  scott-surovell        State delegate   \n",
              "2                      foreign-policy    barack-obama             President   \n",
              "3                         health-care    blog-posting                   NaN   \n",
              "4                        economy,jobs   charlie-crist                   NaN   \n",
              "\n",
              "  state_info total_credit_history_count  barely_true_counts  false_counts  \\\n",
              "0      Texas                 republican                 0.0           1.0   \n",
              "1   Virginia                   democrat                 0.0           0.0   \n",
              "2   Illinois                   democrat                70.0          71.0   \n",
              "3        NaN                       none                 7.0          19.0   \n",
              "4    Florida                   democrat                15.0           9.0   \n",
              "\n",
              "   half_true_counts  mostly_true_counts  pants_on_fire_counts  \\\n",
              "0               0.0                 0.0                   0.0   \n",
              "1               1.0                 1.0                   0.0   \n",
              "2             160.0               163.0                   9.0   \n",
              "3               3.0                 5.0                  44.0   \n",
              "4              20.0                19.0                   2.0   \n",
              "\n",
              "              context                             extracted_justification  \n",
              "0             a mailer  That's a premise that he fails to back up. Ann...  \n",
              "1      a floor speech.  Surovell said the decline of coal \"started whe...  \n",
              "2               Denver  Obama said he would have voted against the ame...  \n",
              "3       a news release  The release may have a point that Mikulskis co...  \n",
              "4  an interview on CNN  Crist said that the economic \"turnaround start...  "
            ],
            "text/html": [
              "\n",
              "  <div id=\"df-b837d59f-e7a8-4a24-998d-eec7449eb056\" class=\"colab-df-container\">\n",
              "    <div>\n",
              "<style scoped>\n",
              "    .dataframe tbody tr th:only-of-type {\n",
              "        vertical-align: middle;\n",
              "    }\n",
              "\n",
              "    .dataframe tbody tr th {\n",
              "        vertical-align: top;\n",
              "    }\n",
              "\n",
              "    .dataframe thead th {\n",
              "        text-align: right;\n",
              "    }\n",
              "</style>\n",
              "<table border=\"1\" class=\"dataframe\">\n",
              "  <thead>\n",
              "    <tr style=\"text-align: right;\">\n",
              "      <th></th>\n",
              "      <th>Id</th>\n",
              "      <th>ID_Json</th>\n",
              "      <th>label</th>\n",
              "      <th>statement</th>\n",
              "      <th>subject(s)</th>\n",
              "      <th>speaker</th>\n",
              "      <th>speakers_job_title</th>\n",
              "      <th>state_info</th>\n",
              "      <th>total_credit_history_count</th>\n",
              "      <th>barely_true_counts</th>\n",
              "      <th>false_counts</th>\n",
              "      <th>half_true_counts</th>\n",
              "      <th>mostly_true_counts</th>\n",
              "      <th>pants_on_fire_counts</th>\n",
              "      <th>context</th>\n",
              "      <th>extracted_justification</th>\n",
              "    </tr>\n",
              "  </thead>\n",
              "  <tbody>\n",
              "    <tr>\n",
              "      <th>0</th>\n",
              "      <td>0.0</td>\n",
              "      <td>2635.json</td>\n",
              "      <td>false</td>\n",
              "      <td>Says the Annies List political group supports ...</td>\n",
              "      <td>abortion</td>\n",
              "      <td>dwayne-bohac</td>\n",
              "      <td>State representative</td>\n",
              "      <td>Texas</td>\n",
              "      <td>republican</td>\n",
              "      <td>0.0</td>\n",
              "      <td>1.0</td>\n",
              "      <td>0.0</td>\n",
              "      <td>0.0</td>\n",
              "      <td>0.0</td>\n",
              "      <td>a mailer</td>\n",
              "      <td>That's a premise that he fails to back up. Ann...</td>\n",
              "    </tr>\n",
              "    <tr>\n",
              "      <th>1</th>\n",
              "      <td>1.0</td>\n",
              "      <td>10540.json</td>\n",
              "      <td>half-true</td>\n",
              "      <td>When did the decline of coal start? It started...</td>\n",
              "      <td>energy,history,job-accomplishments</td>\n",
              "      <td>scott-surovell</td>\n",
              "      <td>State delegate</td>\n",
              "      <td>Virginia</td>\n",
              "      <td>democrat</td>\n",
              "      <td>0.0</td>\n",
              "      <td>0.0</td>\n",
              "      <td>1.0</td>\n",
              "      <td>1.0</td>\n",
              "      <td>0.0</td>\n",
              "      <td>a floor speech.</td>\n",
              "      <td>Surovell said the decline of coal \"started whe...</td>\n",
              "    </tr>\n",
              "    <tr>\n",
              "      <th>2</th>\n",
              "      <td>2.0</td>\n",
              "      <td>324.json</td>\n",
              "      <td>mostly-true</td>\n",
              "      <td>Hillary Clinton agrees with John McCain \"by vo...</td>\n",
              "      <td>foreign-policy</td>\n",
              "      <td>barack-obama</td>\n",
              "      <td>President</td>\n",
              "      <td>Illinois</td>\n",
              "      <td>democrat</td>\n",
              "      <td>70.0</td>\n",
              "      <td>71.0</td>\n",
              "      <td>160.0</td>\n",
              "      <td>163.0</td>\n",
              "      <td>9.0</td>\n",
              "      <td>Denver</td>\n",
              "      <td>Obama said he would have voted against the ame...</td>\n",
              "    </tr>\n",
              "    <tr>\n",
              "      <th>3</th>\n",
              "      <td>3.0</td>\n",
              "      <td>1123.json</td>\n",
              "      <td>false</td>\n",
              "      <td>Health care reform legislation is likely to ma...</td>\n",
              "      <td>health-care</td>\n",
              "      <td>blog-posting</td>\n",
              "      <td>NaN</td>\n",
              "      <td>NaN</td>\n",
              "      <td>none</td>\n",
              "      <td>7.0</td>\n",
              "      <td>19.0</td>\n",
              "      <td>3.0</td>\n",
              "      <td>5.0</td>\n",
              "      <td>44.0</td>\n",
              "      <td>a news release</td>\n",
              "      <td>The release may have a point that Mikulskis co...</td>\n",
              "    </tr>\n",
              "    <tr>\n",
              "      <th>4</th>\n",
              "      <td>4.0</td>\n",
              "      <td>9028.json</td>\n",
              "      <td>half-true</td>\n",
              "      <td>The economic turnaround started at the end of ...</td>\n",
              "      <td>economy,jobs</td>\n",
              "      <td>charlie-crist</td>\n",
              "      <td>NaN</td>\n",
              "      <td>Florida</td>\n",
              "      <td>democrat</td>\n",
              "      <td>15.0</td>\n",
              "      <td>9.0</td>\n",
              "      <td>20.0</td>\n",
              "      <td>19.0</td>\n",
              "      <td>2.0</td>\n",
              "      <td>an interview on CNN</td>\n",
              "      <td>Crist said that the economic \"turnaround start...</td>\n",
              "    </tr>\n",
              "  </tbody>\n",
              "</table>\n",
              "</div>\n",
              "    <div class=\"colab-df-buttons\">\n",
              "\n",
              "  <div class=\"colab-df-container\">\n",
              "    <button class=\"colab-df-convert\" onclick=\"convertToInteractive('df-b837d59f-e7a8-4a24-998d-eec7449eb056')\"\n",
              "            title=\"Convert this dataframe to an interactive table.\"\n",
              "            style=\"display:none;\">\n",
              "\n",
              "  <svg xmlns=\"http://www.w3.org/2000/svg\" height=\"24px\" viewBox=\"0 -960 960 960\">\n",
              "    <path d=\"M120-120v-720h720v720H120Zm60-500h600v-160H180v160Zm220 220h160v-160H400v160Zm0 220h160v-160H400v160ZM180-400h160v-160H180v160Zm440 0h160v-160H620v160ZM180-180h160v-160H180v160Zm440 0h160v-160H620v160Z\"/>\n",
              "  </svg>\n",
              "    </button>\n",
              "\n",
              "  <style>\n",
              "    .colab-df-container {\n",
              "      display:flex;\n",
              "      gap: 12px;\n",
              "    }\n",
              "\n",
              "    .colab-df-convert {\n",
              "      background-color: #E8F0FE;\n",
              "      border: none;\n",
              "      border-radius: 50%;\n",
              "      cursor: pointer;\n",
              "      display: none;\n",
              "      fill: #1967D2;\n",
              "      height: 32px;\n",
              "      padding: 0 0 0 0;\n",
              "      width: 32px;\n",
              "    }\n",
              "\n",
              "    .colab-df-convert:hover {\n",
              "      background-color: #E2EBFA;\n",
              "      box-shadow: 0px 1px 2px rgba(60, 64, 67, 0.3), 0px 1px 3px 1px rgba(60, 64, 67, 0.15);\n",
              "      fill: #174EA6;\n",
              "    }\n",
              "\n",
              "    .colab-df-buttons div {\n",
              "      margin-bottom: 4px;\n",
              "    }\n",
              "\n",
              "    [theme=dark] .colab-df-convert {\n",
              "      background-color: #3B4455;\n",
              "      fill: #D2E3FC;\n",
              "    }\n",
              "\n",
              "    [theme=dark] .colab-df-convert:hover {\n",
              "      background-color: #434B5C;\n",
              "      box-shadow: 0px 1px 3px 1px rgba(0, 0, 0, 0.15);\n",
              "      filter: drop-shadow(0px 1px 2px rgba(0, 0, 0, 0.3));\n",
              "      fill: #FFFFFF;\n",
              "    }\n",
              "  </style>\n",
              "\n",
              "    <script>\n",
              "      const buttonEl =\n",
              "        document.querySelector('#df-b837d59f-e7a8-4a24-998d-eec7449eb056 button.colab-df-convert');\n",
              "      buttonEl.style.display =\n",
              "        google.colab.kernel.accessAllowed ? 'block' : 'none';\n",
              "\n",
              "      async function convertToInteractive(key) {\n",
              "        const element = document.querySelector('#df-b837d59f-e7a8-4a24-998d-eec7449eb056');\n",
              "        const dataTable =\n",
              "          await google.colab.kernel.invokeFunction('convertToInteractive',\n",
              "                                                    [key], {});\n",
              "        if (!dataTable) return;\n",
              "\n",
              "        const docLinkHtml = 'Like what you see? Visit the ' +\n",
              "          '<a target=\"_blank\" href=https://colab.research.google.com/notebooks/data_table.ipynb>data table notebook</a>'\n",
              "          + ' to learn more about interactive tables.';\n",
              "        element.innerHTML = '';\n",
              "        dataTable['output_type'] = 'display_data';\n",
              "        await google.colab.output.renderOutput(dataTable, element);\n",
              "        const docLink = document.createElement('div');\n",
              "        docLink.innerHTML = docLinkHtml;\n",
              "        element.appendChild(docLink);\n",
              "      }\n",
              "    </script>\n",
              "  </div>\n",
              "\n",
              "\n",
              "<div id=\"df-5e3ad053-5f60-4c0c-8ed6-0f21622f9014\">\n",
              "  <button class=\"colab-df-quickchart\" onclick=\"quickchart('df-5e3ad053-5f60-4c0c-8ed6-0f21622f9014')\"\n",
              "            title=\"Suggest charts\"\n",
              "            style=\"display:none;\">\n",
              "\n",
              "<svg xmlns=\"http://www.w3.org/2000/svg\" height=\"24px\"viewBox=\"0 0 24 24\"\n",
              "     width=\"24px\">\n",
              "    <g>\n",
              "        <path d=\"M19 3H5c-1.1 0-2 .9-2 2v14c0 1.1.9 2 2 2h14c1.1 0 2-.9 2-2V5c0-1.1-.9-2-2-2zM9 17H7v-7h2v7zm4 0h-2V7h2v10zm4 0h-2v-4h2v4z\"/>\n",
              "    </g>\n",
              "</svg>\n",
              "  </button>\n",
              "\n",
              "<style>\n",
              "  .colab-df-quickchart {\n",
              "      --bg-color: #E8F0FE;\n",
              "      --fill-color: #1967D2;\n",
              "      --hover-bg-color: #E2EBFA;\n",
              "      --hover-fill-color: #174EA6;\n",
              "      --disabled-fill-color: #AAA;\n",
              "      --disabled-bg-color: #DDD;\n",
              "  }\n",
              "\n",
              "  [theme=dark] .colab-df-quickchart {\n",
              "      --bg-color: #3B4455;\n",
              "      --fill-color: #D2E3FC;\n",
              "      --hover-bg-color: #434B5C;\n",
              "      --hover-fill-color: #FFFFFF;\n",
              "      --disabled-bg-color: #3B4455;\n",
              "      --disabled-fill-color: #666;\n",
              "  }\n",
              "\n",
              "  .colab-df-quickchart {\n",
              "    background-color: var(--bg-color);\n",
              "    border: none;\n",
              "    border-radius: 50%;\n",
              "    cursor: pointer;\n",
              "    display: none;\n",
              "    fill: var(--fill-color);\n",
              "    height: 32px;\n",
              "    padding: 0;\n",
              "    width: 32px;\n",
              "  }\n",
              "\n",
              "  .colab-df-quickchart:hover {\n",
              "    background-color: var(--hover-bg-color);\n",
              "    box-shadow: 0 1px 2px rgba(60, 64, 67, 0.3), 0 1px 3px 1px rgba(60, 64, 67, 0.15);\n",
              "    fill: var(--button-hover-fill-color);\n",
              "  }\n",
              "\n",
              "  .colab-df-quickchart-complete:disabled,\n",
              "  .colab-df-quickchart-complete:disabled:hover {\n",
              "    background-color: var(--disabled-bg-color);\n",
              "    fill: var(--disabled-fill-color);\n",
              "    box-shadow: none;\n",
              "  }\n",
              "\n",
              "  .colab-df-spinner {\n",
              "    border: 2px solid var(--fill-color);\n",
              "    border-color: transparent;\n",
              "    border-bottom-color: var(--fill-color);\n",
              "    animation:\n",
              "      spin 1s steps(1) infinite;\n",
              "  }\n",
              "\n",
              "  @keyframes spin {\n",
              "    0% {\n",
              "      border-color: transparent;\n",
              "      border-bottom-color: var(--fill-color);\n",
              "      border-left-color: var(--fill-color);\n",
              "    }\n",
              "    20% {\n",
              "      border-color: transparent;\n",
              "      border-left-color: var(--fill-color);\n",
              "      border-top-color: var(--fill-color);\n",
              "    }\n",
              "    30% {\n",
              "      border-color: transparent;\n",
              "      border-left-color: var(--fill-color);\n",
              "      border-top-color: var(--fill-color);\n",
              "      border-right-color: var(--fill-color);\n",
              "    }\n",
              "    40% {\n",
              "      border-color: transparent;\n",
              "      border-right-color: var(--fill-color);\n",
              "      border-top-color: var(--fill-color);\n",
              "    }\n",
              "    60% {\n",
              "      border-color: transparent;\n",
              "      border-right-color: var(--fill-color);\n",
              "    }\n",
              "    80% {\n",
              "      border-color: transparent;\n",
              "      border-right-color: var(--fill-color);\n",
              "      border-bottom-color: var(--fill-color);\n",
              "    }\n",
              "    90% {\n",
              "      border-color: transparent;\n",
              "      border-bottom-color: var(--fill-color);\n",
              "    }\n",
              "  }\n",
              "</style>\n",
              "\n",
              "  <script>\n",
              "    async function quickchart(key) {\n",
              "      const quickchartButtonEl =\n",
              "        document.querySelector('#' + key + ' button');\n",
              "      quickchartButtonEl.disabled = true;  // To prevent multiple clicks.\n",
              "      quickchartButtonEl.classList.add('colab-df-spinner');\n",
              "      try {\n",
              "        const charts = await google.colab.kernel.invokeFunction(\n",
              "            'suggestCharts', [key], {});\n",
              "      } catch (error) {\n",
              "        console.error('Error during call to suggestCharts:', error);\n",
              "      }\n",
              "      quickchartButtonEl.classList.remove('colab-df-spinner');\n",
              "      quickchartButtonEl.classList.add('colab-df-quickchart-complete');\n",
              "    }\n",
              "    (() => {\n",
              "      let quickchartButtonEl =\n",
              "        document.querySelector('#df-5e3ad053-5f60-4c0c-8ed6-0f21622f9014 button');\n",
              "      quickchartButtonEl.style.display =\n",
              "        google.colab.kernel.accessAllowed ? 'block' : 'none';\n",
              "    })();\n",
              "  </script>\n",
              "</div>\n",
              "\n",
              "    </div>\n",
              "  </div>\n"
            ]
          },
          "metadata": {},
          "execution_count": 161
        }
      ]
    },
    {
      "cell_type": "code",
      "source": [
        "df['statement'].unique()"
      ],
      "metadata": {
        "colab": {
          "base_uri": "https://localhost:8080/"
        },
        "id": "A5swz3gFMb2_",
        "outputId": "4ecd929d-be58-4081-d0b5-6594f21a71b3"
      },
      "execution_count": null,
      "outputs": [
        {
          "output_type": "execute_result",
          "data": {
            "text/plain": [
              "array(['Says the Annies List political group supports third-trimester abortions on demand.',\n",
              "       'When did the decline of coal start? It started when natural gas took off that started to begin in (President George W.) Bushs administration.',\n",
              "       'Hillary Clinton agrees with John McCain \"by voting to give George Bush the benefit of the doubt on Iran.\"',\n",
              "       ...,\n",
              "       'Says an alternative to Social Security that operates in Galveston County, Texas, has meant that participants will retire with a whole lot more money than under Social Security.',\n",
              "       'On lifting the U.S. Cuban embargo and allowing travel to Cuba.',\n",
              "       \"The Department of Veterans Affairs has a manual out there telling our veterans stuff like, 'Are you really of value to your community?' You know, encouraging them to commit suicide.\"],\n",
              "      dtype=object)"
            ]
          },
          "metadata": {},
          "execution_count": 162
        }
      ]
    },
    {
      "cell_type": "markdown",
      "source": [
        "# Compréhension des données"
      ],
      "metadata": {
        "id": "Fzke5xsNJCkx"
      }
    },
    {
      "cell_type": "markdown",
      "source": [
        "## Exploratory Data Analysis - EDA"
      ],
      "metadata": {
        "id": "A_tQhh9WautN"
      }
    },
    {
      "cell_type": "code",
      "source": [
        "# Les dimension de la DataFrame\n",
        "print(\"Shape of Training DataFrame:\", df.shape)"
      ],
      "metadata": {
        "colab": {
          "base_uri": "https://localhost:8080/"
        },
        "id": "WZmq7kM_I1BS",
        "outputId": "27d874a1-4a4f-4bde-e6d1-7784bdcb92ea"
      },
      "execution_count": null,
      "outputs": [
        {
          "output_type": "stream",
          "name": "stdout",
          "text": [
            "Shape of Training DataFrame: (10242, 16)\n"
          ]
        }
      ]
    },
    {
      "cell_type": "code",
      "source": [
        "df.info()"
      ],
      "metadata": {
        "colab": {
          "base_uri": "https://localhost:8080/"
        },
        "id": "vZqLZHzkI6Vj",
        "outputId": "99e305c9-0842-4223-ca05-7aed826013c0"
      },
      "execution_count": null,
      "outputs": [
        {
          "output_type": "stream",
          "name": "stdout",
          "text": [
            "<class 'pandas.core.frame.DataFrame'>\n",
            "RangeIndex: 10242 entries, 0 to 10241\n",
            "Data columns (total 16 columns):\n",
            " #   Column                      Non-Null Count  Dtype  \n",
            "---  ------                      --------------  -----  \n",
            " 0   Id                          10240 non-null  float64\n",
            " 1   ID_Json                     10240 non-null  object \n",
            " 2   label                       10240 non-null  object \n",
            " 3   statement                   10240 non-null  object \n",
            " 4   subject(s)                  10238 non-null  object \n",
            " 5   speaker                     10238 non-null  object \n",
            " 6   speakers_job_title          7343 non-null   object \n",
            " 7   state_info                  8032 non-null   object \n",
            " 8   total_credit_history_count  10238 non-null  object \n",
            " 9   barely_true_counts          10238 non-null  float64\n",
            " 10  false_counts                10238 non-null  float64\n",
            " 11  half_true_counts            10238 non-null  float64\n",
            " 12  mostly_true_counts          10238 non-null  float64\n",
            " 13  pants_on_fire_counts        10238 non-null  float64\n",
            " 14  context                     10138 non-null  object \n",
            " 15  extracted_justification     10154 non-null  object \n",
            "dtypes: float64(6), object(10)\n",
            "memory usage: 1.3+ MB\n"
          ]
        }
      ]
    },
    {
      "cell_type": "code",
      "source": [
        "df.describe()"
      ],
      "metadata": {
        "colab": {
          "base_uri": "https://localhost:8080/",
          "height": 300
        },
        "id": "Vi4T3lYqmsbo",
        "outputId": "c6b9ab9c-ed61-473d-fc83-6433680d00ef"
      },
      "execution_count": null,
      "outputs": [
        {
          "output_type": "execute_result",
          "data": {
            "text/plain": [
              "                 Id  barely_true_counts  false_counts  half_true_counts  \\\n",
              "count  10240.000000        10238.000000  10238.000000      10238.000000   \n",
              "mean    5136.103809           11.533210     13.286482         17.133718   \n",
              "std     2964.754693           18.973764     24.112936         35.846511   \n",
              "min        0.000000            0.000000      0.000000          0.000000   \n",
              "25%     2572.750000            0.000000      0.000000          0.000000   \n",
              "50%     5132.500000            2.000000      2.000000          3.000000   \n",
              "75%     7708.250000           12.000000     12.000000         13.000000   \n",
              "max    10268.000000           70.000000    114.000000        160.000000   \n",
              "\n",
              "       mostly_true_counts  pants_on_fire_counts  \n",
              "count        10238.000000          10238.000000  \n",
              "mean            16.434265              6.201407  \n",
              "std             36.151688             16.128927  \n",
              "min              0.000000              0.000000  \n",
              "25%              0.000000              0.000000  \n",
              "50%              3.000000              1.000000  \n",
              "75%             11.000000              5.000000  \n",
              "max            163.000000            105.000000  "
            ],
            "text/html": [
              "\n",
              "  <div id=\"df-1e1ad94b-d966-4f8e-a984-f0d11e96ab7f\" class=\"colab-df-container\">\n",
              "    <div>\n",
              "<style scoped>\n",
              "    .dataframe tbody tr th:only-of-type {\n",
              "        vertical-align: middle;\n",
              "    }\n",
              "\n",
              "    .dataframe tbody tr th {\n",
              "        vertical-align: top;\n",
              "    }\n",
              "\n",
              "    .dataframe thead th {\n",
              "        text-align: right;\n",
              "    }\n",
              "</style>\n",
              "<table border=\"1\" class=\"dataframe\">\n",
              "  <thead>\n",
              "    <tr style=\"text-align: right;\">\n",
              "      <th></th>\n",
              "      <th>Id</th>\n",
              "      <th>barely_true_counts</th>\n",
              "      <th>false_counts</th>\n",
              "      <th>half_true_counts</th>\n",
              "      <th>mostly_true_counts</th>\n",
              "      <th>pants_on_fire_counts</th>\n",
              "    </tr>\n",
              "  </thead>\n",
              "  <tbody>\n",
              "    <tr>\n",
              "      <th>count</th>\n",
              "      <td>10240.000000</td>\n",
              "      <td>10238.000000</td>\n",
              "      <td>10238.000000</td>\n",
              "      <td>10238.000000</td>\n",
              "      <td>10238.000000</td>\n",
              "      <td>10238.000000</td>\n",
              "    </tr>\n",
              "    <tr>\n",
              "      <th>mean</th>\n",
              "      <td>5136.103809</td>\n",
              "      <td>11.533210</td>\n",
              "      <td>13.286482</td>\n",
              "      <td>17.133718</td>\n",
              "      <td>16.434265</td>\n",
              "      <td>6.201407</td>\n",
              "    </tr>\n",
              "    <tr>\n",
              "      <th>std</th>\n",
              "      <td>2964.754693</td>\n",
              "      <td>18.973764</td>\n",
              "      <td>24.112936</td>\n",
              "      <td>35.846511</td>\n",
              "      <td>36.151688</td>\n",
              "      <td>16.128927</td>\n",
              "    </tr>\n",
              "    <tr>\n",
              "      <th>min</th>\n",
              "      <td>0.000000</td>\n",
              "      <td>0.000000</td>\n",
              "      <td>0.000000</td>\n",
              "      <td>0.000000</td>\n",
              "      <td>0.000000</td>\n",
              "      <td>0.000000</td>\n",
              "    </tr>\n",
              "    <tr>\n",
              "      <th>25%</th>\n",
              "      <td>2572.750000</td>\n",
              "      <td>0.000000</td>\n",
              "      <td>0.000000</td>\n",
              "      <td>0.000000</td>\n",
              "      <td>0.000000</td>\n",
              "      <td>0.000000</td>\n",
              "    </tr>\n",
              "    <tr>\n",
              "      <th>50%</th>\n",
              "      <td>5132.500000</td>\n",
              "      <td>2.000000</td>\n",
              "      <td>2.000000</td>\n",
              "      <td>3.000000</td>\n",
              "      <td>3.000000</td>\n",
              "      <td>1.000000</td>\n",
              "    </tr>\n",
              "    <tr>\n",
              "      <th>75%</th>\n",
              "      <td>7708.250000</td>\n",
              "      <td>12.000000</td>\n",
              "      <td>12.000000</td>\n",
              "      <td>13.000000</td>\n",
              "      <td>11.000000</td>\n",
              "      <td>5.000000</td>\n",
              "    </tr>\n",
              "    <tr>\n",
              "      <th>max</th>\n",
              "      <td>10268.000000</td>\n",
              "      <td>70.000000</td>\n",
              "      <td>114.000000</td>\n",
              "      <td>160.000000</td>\n",
              "      <td>163.000000</td>\n",
              "      <td>105.000000</td>\n",
              "    </tr>\n",
              "  </tbody>\n",
              "</table>\n",
              "</div>\n",
              "    <div class=\"colab-df-buttons\">\n",
              "\n",
              "  <div class=\"colab-df-container\">\n",
              "    <button class=\"colab-df-convert\" onclick=\"convertToInteractive('df-1e1ad94b-d966-4f8e-a984-f0d11e96ab7f')\"\n",
              "            title=\"Convert this dataframe to an interactive table.\"\n",
              "            style=\"display:none;\">\n",
              "\n",
              "  <svg xmlns=\"http://www.w3.org/2000/svg\" height=\"24px\" viewBox=\"0 -960 960 960\">\n",
              "    <path d=\"M120-120v-720h720v720H120Zm60-500h600v-160H180v160Zm220 220h160v-160H400v160Zm0 220h160v-160H400v160ZM180-400h160v-160H180v160Zm440 0h160v-160H620v160ZM180-180h160v-160H180v160Zm440 0h160v-160H620v160Z\"/>\n",
              "  </svg>\n",
              "    </button>\n",
              "\n",
              "  <style>\n",
              "    .colab-df-container {\n",
              "      display:flex;\n",
              "      gap: 12px;\n",
              "    }\n",
              "\n",
              "    .colab-df-convert {\n",
              "      background-color: #E8F0FE;\n",
              "      border: none;\n",
              "      border-radius: 50%;\n",
              "      cursor: pointer;\n",
              "      display: none;\n",
              "      fill: #1967D2;\n",
              "      height: 32px;\n",
              "      padding: 0 0 0 0;\n",
              "      width: 32px;\n",
              "    }\n",
              "\n",
              "    .colab-df-convert:hover {\n",
              "      background-color: #E2EBFA;\n",
              "      box-shadow: 0px 1px 2px rgba(60, 64, 67, 0.3), 0px 1px 3px 1px rgba(60, 64, 67, 0.15);\n",
              "      fill: #174EA6;\n",
              "    }\n",
              "\n",
              "    .colab-df-buttons div {\n",
              "      margin-bottom: 4px;\n",
              "    }\n",
              "\n",
              "    [theme=dark] .colab-df-convert {\n",
              "      background-color: #3B4455;\n",
              "      fill: #D2E3FC;\n",
              "    }\n",
              "\n",
              "    [theme=dark] .colab-df-convert:hover {\n",
              "      background-color: #434B5C;\n",
              "      box-shadow: 0px 1px 3px 1px rgba(0, 0, 0, 0.15);\n",
              "      filter: drop-shadow(0px 1px 2px rgba(0, 0, 0, 0.3));\n",
              "      fill: #FFFFFF;\n",
              "    }\n",
              "  </style>\n",
              "\n",
              "    <script>\n",
              "      const buttonEl =\n",
              "        document.querySelector('#df-1e1ad94b-d966-4f8e-a984-f0d11e96ab7f button.colab-df-convert');\n",
              "      buttonEl.style.display =\n",
              "        google.colab.kernel.accessAllowed ? 'block' : 'none';\n",
              "\n",
              "      async function convertToInteractive(key) {\n",
              "        const element = document.querySelector('#df-1e1ad94b-d966-4f8e-a984-f0d11e96ab7f');\n",
              "        const dataTable =\n",
              "          await google.colab.kernel.invokeFunction('convertToInteractive',\n",
              "                                                    [key], {});\n",
              "        if (!dataTable) return;\n",
              "\n",
              "        const docLinkHtml = 'Like what you see? Visit the ' +\n",
              "          '<a target=\"_blank\" href=https://colab.research.google.com/notebooks/data_table.ipynb>data table notebook</a>'\n",
              "          + ' to learn more about interactive tables.';\n",
              "        element.innerHTML = '';\n",
              "        dataTable['output_type'] = 'display_data';\n",
              "        await google.colab.output.renderOutput(dataTable, element);\n",
              "        const docLink = document.createElement('div');\n",
              "        docLink.innerHTML = docLinkHtml;\n",
              "        element.appendChild(docLink);\n",
              "      }\n",
              "    </script>\n",
              "  </div>\n",
              "\n",
              "\n",
              "<div id=\"df-2ff316bf-2696-4779-8d76-c10e30f1b677\">\n",
              "  <button class=\"colab-df-quickchart\" onclick=\"quickchart('df-2ff316bf-2696-4779-8d76-c10e30f1b677')\"\n",
              "            title=\"Suggest charts\"\n",
              "            style=\"display:none;\">\n",
              "\n",
              "<svg xmlns=\"http://www.w3.org/2000/svg\" height=\"24px\"viewBox=\"0 0 24 24\"\n",
              "     width=\"24px\">\n",
              "    <g>\n",
              "        <path d=\"M19 3H5c-1.1 0-2 .9-2 2v14c0 1.1.9 2 2 2h14c1.1 0 2-.9 2-2V5c0-1.1-.9-2-2-2zM9 17H7v-7h2v7zm4 0h-2V7h2v10zm4 0h-2v-4h2v4z\"/>\n",
              "    </g>\n",
              "</svg>\n",
              "  </button>\n",
              "\n",
              "<style>\n",
              "  .colab-df-quickchart {\n",
              "      --bg-color: #E8F0FE;\n",
              "      --fill-color: #1967D2;\n",
              "      --hover-bg-color: #E2EBFA;\n",
              "      --hover-fill-color: #174EA6;\n",
              "      --disabled-fill-color: #AAA;\n",
              "      --disabled-bg-color: #DDD;\n",
              "  }\n",
              "\n",
              "  [theme=dark] .colab-df-quickchart {\n",
              "      --bg-color: #3B4455;\n",
              "      --fill-color: #D2E3FC;\n",
              "      --hover-bg-color: #434B5C;\n",
              "      --hover-fill-color: #FFFFFF;\n",
              "      --disabled-bg-color: #3B4455;\n",
              "      --disabled-fill-color: #666;\n",
              "  }\n",
              "\n",
              "  .colab-df-quickchart {\n",
              "    background-color: var(--bg-color);\n",
              "    border: none;\n",
              "    border-radius: 50%;\n",
              "    cursor: pointer;\n",
              "    display: none;\n",
              "    fill: var(--fill-color);\n",
              "    height: 32px;\n",
              "    padding: 0;\n",
              "    width: 32px;\n",
              "  }\n",
              "\n",
              "  .colab-df-quickchart:hover {\n",
              "    background-color: var(--hover-bg-color);\n",
              "    box-shadow: 0 1px 2px rgba(60, 64, 67, 0.3), 0 1px 3px 1px rgba(60, 64, 67, 0.15);\n",
              "    fill: var(--button-hover-fill-color);\n",
              "  }\n",
              "\n",
              "  .colab-df-quickchart-complete:disabled,\n",
              "  .colab-df-quickchart-complete:disabled:hover {\n",
              "    background-color: var(--disabled-bg-color);\n",
              "    fill: var(--disabled-fill-color);\n",
              "    box-shadow: none;\n",
              "  }\n",
              "\n",
              "  .colab-df-spinner {\n",
              "    border: 2px solid var(--fill-color);\n",
              "    border-color: transparent;\n",
              "    border-bottom-color: var(--fill-color);\n",
              "    animation:\n",
              "      spin 1s steps(1) infinite;\n",
              "  }\n",
              "\n",
              "  @keyframes spin {\n",
              "    0% {\n",
              "      border-color: transparent;\n",
              "      border-bottom-color: var(--fill-color);\n",
              "      border-left-color: var(--fill-color);\n",
              "    }\n",
              "    20% {\n",
              "      border-color: transparent;\n",
              "      border-left-color: var(--fill-color);\n",
              "      border-top-color: var(--fill-color);\n",
              "    }\n",
              "    30% {\n",
              "      border-color: transparent;\n",
              "      border-left-color: var(--fill-color);\n",
              "      border-top-color: var(--fill-color);\n",
              "      border-right-color: var(--fill-color);\n",
              "    }\n",
              "    40% {\n",
              "      border-color: transparent;\n",
              "      border-right-color: var(--fill-color);\n",
              "      border-top-color: var(--fill-color);\n",
              "    }\n",
              "    60% {\n",
              "      border-color: transparent;\n",
              "      border-right-color: var(--fill-color);\n",
              "    }\n",
              "    80% {\n",
              "      border-color: transparent;\n",
              "      border-right-color: var(--fill-color);\n",
              "      border-bottom-color: var(--fill-color);\n",
              "    }\n",
              "    90% {\n",
              "      border-color: transparent;\n",
              "      border-bottom-color: var(--fill-color);\n",
              "    }\n",
              "  }\n",
              "</style>\n",
              "\n",
              "  <script>\n",
              "    async function quickchart(key) {\n",
              "      const quickchartButtonEl =\n",
              "        document.querySelector('#' + key + ' button');\n",
              "      quickchartButtonEl.disabled = true;  // To prevent multiple clicks.\n",
              "      quickchartButtonEl.classList.add('colab-df-spinner');\n",
              "      try {\n",
              "        const charts = await google.colab.kernel.invokeFunction(\n",
              "            'suggestCharts', [key], {});\n",
              "      } catch (error) {\n",
              "        console.error('Error during call to suggestCharts:', error);\n",
              "      }\n",
              "      quickchartButtonEl.classList.remove('colab-df-spinner');\n",
              "      quickchartButtonEl.classList.add('colab-df-quickchart-complete');\n",
              "    }\n",
              "    (() => {\n",
              "      let quickchartButtonEl =\n",
              "        document.querySelector('#df-2ff316bf-2696-4779-8d76-c10e30f1b677 button');\n",
              "      quickchartButtonEl.style.display =\n",
              "        google.colab.kernel.accessAllowed ? 'block' : 'none';\n",
              "    })();\n",
              "  </script>\n",
              "</div>\n",
              "\n",
              "    </div>\n",
              "  </div>\n"
            ]
          },
          "metadata": {},
          "execution_count": 165
        }
      ]
    },
    {
      "cell_type": "markdown",
      "source": [
        "### Data Analysis and Viz"
      ],
      "metadata": {
        "id": "KvtyMYkrhod4"
      }
    },
    {
      "cell_type": "code",
      "source": [
        "import pandas as pd\n",
        "import matplotlib.pyplot as plt\n",
        "from matplotlib import cm\n",
        "\n",
        "\n",
        "label_counts = df['label'].value_counts()\n",
        "\n",
        "cmap = cm.get_cmap('viridis', len(label_counts))\n",
        "cmap_colors = cmap.colors.copy()\n",
        "\n",
        "adjusted_alpha = 0.7\n",
        "for i in range(len(cmap_colors)):\n",
        "    cmap_colors[i] = (*cmap_colors[i][:3], adjusted_alpha)\n",
        "\n",
        "plt.figure(figsize=(8, 8))\n",
        "plt.pie(label_counts, labels=label_counts.index, autopct='%1.1f%%', startangle=140, colors=cmap_colors)\n",
        "plt.title('Distribution of Labels')\n",
        "plt.show()\n"
      ],
      "metadata": {
        "colab": {
          "base_uri": "https://localhost:8080/",
          "height": 730
        },
        "id": "sr6_GRdKhn2A",
        "outputId": "f5bc6418-207e-41a0-b615-09301b55eb67"
      },
      "execution_count": null,
      "outputs": [
        {
          "output_type": "stream",
          "name": "stderr",
          "text": [
            "<ipython-input-166-d3ed4d7529df>:8: MatplotlibDeprecationWarning: The get_cmap function was deprecated in Matplotlib 3.7 and will be removed two minor releases later. Use ``matplotlib.colormaps[name]`` or ``matplotlib.colormaps.get_cmap(obj)`` instead.\n",
            "  cmap = cm.get_cmap('viridis', len(label_counts))\n"
          ]
        },
        {
          "output_type": "display_data",
          "data": {
            "text/plain": [
              "<Figure size 800x800 with 1 Axes>"
            ],
            "image/png": "[encoded data removed]"
          },
          "metadata": {}
        }
      ]
    },
    {
      "cell_type": "code",
      "source": [
        "# Get the counts of unique values in the 'state_info' column\n",
        "value_counts = df['state_info'].value_counts().head(15)\n",
        "\n",
        "# Figure size\n",
        "plt.figure(figsize=(20, 6))\n",
        "\n",
        "plt.bar(value_counts.index, value_counts, color='skyblue')\n",
        "\n",
        "# Add labels and title\n",
        "plt.xlabel('State Name')\n",
        "plt.ylabel('Count')\n",
        "plt.title('Top 15 States')\n",
        "\n",
        "plt.show()"
      ],
      "metadata": {
        "colab": {
          "base_uri": "https://localhost:8080/",
          "height": 564
        },
        "id": "j2s1hYM3JVDQ",
        "outputId": "e7ffeaa7-9a1c-4ae3-9b98-999a1db0d859"
      },
      "execution_count": null,
      "outputs": [
        {
          "output_type": "display_data",
          "data": {
            "text/plain": [
              "<Figure size 2000x600 with 1 Axes>"
            ],
            "image/png": "[encoded data removed]"
          },
          "metadata": {}
        }
      ]
    },
    {
      "cell_type": "code",
      "source": [
        "# Get the counts of unique values in the 'speakers_job_title' column\n",
        "value_counts = df['speakers_job_title'].value_counts().head(10)\n",
        "\n",
        "# Figure size\n",
        "plt.figure(figsize=(20, 6))\n",
        "\n",
        "plt.bar(value_counts.index, value_counts, color='skyblue')\n",
        "\n",
        "# Add labels and title\n",
        "plt.xlabel('speakers job title')\n",
        "plt.ylabel('Count')\n",
        "plt.title('Top 10 speakers titles')\n",
        "\n",
        "plt.show()"
      ],
      "metadata": {
        "colab": {
          "base_uri": "https://localhost:8080/",
          "height": 564
        },
        "id": "oTpxyAT1J04X",
        "outputId": "04356d62-84a0-47a0-fbd7-0616f12c82fe"
      },
      "execution_count": null,
      "outputs": [
        {
          "output_type": "display_data",
          "data": {
            "text/plain": [
              "<Figure size 2000x600 with 1 Axes>"
            ],
            "image/png": "[encoded data removed]"
          },
          "metadata": {}
        }
      ]
    },
    {
      "cell_type": "markdown",
      "source": [
        "### Vérification des valeurs manquantes"
      ],
      "metadata": {
        "id": "WOOFJmp7MlUP"
      }
    },
    {
      "cell_type": "code",
      "source": [
        "# Percentage of missing values of the train data\n",
        "print(\"Percentage of missing values of the Train Data:\\n\")\n",
        "missing_percentages = (df.isnull().mean(axis=0)*100).sort_values()\n",
        "for col_name, percent in missing_percentages.items():\n",
        "    print(f\"{col_name}: {percent:.2f}%\")"
      ],
      "metadata": {
        "colab": {
          "base_uri": "https://localhost:8080/"
        },
        "id": "WtNvYleMZfZS",
        "outputId": "ffdab7c9-227e-4287-fd90-103638823d08"
      },
      "execution_count": null,
      "outputs": [
        {
          "output_type": "stream",
          "name": "stdout",
          "text": [
            "Percentage of missing values of the Train Data:\n",
            "\n",
            "Id: 0.02%\n",
            "ID_Json: 0.02%\n",
            "label: 0.02%\n",
            "statement: 0.02%\n",
            "subject(s): 0.04%\n",
            "speaker: 0.04%\n",
            "total_credit_history_count: 0.04%\n",
            "barely_true_counts: 0.04%\n",
            "false_counts: 0.04%\n",
            "half_true_counts: 0.04%\n",
            "mostly_true_counts: 0.04%\n",
            "pants_on_fire_counts: 0.04%\n",
            "extracted_justification: 0.86%\n",
            "context : 1.02%\n",
            "state_info: 21.58%\n",
            "speakers_job_title: 28.31%\n"
          ]
        }
      ]
    },
    {
      "cell_type": "code",
      "source": [
        "# Columns to be dropped\n",
        "columns_to_drop = ['speakers_job_title', 'state_info','Id','ID_Json']\n",
        "\n",
        "# Dropping the columns from each dataframe\n",
        "df.drop(columns=columns_to_drop, inplace=True)\n",
        "df_test.drop(columns=columns_to_drop, inplace=True)\n",
        "df_val.drop(columns=columns_to_drop, inplace=True)\n",
        "\n",
        "# Checking the first few rows of each dataframe to confirm the drop\n",
        "train_head_after_drop = df.describe()\n",
        "test_head_after_drop = df_test.describe()\n",
        "val_head_after_drop = df_val.describe()\n",
        "\n",
        "(train_head_after_drop, test_head_after_drop, val_head_after_drop)"
      ],
      "metadata": {
        "colab": {
          "base_uri": "https://localhost:8080/"
        },
        "id": "7BLGbDkWt87g",
        "outputId": "83e5aea7-7697-4501-df17-aa9e8fac2f74"
      },
      "execution_count": null,
      "outputs": [
        {
          "output_type": "execute_result",
          "data": {
            "text/plain": [
              "(       barely_true_counts  false_counts  half_true_counts  mostly_true_counts  \\\n",
              " count        10238.000000  10238.000000      10238.000000        10238.000000   \n",
              " mean            11.533210     13.286482         17.133718           16.434265   \n",
              " std             18.973764     24.112936         35.846511           36.151688   \n",
              " min              0.000000      0.000000          0.000000            0.000000   \n",
              " 25%              0.000000      0.000000          0.000000            0.000000   \n",
              " 50%              2.000000      2.000000          3.000000            3.000000   \n",
              " 75%             12.000000     12.000000         13.000000           11.000000   \n",
              " max             70.000000    114.000000        160.000000          163.000000   \n",
              " \n",
              "        pants_on_fire_counts  \n",
              " count          10238.000000  \n",
              " mean               6.201407  \n",
              " std               16.128927  \n",
              " min                0.000000  \n",
              " 25%                0.000000  \n",
              " 50%                1.000000  \n",
              " 75%                5.000000  \n",
              " max              105.000000  ,\n",
              "        barely_true_counts  false_counts  half_true_counts  mostly_true_counts  \\\n",
              " count         1267.000000   1267.000000       1267.000000         1267.000000   \n",
              " mean            11.770324     13.465667         17.566693           16.912391   \n",
              " std             18.980496     23.956307         36.109290           36.499879   \n",
              " min              0.000000      0.000000          0.000000            0.000000   \n",
              " 25%              0.000000      0.000000          1.000000            1.000000   \n",
              " 50%              3.000000      3.000000          3.000000            3.000000   \n",
              " 75%             12.000000     17.000000         15.000000           14.000000   \n",
              " max             70.000000    114.000000        160.000000          163.000000   \n",
              " \n",
              "        pants_on_fire_counts  \n",
              " count           1267.000000  \n",
              " mean               6.016575  \n",
              " std               15.059981  \n",
              " min                0.000000  \n",
              " 25%                0.000000  \n",
              " 50%                1.000000  \n",
              " 75%                6.000000  \n",
              " max              105.000000  ,\n",
              "        barely_true_counts  false_counts  half_true_counts  mostly_true_counts  \\\n",
              " count         1284.000000   1284.000000       1284.000000         1284.000000   \n",
              " mean            11.804517     13.832555         17.225078           16.595794   \n",
              " std             19.021708     24.546884         35.622818           35.966699   \n",
              " min              0.000000      0.000000          0.000000            0.000000   \n",
              " 25%              0.000000      0.000000          0.750000            0.000000   \n",
              " 50%              3.000000      3.000000          3.000000            3.000000   \n",
              " 75%             12.000000     17.000000         13.000000           12.000000   \n",
              " max             70.000000    114.000000        160.000000          163.000000   \n",
              " \n",
              "        pants_on_fire_counts  \n",
              " count           1284.000000  \n",
              " mean               6.881620  \n",
              " std               17.597474  \n",
              " min                0.000000  \n",
              " 25%                0.000000  \n",
              " 50%                1.000000  \n",
              " 75%                5.000000  \n",
              " max              105.000000  )"
            ]
          },
          "metadata": {},
          "execution_count": 170
        }
      ]
    },
    {
      "cell_type": "code",
      "source": [
        "df.info()"
      ],
      "metadata": {
        "colab": {
          "base_uri": "https://localhost:8080/"
        },
        "id": "j8m-b8-WuCN9",
        "outputId": "24caade8-2a34-46aa-c7f4-d9d7facedc7c"
      },
      "execution_count": null,
      "outputs": [
        {
          "output_type": "stream",
          "name": "stdout",
          "text": [
            "<class 'pandas.core.frame.DataFrame'>\n",
            "RangeIndex: 10242 entries, 0 to 10241\n",
            "Data columns (total 12 columns):\n",
            " #   Column                      Non-Null Count  Dtype  \n",
            "---  ------                      --------------  -----  \n",
            " 0   label                       10240 non-null  object \n",
            " 1   statement                   10240 non-null  object \n",
            " 2   subject(s)                  10238 non-null  object \n",
            " 3   speaker                     10238 non-null  object \n",
            " 4   total_credit_history_count  10238 non-null  object \n",
            " 5   barely_true_counts          10238 non-null  float64\n",
            " 6   false_counts                10238 non-null  float64\n",
            " 7   half_true_counts            10238 non-null  float64\n",
            " 8   mostly_true_counts          10238 non-null  float64\n",
            " 9   pants_on_fire_counts        10238 non-null  float64\n",
            " 10  context                     10138 non-null  object \n",
            " 11  extracted_justification     10154 non-null  object \n",
            "dtypes: float64(5), object(7)\n",
            "memory usage: 960.3+ KB\n"
          ]
        }
      ]
    },
    {
      "cell_type": "code",
      "source": [
        "df_test.info()"
      ],
      "metadata": {
        "colab": {
          "base_uri": "https://localhost:8080/"
        },
        "id": "DHXhQUYouDGV",
        "outputId": "d455b42c-16f0-4660-f6ae-7c74035908b0"
      },
      "execution_count": null,
      "outputs": [
        {
          "output_type": "stream",
          "name": "stdout",
          "text": [
            "<class 'pandas.core.frame.DataFrame'>\n",
            "RangeIndex: 1267 entries, 0 to 1266\n",
            "Data columns (total 12 columns):\n",
            " #   Column                      Non-Null Count  Dtype \n",
            "---  ------                      --------------  ----- \n",
            " 0   label                       1267 non-null   object\n",
            " 1   statement                   1267 non-null   object\n",
            " 2   subject(s)                  1267 non-null   object\n",
            " 3   speaker                     1267 non-null   object\n",
            " 4   total_credit_history_count  1267 non-null   object\n",
            " 5   barely_true_counts          1267 non-null   int64 \n",
            " 6   false_counts                1267 non-null   int64 \n",
            " 7   half_true_counts            1267 non-null   int64 \n",
            " 8   mostly_true_counts          1267 non-null   int64 \n",
            " 9   pants_on_fire_counts        1267 non-null   int64 \n",
            " 10  context                     1250 non-null   object\n",
            " 11  extracted_justification     1258 non-null   object\n",
            "dtypes: int64(5), object(7)\n",
            "memory usage: 118.9+ KB\n"
          ]
        }
      ]
    },
    {
      "cell_type": "code",
      "source": [
        "df_val.info()"
      ],
      "metadata": {
        "colab": {
          "base_uri": "https://localhost:8080/"
        },
        "id": "YkZn6h0YuFVD",
        "outputId": "8424e4ad-cb3c-420d-f626-44f4b8caa894"
      },
      "execution_count": null,
      "outputs": [
        {
          "output_type": "stream",
          "name": "stdout",
          "text": [
            "<class 'pandas.core.frame.DataFrame'>\n",
            "RangeIndex: 1284 entries, 0 to 1283\n",
            "Data columns (total 12 columns):\n",
            " #   Column                      Non-Null Count  Dtype \n",
            "---  ------                      --------------  ----- \n",
            " 0   label                       1284 non-null   object\n",
            " 1   statement                   1284 non-null   object\n",
            " 2   subject(s)                  1284 non-null   object\n",
            " 3   speaker                     1284 non-null   object\n",
            " 4   total_credit_history_count  1284 non-null   object\n",
            " 5   barely_true_counts          1284 non-null   int64 \n",
            " 6   false_counts                1284 non-null   int64 \n",
            " 7   half_true_counts            1284 non-null   int64 \n",
            " 8   mostly_true_counts          1284 non-null   int64 \n",
            " 9   pants_on_fire_counts        1284 non-null   int64 \n",
            " 10  context                     1272 non-null   object\n",
            " 11  extracted_justification     1280 non-null   object\n",
            "dtypes: int64(5), object(7)\n",
            "memory usage: 120.5+ KB\n"
          ]
        }
      ]
    },
    {
      "cell_type": "markdown",
      "source": [
        "# Préparation des données"
      ],
      "metadata": {
        "id": "PRyCSSXwJNig"
      }
    },
    {
      "cell_type": "markdown",
      "source": [
        "## Traitement des valeurs manquantes pour df (Training test)"
      ],
      "metadata": {
        "id": "vhAh4O49tWc_"
      }
    },
    {
      "cell_type": "code",
      "source": [
        "colonne = ['label','subject(s)','total_credit_history_count','speaker','barely_true_counts','false_counts','half_true_counts','mostly_true_counts','pants_on_fire_counts','extracted_justification']"
      ],
      "metadata": {
        "id": "ds6Ng8rIskzM"
      },
      "execution_count": null,
      "outputs": []
    },
    {
      "cell_type": "code",
      "source": [
        "df.dropna(subset=colonne,inplace = True)"
      ],
      "metadata": {
        "id": "v67jnyfFtiZ1"
      },
      "execution_count": null,
      "outputs": []
    },
    {
      "cell_type": "code",
      "source": [
        "df['statement'] = df['statement'].fillna(\"No Statement\")"
      ],
      "metadata": {
        "id": "yVmCcCEg02cO"
      },
      "execution_count": null,
      "outputs": []
    },
    {
      "cell_type": "code",
      "source": [
        "df['context '].fillna('Contexte non disponible',inplace = True)"
      ],
      "metadata": {
        "id": "gBzfOHYGtkkT"
      },
      "execution_count": null,
      "outputs": []
    },
    {
      "cell_type": "code",
      "source": [
        "print(\"Percentage of missing values of the Train Data:\\n\")\n",
        "missing_percentages = (df.isnull().mean(axis=0)*100).sort_values()\n",
        "for col_name, percent in missing_percentages.items():\n",
        "    print(f\"{col_name}: {percent:.2f}%\")"
      ],
      "metadata": {
        "colab": {
          "base_uri": "https://localhost:8080/"
        },
        "id": "lrzfB_oduO3-",
        "outputId": "6d6c4449-2d75-44d3-b051-2887943b68b0"
      },
      "execution_count": null,
      "outputs": [
        {
          "output_type": "stream",
          "name": "stdout",
          "text": [
            "Percentage of missing values of the Train Data:\n",
            "\n",
            "label: 0.00%\n",
            "statement: 0.00%\n",
            "subject(s): 0.00%\n",
            "speaker: 0.00%\n",
            "total_credit_history_count: 0.00%\n",
            "barely_true_counts: 0.00%\n",
            "false_counts: 0.00%\n",
            "half_true_counts: 0.00%\n",
            "mostly_true_counts: 0.00%\n",
            "pants_on_fire_counts: 0.00%\n",
            "context : 0.00%\n",
            "extracted_justification: 0.00%\n"
          ]
        }
      ]
    },
    {
      "cell_type": "markdown",
      "source": [
        "#Traitement des valeurs manquantes pour df_test (Testing set)"
      ],
      "metadata": {
        "id": "qXXjlXpWuTg2"
      }
    },
    {
      "cell_type": "code",
      "source": [
        "print(\"Percentage of missing values of the Test Data:\\n\")\n",
        "missing_percentages = (df_test.isnull().mean(axis=0)*100).sort_values()\n",
        "for col_name, percent in missing_percentages.items():\n",
        "    print(f\"{col_name}: {percent:.2f}%\")"
      ],
      "metadata": {
        "colab": {
          "base_uri": "https://localhost:8080/"
        },
        "id": "72iIp-OZuX_-",
        "outputId": "3d00e78d-e692-4bfd-baf1-1b1fd00b4f9a"
      },
      "execution_count": null,
      "outputs": [
        {
          "output_type": "stream",
          "name": "stdout",
          "text": [
            "Percentage of missing values of the Test Data:\n",
            "\n",
            "label: 0.00%\n",
            "statement: 0.00%\n",
            "subject(s): 0.00%\n",
            "speaker: 0.00%\n",
            "total_credit_history_count: 0.00%\n",
            "barely_true_counts: 0.00%\n",
            "false_counts: 0.00%\n",
            "half_true_counts: 0.00%\n",
            "mostly_true_counts: 0.00%\n",
            "pants_on_fire_counts: 0.00%\n",
            "extracted_justification: 0.71%\n",
            "context : 1.34%\n"
          ]
        }
      ]
    },
    {
      "cell_type": "code",
      "source": [
        "df_test.dropna(subset=['extracted_justification'],inplace = True)"
      ],
      "metadata": {
        "id": "Lx90bReVucW_"
      },
      "execution_count": null,
      "outputs": []
    },
    {
      "cell_type": "code",
      "source": [
        "df_test['context '].fillna('Contexte non disponible',inplace = True)"
      ],
      "metadata": {
        "id": "qPll5ODnue4k"
      },
      "execution_count": null,
      "outputs": []
    },
    {
      "cell_type": "code",
      "source": [
        "print(\"Percentage of missing values of the Test Data:\\n\")\n",
        "missing_percentages = (df_test.isnull().mean(axis=0)*100).sort_values()\n",
        "for col_name, percent in missing_percentages.items():\n",
        "    print(f\"{col_name}: {percent:.2f}%\")"
      ],
      "metadata": {
        "colab": {
          "base_uri": "https://localhost:8080/"
        },
        "id": "5dn8g3bDuup9",
        "outputId": "fbc5f8f0-1d3b-4ec7-e840-747ac6e6cd4c"
      },
      "execution_count": null,
      "outputs": [
        {
          "output_type": "stream",
          "name": "stdout",
          "text": [
            "Percentage of missing values of the Test Data:\n",
            "\n",
            "label: 0.00%\n",
            "statement: 0.00%\n",
            "subject(s): 0.00%\n",
            "speaker: 0.00%\n",
            "total_credit_history_count: 0.00%\n",
            "barely_true_counts: 0.00%\n",
            "false_counts: 0.00%\n",
            "half_true_counts: 0.00%\n",
            "mostly_true_counts: 0.00%\n",
            "pants_on_fire_counts: 0.00%\n",
            "context : 0.00%\n",
            "extracted_justification: 0.00%\n"
          ]
        }
      ]
    },
    {
      "cell_type": "markdown",
      "source": [
        "#Traitement des valeurs manquantes pour df_val (Validation set)\n"
      ],
      "metadata": {
        "id": "-NCca4uruhul"
      }
    },
    {
      "cell_type": "code",
      "source": [
        "print(\"Percentage of missing values of the Validation Data:\\n\")\n",
        "missing_percentages = (df_val.isnull().mean(axis=0)*100).sort_values()\n",
        "for col_name, percent in missing_percentages.items():\n",
        "    print(f\"{col_name}: {percent:.2f}%\")"
      ],
      "metadata": {
        "colab": {
          "base_uri": "https://localhost:8080/"
        },
        "id": "yMWWHzq9ukFP",
        "outputId": "d77402da-7366-4b68-be2c-6acd97b27e5b"
      },
      "execution_count": null,
      "outputs": [
        {
          "output_type": "stream",
          "name": "stdout",
          "text": [
            "Percentage of missing values of the Validation Data:\n",
            "\n",
            "label: 0.00%\n",
            "statement: 0.00%\n",
            "subject(s): 0.00%\n",
            "speaker: 0.00%\n",
            "total_credit_history_count: 0.00%\n",
            "barely_true_counts: 0.00%\n",
            "false_counts: 0.00%\n",
            "half_true_counts: 0.00%\n",
            "mostly_true_counts: 0.00%\n",
            "pants_on_fire_counts: 0.00%\n",
            "extracted_justification: 0.31%\n",
            "context : 0.93%\n"
          ]
        }
      ]
    },
    {
      "cell_type": "code",
      "source": [
        "df_val.dropna(subset=['extracted_justification'],inplace = True)"
      ],
      "metadata": {
        "id": "HnXrYtceuoAm"
      },
      "execution_count": null,
      "outputs": []
    },
    {
      "cell_type": "code",
      "source": [
        "df_val['context '].fillna('Contexte non disponible',inplace = True)"
      ],
      "metadata": {
        "id": "VfiRFOPauqGs"
      },
      "execution_count": null,
      "outputs": []
    },
    {
      "cell_type": "code",
      "source": [
        "print(\"Percentage of missing values of the Validation Data:\\n\")\n",
        "missing_percentages = (df_val.isnull().mean(axis=0)*100).sort_values()\n",
        "for col_name, percent in missing_percentages.items():\n",
        "    print(f\"{col_name}: {percent:.2f}%\")"
      ],
      "metadata": {
        "colab": {
          "base_uri": "https://localhost:8080/"
        },
        "id": "iS3jC03OusDT",
        "outputId": "26caab0a-aea6-4f7d-933a-609e03a04f28"
      },
      "execution_count": null,
      "outputs": [
        {
          "output_type": "stream",
          "name": "stdout",
          "text": [
            "Percentage of missing values of the Validation Data:\n",
            "\n",
            "label: 0.00%\n",
            "statement: 0.00%\n",
            "subject(s): 0.00%\n",
            "speaker: 0.00%\n",
            "total_credit_history_count: 0.00%\n",
            "barely_true_counts: 0.00%\n",
            "false_counts: 0.00%\n",
            "half_true_counts: 0.00%\n",
            "mostly_true_counts: 0.00%\n",
            "pants_on_fire_counts: 0.00%\n",
            "context : 0.00%\n",
            "extracted_justification: 0.00%\n"
          ]
        }
      ]
    },
    {
      "cell_type": "code",
      "source": [
        "df.shape\n",
        "df_test.shape\n",
        "df_val.shape"
      ],
      "metadata": {
        "colab": {
          "base_uri": "https://localhost:8080/"
        },
        "id": "xZOgJvE7vjiC",
        "outputId": "03c5d87a-46ba-4578-86e3-714f8dbc5c20"
      },
      "execution_count": null,
      "outputs": [
        {
          "output_type": "execute_result",
          "data": {
            "text/plain": [
              "(1280, 12)"
            ]
          },
          "metadata": {},
          "execution_count": 187
        }
      ]
    },
    {
      "cell_type": "code",
      "source": [
        "df.info()"
      ],
      "metadata": {
        "colab": {
          "base_uri": "https://localhost:8080/"
        },
        "id": "ErW5EljvvzF5",
        "outputId": "2af2c6e8-884b-4e35-f014-24aa02e127f3"
      },
      "execution_count": null,
      "outputs": [
        {
          "output_type": "stream",
          "name": "stdout",
          "text": [
            "<class 'pandas.core.frame.DataFrame'>\n",
            "Int64Index: 10154 entries, 0 to 10241\n",
            "Data columns (total 12 columns):\n",
            " #   Column                      Non-Null Count  Dtype  \n",
            "---  ------                      --------------  -----  \n",
            " 0   label                       10154 non-null  object \n",
            " 1   statement                   10154 non-null  object \n",
            " 2   subject(s)                  10154 non-null  object \n",
            " 3   speaker                     10154 non-null  object \n",
            " 4   total_credit_history_count  10154 non-null  object \n",
            " 5   barely_true_counts          10154 non-null  float64\n",
            " 6   false_counts                10154 non-null  float64\n",
            " 7   half_true_counts            10154 non-null  float64\n",
            " 8   mostly_true_counts          10154 non-null  float64\n",
            " 9   pants_on_fire_counts        10154 non-null  float64\n",
            " 10  context                     10154 non-null  object \n",
            " 11  extracted_justification     10154 non-null  object \n",
            "dtypes: float64(5), object(7)\n",
            "memory usage: 1.0+ MB\n"
          ]
        }
      ]
    },
    {
      "cell_type": "code",
      "source": [
        "df_test.info()"
      ],
      "metadata": {
        "colab": {
          "base_uri": "https://localhost:8080/"
        },
        "id": "mNj_VgIBxe6t",
        "outputId": "ea9f1b0e-b797-4f78-853a-c78d60d6a6f4"
      },
      "execution_count": null,
      "outputs": [
        {
          "output_type": "stream",
          "name": "stdout",
          "text": [
            "<class 'pandas.core.frame.DataFrame'>\n",
            "Int64Index: 1258 entries, 0 to 1266\n",
            "Data columns (total 12 columns):\n",
            " #   Column                      Non-Null Count  Dtype \n",
            "---  ------                      --------------  ----- \n",
            " 0   label                       1258 non-null   object\n",
            " 1   statement                   1258 non-null   object\n",
            " 2   subject(s)                  1258 non-null   object\n",
            " 3   speaker                     1258 non-null   object\n",
            " 4   total_credit_history_count  1258 non-null   object\n",
            " 5   barely_true_counts          1258 non-null   int64 \n",
            " 6   false_counts                1258 non-null   int64 \n",
            " 7   half_true_counts            1258 non-null   int64 \n",
            " 8   mostly_true_counts          1258 non-null   int64 \n",
            " 9   pants_on_fire_counts        1258 non-null   int64 \n",
            " 10  context                     1258 non-null   object\n",
            " 11  extracted_justification     1258 non-null   object\n",
            "dtypes: int64(5), object(7)\n",
            "memory usage: 127.8+ KB\n"
          ]
        }
      ]
    },
    {
      "cell_type": "markdown",
      "source": [
        "### Conversion de Dtypes"
      ],
      "metadata": {
        "id": "-VrsRVzsKPmA"
      }
    },
    {
      "cell_type": "markdown",
      "source": [
        "# Partie 1 : Classification Non Supervisée:  \n",
        "Dans cette première partie, l'objectif est d'appliquer l'algorithme K-Means pour la détection non supervisée des Fake-news en se limitant à la colonne « statement »."
      ],
      "metadata": {
        "id": "z24K4bFSa32W"
      }
    },
    {
      "cell_type": "code",
      "source": [
        "from sklearn.decomposition import PCA\n",
        "from sklearn.feature_extraction.text import TfidfVectorizer\n",
        "from sklearn.cluster import KMeans\n",
        "from nltk.corpus import stopwords\n",
        "from nltk.stem import WordNetLemmatizer\n",
        "\n",
        "import nltk\n",
        "nltk.download('stopwords')\n",
        "nltk.download('wordnet')"
      ],
      "metadata": {
        "id": "ZwxrQ2gTZozN",
        "colab": {
          "base_uri": "https://localhost:8080/"
        },
        "outputId": "db6a300d-736e-4a99-c1cd-00fd233fb3b5"
      },
      "execution_count": null,
      "outputs": [
        {
          "output_type": "stream",
          "name": "stderr",
          "text": [
            "[nltk_data] Downloading package stopwords to /root/nltk_data...\n",
            "[nltk_data]   Package stopwords is already up-to-date!\n",
            "[nltk_data] Downloading package wordnet to /root/nltk_data...\n",
            "[nltk_data]   Package wordnet is already up-to-date!\n"
          ]
        },
        {
          "output_type": "execute_result",
          "data": {
            "text/plain": [
              "True"
            ]
          },
          "metadata": {},
          "execution_count": 105
        }
      ]
    },
    {
      "cell_type": "code",
      "source": [
        "# élumination des stop words\n",
        "stop_words = set(stopwords.words('english'))\n",
        "\n",
        "df['processed_statement'] = df['statement'].apply(\n",
        "    lambda x: ' '.join([word for word in x.split() if word.lower() not in stop_words])\n",
        ")"
      ],
      "metadata": {
        "id": "99GVWa5jdFdw"
      },
      "execution_count": null,
      "outputs": []
    },
    {
      "cell_type": "markdown",
      "source": [
        "#### With TF-IDF : Fréquence des mots"
      ],
      "metadata": {
        "id": "TJty8IalLdm9"
      }
    },
    {
      "cell_type": "code",
      "source": [
        "# Create a TF-IDF vectorizer\n",
        "vectorizer = TfidfVectorizer()\n",
        "\n",
        "# Transform the text data into numerical features\n",
        "X = vectorizer.fit_transform(df['processed_statement'])\n",
        "\n",
        "# Apply PCA to reduce dimensionality\n",
        "pca = PCA(n_components=3)  # You can adjust the number of components as needed\n",
        "X_pca = pca.fit_transform(X.toarray())\n",
        "\n",
        "# Create a DataFrame with the PCA-transformed data\n",
        "df_pca = pd.DataFrame(X_pca, columns=['PCA1', 'PCA2', 'PCA3'])\n",
        "\n",
        "# Print the result\n",
        "print(df_pca)"
      ],
      "metadata": {
        "colab": {
          "base_uri": "https://localhost:8080/"
        },
        "id": "nqqOLk4MZsX3",
        "outputId": "a0b40717-da39-47a7-8c4a-02d76208667b"
      },
      "execution_count": null,
      "outputs": [
        {
          "output_type": "stream",
          "name": "stdout",
          "text": [
            "           PCA1      PCA2      PCA3\n",
            "0     -0.018193  0.019839 -0.058081\n",
            "1     -0.025473  0.097896  0.033159\n",
            "2     -0.026727  0.052007 -0.051726\n",
            "3      0.289630 -0.017856 -0.023739\n",
            "4     -0.017600  0.003828 -0.022737\n",
            "...         ...       ...       ...\n",
            "10149 -0.020640 -0.020818 -0.034301\n",
            "10150 -0.019672 -0.012093 -0.029163\n",
            "10151 -0.025533  0.008926 -0.080887\n",
            "10152 -0.017632 -0.003804 -0.031087\n",
            "10153 -0.012519 -0.005332 -0.039076\n",
            "\n",
            "[10154 rows x 3 columns]\n"
          ]
        }
      ]
    },
    {
      "cell_type": "code",
      "source": [
        "# Trouver le nombre optimal de clusters avec la méthode du coude (Elbow Method)\n",
        "inertia_values = []\n",
        "for i in range(1, 11):  # Essayez différents nombres de clusters\n",
        "    kmeans = KMeans(n_clusters=i, random_state=42, n_init=10)\n",
        "    kmeans.fit(X_pca)\n",
        "    inertia_values.append(kmeans.inertia_)\n",
        "\n",
        "# Tracer la courbe du coude\n",
        "plt.plot(range(1, 11), inertia_values, marker='o')\n",
        "plt.xlabel('Nombre de clusters')\n",
        "plt.ylabel('Inertie')\n",
        "plt.title('Méthode du coude pour le nombre optimal de clusters')\n",
        "plt.show()"
      ],
      "metadata": {
        "id": "yKlTGQr-Zs_L",
        "colab": {
          "base_uri": "https://localhost:8080/",
          "height": 472
        },
        "outputId": "a0cc59a4-3694-4a3e-ba75-28995a933736"
      },
      "execution_count": null,
      "outputs": [
        {
          "output_type": "display_data",
          "data": {
            "text/plain": [
              "<Figure size 640x480 with 1 Axes>"
            ],
            "image/png": "[encoded data removed]"
          },
          "metadata": {}
        }
      ]
    },
    {
      "cell_type": "code",
      "source": [
        "# Choisissez le nombre optimal de clusters basé sur la méthode du coude\n",
        "optimal_clusters = 4  # Mettez à jour avec le nombre trouvé à partir de la méthode du coude\n",
        "\n",
        "# Entraînez K-Means avec le nombre optimal de clusters\n",
        "kmeans = KMeans(n_clusters=optimal_clusters, random_state=42, n_init=10)\n",
        "kmeans.fit(X_pca)\n"
      ],
      "metadata": {
        "id": "CNfdDbuVZ-Sc",
        "colab": {
          "base_uri": "https://localhost:8080/",
          "height": 75
        },
        "outputId": "fc4064b9-3347-4d41-88e4-385770892a35"
      },
      "execution_count": null,
      "outputs": [
        {
          "output_type": "execute_result",
          "data": {
            "text/plain": [
              "KMeans(n_clusters=4, n_init=10, random_state=42)"
            ],
            "text/html": [
              "<style>#sk-container-id-1 {color: black;background-color: white;}#sk-container-id-1 pre{padding: 0;}#sk-container-id-1 div.sk-toggleable {background-color: white;}#sk-container-id-1 label.sk-toggleable__label {cursor: pointer;display: block;width: 100%;margin-bottom: 0;padding: 0.3em;box-sizing: border-box;text-align: center;}#sk-container-id-1 label.sk-toggleable__label-arrow:before {content: \"▸\";float: left;margin-right: 0.25em;color: #696969;}#sk-container-id-1 label.sk-toggleable__label-arrow:hover:before {color: black;}#sk-container-id-1 div.sk-estimator:hover label.sk-toggleable__label-arrow:before {color: black;}#sk-container-id-1 div.sk-toggleable__content {max-height: 0;max-width: 0;overflow: hidden;text-align: left;background-color: #f0f8ff;}#sk-container-id-1 div.sk-toggleable__content pre {margin: 0.2em;color: black;border-radius: 0.25em;background-color: #f0f8ff;}#sk-container-id-1 input.sk-toggleable__control:checked~div.sk-toggleable__content {max-height: 200px;max-width: 100%;overflow: auto;}#sk-container-id-1 input.sk-toggleable__control:checked~label.sk-toggleable__label-arrow:before {content: \"▾\";}#sk-container-id-1 div.sk-estimator input.sk-toggleable__control:checked~label.sk-toggleable__label {background-color: #d4ebff;}#sk-container-id-1 div.sk-label input.sk-toggleable__control:checked~label.sk-toggleable__label {background-color: #d4ebff;}#sk-container-id-1 input.sk-hidden--visually {border: 0;clip: rect(1px 1px 1px 1px);clip: rect(1px, 1px, 1px, 1px);height: 1px;margin: -1px;overflow: hidden;padding: 0;position: absolute;width: 1px;}#sk-container-id-1 div.sk-estimator {font-family: monospace;background-color: #f0f8ff;border: 1px dotted black;border-radius: 0.25em;box-sizing: border-box;margin-bottom: 0.5em;}#sk-container-id-1 div.sk-estimator:hover {background-color: #d4ebff;}#sk-container-id-1 div.sk-parallel-item::after {content: \"\";width: 100%;border-bottom: 1px solid gray;flex-grow: 1;}#sk-container-id-1 div.sk-label:hover label.sk-toggleable__label {background-color: #d4ebff;}#sk-container-id-1 div.sk-serial::before {content: \"\";position: absolute;border-left: 1px solid gray;box-sizing: border-box;top: 0;bottom: 0;left: 50%;z-index: 0;}#sk-container-id-1 div.sk-serial {display: flex;flex-direction: column;align-items: center;background-color: white;padding-right: 0.2em;padding-left: 0.2em;position: relative;}#sk-container-id-1 div.sk-item {position: relative;z-index: 1;}#sk-container-id-1 div.sk-parallel {display: flex;align-items: stretch;justify-content: center;background-color: white;position: relative;}#sk-container-id-1 div.sk-item::before, #sk-container-id-1 div.sk-parallel-item::before {content: \"\";position: absolute;border-left: 1px solid gray;box-sizing: border-box;top: 0;bottom: 0;left: 50%;z-index: -1;}#sk-container-id-1 div.sk-parallel-item {display: flex;flex-direction: column;z-index: 1;position: relative;background-color: white;}#sk-container-id-1 div.sk-parallel-item:first-child::after {align-self: flex-end;width: 50%;}#sk-container-id-1 div.sk-parallel-item:last-child::after {align-self: flex-start;width: 50%;}#sk-container-id-1 div.sk-parallel-item:only-child::after {width: 0;}#sk-container-id-1 div.sk-dashed-wrapped {border: 1px dashed gray;margin: 0 0.4em 0.5em 0.4em;box-sizing: border-box;padding-bottom: 0.4em;background-color: white;}#sk-container-id-1 div.sk-label label {font-family: monospace;font-weight: bold;display: inline-block;line-height: 1.2em;}#sk-container-id-1 div.sk-label-container {text-align: center;}#sk-container-id-1 div.sk-container {/* jupyter's `normalize.less` sets `[hidden] { display: none; }` but bootstrap.min.css set `[hidden] { display: none !important; }` so we also need the `!important` here to be able to override the default hidden behavior on the sphinx rendered scikit-learn.org. See: https://github.com/scikit-learn/scikit-learn/issues/21755 */display: inline-block !important;position: relative;}#sk-container-id-1 div.sk-text-repr-fallback {display: none;}</style><div id=\"sk-container-id-1\" class=\"sk-top-container\"><div class=\"sk-text-repr-fallback\"><pre>KMeans(n_clusters=4, n_init=10, random_state=42)</pre><b>In a Jupyter environment, please rerun this cell to show the HTML representation or trust the notebook. <br />On GitHub, the HTML representation is unable to render, please try loading this page with nbviewer.org.</b></div><div class=\"sk-container\" hidden><div class=\"sk-item\"><div class=\"sk-estimator sk-toggleable\"><input class=\"sk-toggleable__control sk-hidden--visually\" id=\"sk-estimator-id-1\" type=\"checkbox\" checked><label for=\"sk-estimator-id-1\" class=\"sk-toggleable__label sk-toggleable__label-arrow\">KMeans</label><div class=\"sk-toggleable__content\"><pre>KMeans(n_clusters=4, n_init=10, random_state=42)</pre></div></div></div></div></div>"
            ]
          },
          "metadata": {},
          "execution_count": 109
        }
      ]
    },
    {
      "cell_type": "code",
      "source": [
        "# Tracer les clusters en 2D\n",
        "plt.scatter(X_pca[:, 0], X_pca[:, 1], c=kmeans.labels_, cmap='viridis')\n",
        "plt.scatter(kmeans.cluster_centers_[:, 0], kmeans.cluster_centers_[:, 1], marker='X', s=200, c='red', label='Centroides')\n",
        "plt.xlabel('PCA1')\n",
        "plt.ylabel('PCA2')\n",
        "plt.title('Clustering K-Means')\n",
        "plt.legend()\n",
        "plt.show()\n"
      ],
      "metadata": {
        "id": "B1viZeSHaLfs",
        "colab": {
          "base_uri": "https://localhost:8080/",
          "height": 472
        },
        "outputId": "663c5777-6cb0-440d-bbba-48d3da75438a"
      },
      "execution_count": null,
      "outputs": [
        {
          "output_type": "display_data",
          "data": {
            "text/plain": [
              "<Figure size 640x480 with 1 Axes>"
            ],
            "image/png": "[encoded data removed]"
          },
          "metadata": {}
        }
      ]
    },
    {
      "cell_type": "code",
      "source": [
        "from sklearn.metrics import silhouette_score\n",
        "import matplotlib.pyplot as plt\n",
        "\n",
        "# Silhouette Score\n",
        "silhouette_avg = silhouette_score(X_pca, kmeans.labels_)\n",
        "print(\"Silhouette Score:\", silhouette_avg)\n",
        "\n",
        "# Visualization (for 2D PCA)\n",
        "plt.scatter(X_pca[:, 0], X_pca[:, 1], c=kmeans.labels_, cmap='viridis', alpha=0.5)\n",
        "plt.scatter(kmeans.cluster_centers_[:, 0], kmeans.cluster_centers_[:, 1], c='red', marker='x')\n",
        "plt.title(\"K-Means Clustering\")\n",
        "plt.show()\n"
      ],
      "metadata": {
        "id": "k6dpyq4uZntq"
      },
      "execution_count": null,
      "outputs": []
    },
    {
      "cell_type": "code",
      "source": [
        "from sklearn import metrics\n",
        "\n",
        "# Assuming you have a 'label' column in your DataFrame representing the real classes\n",
        "real_labels = df['label'].astype(str)\n",
        "\n",
        "# Calculate metrics\n",
        "precision = metrics.precision_score(real_labels, kmeans.labels_, average='weighted')\n",
        "recall = metrics.recall_score(real_labels, kmeans.labels_, average='weighted')\n",
        "f1_score = metrics.f1_score(real_labels, kmeans.labels_, average='weighted')\n",
        "\n",
        "# Print evaluation metrics\n",
        "print(\"Precision:\", precision)\n",
        "print(\"Recall:\", recall)\n",
        "print(\"F1-score:\", f1_score)"
      ],
      "metadata": {
        "id": "TN8CaXlWaOcL"
      },
      "execution_count": null,
      "outputs": []
    },
    {
      "cell_type": "markdown",
      "source": [
        "#### With Word2Vec ---> Word Embedding : semantic representations learned"
      ],
      "metadata": {
        "id": "EbM1xJBbLH3n"
      }
    },
    {
      "cell_type": "code",
      "source": [
        "from gensim.models import Word2Vec\n",
        "from sklearn.decomposition import PCA\n",
        "from sklearn.cluster import KMeans\n",
        "import matplotlib.pyplot as plt\n",
        "\n",
        "# Tokenize the text into words (you may need to preprocess your data further)\n",
        "tokenized_text = [sentence.split() for sentence in df['processed_statement']]\n",
        "\n",
        "# Train Word2Vec model\n",
        "word2vec_model = Word2Vec(sentences=tokenized_text, vector_size=100, window=5, min_count=1, workers=4)\n",
        "\n",
        "# Get word embeddings for each word\n",
        "word_embeddings = {word: word2vec_model.wv[word] for word in word2vec_model.wv.index_to_key}\n",
        "\n",
        "# Create document embeddings by averaging word embeddings\n",
        "document_embeddings = [sum(word_embeddings[word] for word in sentence) / len(sentence) for sentence in tokenized_text]\n",
        "\n",
        "# PCA for dimensionality reduction\n",
        "pca = PCA(n_components=2)\n",
        "X_pca = pca.fit_transform(document_embeddings)\n",
        "\n",
        "# Determine the optimal number of clusters using the elbow method\n",
        "inertia_values = []\n",
        "for i in range(1, 11):\n",
        "    kmeans = KMeans(n_clusters=i, random_state=42, n_init=10)\n",
        "    kmeans.fit(X_pca)\n",
        "    inertia_values.append(kmeans.inertia_)\n",
        "\n",
        "# Plot the elbow curve\n",
        "plt.plot(range(1, 11), inertia_values, marker='o')\n",
        "plt.xlabel('Number of Clusters')\n",
        "plt.ylabel('Inertia')\n",
        "plt.title('Elbow Method for Optimal Cluster Number')\n",
        "plt.show()"
      ],
      "metadata": {
        "id": "X4B7atVYaRRv"
      },
      "execution_count": null,
      "outputs": []
    },
    {
      "cell_type": "code",
      "source": [
        "# Choose the optimal number of clusters (e.g., from the plot)\n",
        "optimal_clusters = 2\n",
        "\n",
        "# Apply K-Means with the optimal number of clusters\n",
        "kmeans = KMeans(n_clusters=optimal_clusters, random_state=42, n_init=10)\n",
        "labels = kmeans.fit_predict(X_pca)\n",
        "\n",
        "# Visualize the clusters\n",
        "plt.scatter(X_pca[:, 0], X_pca[:, 1], c=labels, cmap='viridis')\n",
        "plt.title('Word2Vec and K-Means Clustering of Textual Data')\n",
        "plt.show()\n"
      ],
      "metadata": {
        "id": "TqflnnwUEAGx"
      },
      "execution_count": null,
      "outputs": []
    },
    {
      "cell_type": "code",
      "source": [
        "from sklearn.metrics import silhouette_score\n",
        "import matplotlib.pyplot as plt\n",
        "\n",
        "# Assuming 'X_pca' and 'kmeans' are already defined\n",
        "\n",
        "# Step 5: Verify Clusters\n",
        "# Silhouette Score\n",
        "silhouette_avg = silhouette_score(X_pca, kmeans.labels_)\n",
        "print(\"Silhouette Score:\", silhouette_avg)\n",
        "\n",
        "# Visualization (for 2D PCA)\n",
        "plt.scatter(X_pca[:, 0], X_pca[:, 1], c=kmeans.labels_, cmap='viridis', alpha=0.5)\n",
        "plt.scatter(kmeans.cluster_centers_[:, 0], kmeans.cluster_centers_[:, 1], c='red', marker='x')\n",
        "plt.title(\"K-Means Clustering\")\n",
        "plt.show()\n"
      ],
      "metadata": {
        "id": "RgKDj30WZqjd"
      },
      "execution_count": null,
      "outputs": []
    },
    {
      "cell_type": "markdown",
      "source": [
        "# Partie 2 : Classification Supervisée"
      ],
      "metadata": {
        "id": "mjHY6KGKbaKn"
      }
    },
    {
      "cell_type": "code",
      "source": [
        "df.head()"
      ],
      "metadata": {
        "id": "SakXSr-aPQXG",
        "colab": {
          "base_uri": "https://localhost:8080/",
          "height": 293
        },
        "outputId": "b56c4931-ca92-489b-ca19-91b50c13f424"
      },
      "execution_count": null,
      "outputs": [
        {
          "output_type": "execute_result",
          "data": {
            "text/plain": [
              "         label                                          statement  \\\n",
              "0        false  Says the Annies List political group supports ...   \n",
              "1    half-true  When did the decline of coal start? It started...   \n",
              "2  mostly-true  Hillary Clinton agrees with John McCain \"by vo...   \n",
              "3        false  Health care reform legislation is likely to ma...   \n",
              "4    half-true  The economic turnaround started at the end of ...   \n",
              "\n",
              "                           subject(s)         speaker  \\\n",
              "0                            abortion    dwayne-bohac   \n",
              "1  energy,history,job-accomplishments  scott-surovell   \n",
              "2                      foreign-policy    barack-obama   \n",
              "3                         health-care    blog-posting   \n",
              "4                        economy,jobs   charlie-crist   \n",
              "\n",
              "  total_credit_history_count  barely_true_counts  false_counts  \\\n",
              "0                 republican                 0.0           1.0   \n",
              "1                   democrat                 0.0           0.0   \n",
              "2                   democrat                70.0          71.0   \n",
              "3                       none                 7.0          19.0   \n",
              "4                   democrat                15.0           9.0   \n",
              "\n",
              "   half_true_counts  mostly_true_counts  pants_on_fire_counts  \\\n",
              "0               0.0                 0.0                   0.0   \n",
              "1               1.0                 1.0                   0.0   \n",
              "2             160.0               163.0                   9.0   \n",
              "3               3.0                 5.0                  44.0   \n",
              "4              20.0                19.0                   2.0   \n",
              "\n",
              "              context                             extracted_justification  \n",
              "0             a mailer  That's a premise that he fails to back up. Ann...  \n",
              "1      a floor speech.  Surovell said the decline of coal \"started whe...  \n",
              "2               Denver  Obama said he would have voted against the ame...  \n",
              "3       a news release  The release may have a point that Mikulskis co...  \n",
              "4  an interview on CNN  Crist said that the economic \"turnaround start...  "
            ],
            "text/html": [
              "\n",
              "  <div id=\"df-e7826b77-6d17-4e1e-9377-fc21ca22ef5d\" class=\"colab-df-container\">\n",
              "    <div>\n",
              "<style scoped>\n",
              "    .dataframe tbody tr th:only-of-type {\n",
              "        vertical-align: middle;\n",
              "    }\n",
              "\n",
              "    .dataframe tbody tr th {\n",
              "        vertical-align: top;\n",
              "    }\n",
              "\n",
              "    .dataframe thead th {\n",
              "        text-align: right;\n",
              "    }\n",
              "</style>\n",
              "<table border=\"1\" class=\"dataframe\">\n",
              "  <thead>\n",
              "    <tr style=\"text-align: right;\">\n",
              "      <th></th>\n",
              "      <th>label</th>\n",
              "      <th>statement</th>\n",
              "      <th>subject(s)</th>\n",
              "      <th>speaker</th>\n",
              "      <th>total_credit_history_count</th>\n",
              "      <th>barely_true_counts</th>\n",
              "      <th>false_counts</th>\n",
              "      <th>half_true_counts</th>\n",
              "      <th>mostly_true_counts</th>\n",
              "      <th>pants_on_fire_counts</th>\n",
              "      <th>context</th>\n",
              "      <th>extracted_justification</th>\n",
              "    </tr>\n",
              "  </thead>\n",
              "  <tbody>\n",
              "    <tr>\n",
              "      <th>0</th>\n",
              "      <td>false</td>\n",
              "      <td>Says the Annies List political group supports ...</td>\n",
              "      <td>abortion</td>\n",
              "      <td>dwayne-bohac</td>\n",
              "      <td>republican</td>\n",
              "      <td>0.0</td>\n",
              "      <td>1.0</td>\n",
              "      <td>0.0</td>\n",
              "      <td>0.0</td>\n",
              "      <td>0.0</td>\n",
              "      <td>a mailer</td>\n",
              "      <td>That's a premise that he fails to back up. Ann...</td>\n",
              "    </tr>\n",
              "    <tr>\n",
              "      <th>1</th>\n",
              "      <td>half-true</td>\n",
              "      <td>When did the decline of coal start? It started...</td>\n",
              "      <td>energy,history,job-accomplishments</td>\n",
              "      <td>scott-surovell</td>\n",
              "      <td>democrat</td>\n",
              "      <td>0.0</td>\n",
              "      <td>0.0</td>\n",
              "      <td>1.0</td>\n",
              "      <td>1.0</td>\n",
              "      <td>0.0</td>\n",
              "      <td>a floor speech.</td>\n",
              "      <td>Surovell said the decline of coal \"started whe...</td>\n",
              "    </tr>\n",
              "    <tr>\n",
              "      <th>2</th>\n",
              "      <td>mostly-true</td>\n",
              "      <td>Hillary Clinton agrees with John McCain \"by vo...</td>\n",
              "      <td>foreign-policy</td>\n",
              "      <td>barack-obama</td>\n",
              "      <td>democrat</td>\n",
              "      <td>70.0</td>\n",
              "      <td>71.0</td>\n",
              "      <td>160.0</td>\n",
              "      <td>163.0</td>\n",
              "      <td>9.0</td>\n",
              "      <td>Denver</td>\n",
              "      <td>Obama said he would have voted against the ame...</td>\n",
              "    </tr>\n",
              "    <tr>\n",
              "      <th>3</th>\n",
              "      <td>false</td>\n",
              "      <td>Health care reform legislation is likely to ma...</td>\n",
              "      <td>health-care</td>\n",
              "      <td>blog-posting</td>\n",
              "      <td>none</td>\n",
              "      <td>7.0</td>\n",
              "      <td>19.0</td>\n",
              "      <td>3.0</td>\n",
              "      <td>5.0</td>\n",
              "      <td>44.0</td>\n",
              "      <td>a news release</td>\n",
              "      <td>The release may have a point that Mikulskis co...</td>\n",
              "    </tr>\n",
              "    <tr>\n",
              "      <th>4</th>\n",
              "      <td>half-true</td>\n",
              "      <td>The economic turnaround started at the end of ...</td>\n",
              "      <td>economy,jobs</td>\n",
              "      <td>charlie-crist</td>\n",
              "      <td>democrat</td>\n",
              "      <td>15.0</td>\n",
              "      <td>9.0</td>\n",
              "      <td>20.0</td>\n",
              "      <td>19.0</td>\n",
              "      <td>2.0</td>\n",
              "      <td>an interview on CNN</td>\n",
              "      <td>Crist said that the economic \"turnaround start...</td>\n",
              "    </tr>\n",
              "  </tbody>\n",
              "</table>\n",
              "</div>\n",
              "    <div class=\"colab-df-buttons\">\n",
              "\n",
              "  <div class=\"colab-df-container\">\n",
              "    <button class=\"colab-df-convert\" onclick=\"convertToInteractive('df-e7826b77-6d17-4e1e-9377-fc21ca22ef5d')\"\n",
              "            title=\"Convert this dataframe to an interactive table.\"\n",
              "            style=\"display:none;\">\n",
              "\n",
              "  <svg xmlns=\"http://www.w3.org/2000/svg\" height=\"24px\" viewBox=\"0 -960 960 960\">\n",
              "    <path d=\"M120-120v-720h720v720H120Zm60-500h600v-160H180v160Zm220 220h160v-160H400v160Zm0 220h160v-160H400v160ZM180-400h160v-160H180v160Zm440 0h160v-160H620v160ZM180-180h160v-160H180v160Zm440 0h160v-160H620v160Z\"/>\n",
              "  </svg>\n",
              "    </button>\n",
              "\n",
              "  <style>\n",
              "    .colab-df-container {\n",
              "      display:flex;\n",
              "      gap: 12px;\n",
              "    }\n",
              "\n",
              "    .colab-df-convert {\n",
              "      background-color: #E8F0FE;\n",
              "      border: none;\n",
              "      border-radius: 50%;\n",
              "      cursor: pointer;\n",
              "      display: none;\n",
              "      fill: #1967D2;\n",
              "      height: 32px;\n",
              "      padding: 0 0 0 0;\n",
              "      width: 32px;\n",
              "    }\n",
              "\n",
              "    .colab-df-convert:hover {\n",
              "      background-color: #E2EBFA;\n",
              "      box-shadow: 0px 1px 2px rgba(60, 64, 67, 0.3), 0px 1px 3px 1px rgba(60, 64, 67, 0.15);\n",
              "      fill: #174EA6;\n",
              "    }\n",
              "\n",
              "    .colab-df-buttons div {\n",
              "      margin-bottom: 4px;\n",
              "    }\n",
              "\n",
              "    [theme=dark] .colab-df-convert {\n",
              "      background-color: #3B4455;\n",
              "      fill: #D2E3FC;\n",
              "    }\n",
              "\n",
              "    [theme=dark] .colab-df-convert:hover {\n",
              "      background-color: #434B5C;\n",
              "      box-shadow: 0px 1px 3px 1px rgba(0, 0, 0, 0.15);\n",
              "      filter: drop-shadow(0px 1px 2px rgba(0, 0, 0, 0.3));\n",
              "      fill: #FFFFFF;\n",
              "    }\n",
              "  </style>\n",
              "\n",
              "    <script>\n",
              "      const buttonEl =\n",
              "        document.querySelector('#df-e7826b77-6d17-4e1e-9377-fc21ca22ef5d button.colab-df-convert');\n",
              "      buttonEl.style.display =\n",
              "        google.colab.kernel.accessAllowed ? 'block' : 'none';\n",
              "\n",
              "      async function convertToInteractive(key) {\n",
              "        const element = document.querySelector('#df-e7826b77-6d17-4e1e-9377-fc21ca22ef5d');\n",
              "        const dataTable =\n",
              "          await google.colab.kernel.invokeFunction('convertToInteractive',\n",
              "                                                    [key], {});\n",
              "        if (!dataTable) return;\n",
              "\n",
              "        const docLinkHtml = 'Like what you see? Visit the ' +\n",
              "          '<a target=\"_blank\" href=https://colab.research.google.com/notebooks/data_table.ipynb>data table notebook</a>'\n",
              "          + ' to learn more about interactive tables.';\n",
              "        element.innerHTML = '';\n",
              "        dataTable['output_type'] = 'display_data';\n",
              "        await google.colab.output.renderOutput(dataTable, element);\n",
              "        const docLink = document.createElement('div');\n",
              "        docLink.innerHTML = docLinkHtml;\n",
              "        element.appendChild(docLink);\n",
              "      }\n",
              "    </script>\n",
              "  </div>\n",
              "\n",
              "\n",
              "<div id=\"df-4d251a63-cdff-4058-b8e6-e34ae2fcc0c8\">\n",
              "  <button class=\"colab-df-quickchart\" onclick=\"quickchart('df-4d251a63-cdff-4058-b8e6-e34ae2fcc0c8')\"\n",
              "            title=\"Suggest charts\"\n",
              "            style=\"display:none;\">\n",
              "\n",
              "<svg xmlns=\"http://www.w3.org/2000/svg\" height=\"24px\"viewBox=\"0 0 24 24\"\n",
              "     width=\"24px\">\n",
              "    <g>\n",
              "        <path d=\"M19 3H5c-1.1 0-2 .9-2 2v14c0 1.1.9 2 2 2h14c1.1 0 2-.9 2-2V5c0-1.1-.9-2-2-2zM9 17H7v-7h2v7zm4 0h-2V7h2v10zm4 0h-2v-4h2v4z\"/>\n",
              "    </g>\n",
              "</svg>\n",
              "  </button>\n",
              "\n",
              "<style>\n",
              "  .colab-df-quickchart {\n",
              "      --bg-color: #E8F0FE;\n",
              "      --fill-color: #1967D2;\n",
              "      --hover-bg-color: #E2EBFA;\n",
              "      --hover-fill-color: #174EA6;\n",
              "      --disabled-fill-color: #AAA;\n",
              "      --disabled-bg-color: #DDD;\n",
              "  }\n",
              "\n",
              "  [theme=dark] .colab-df-quickchart {\n",
              "      --bg-color: #3B4455;\n",
              "      --fill-color: #D2E3FC;\n",
              "      --hover-bg-color: #434B5C;\n",
              "      --hover-fill-color: #FFFFFF;\n",
              "      --disabled-bg-color: #3B4455;\n",
              "      --disabled-fill-color: #666;\n",
              "  }\n",
              "\n",
              "  .colab-df-quickchart {\n",
              "    background-color: var(--bg-color);\n",
              "    border: none;\n",
              "    border-radius: 50%;\n",
              "    cursor: pointer;\n",
              "    display: none;\n",
              "    fill: var(--fill-color);\n",
              "    height: 32px;\n",
              "    padding: 0;\n",
              "    width: 32px;\n",
              "  }\n",
              "\n",
              "  .colab-df-quickchart:hover {\n",
              "    background-color: var(--hover-bg-color);\n",
              "    box-shadow: 0 1px 2px rgba(60, 64, 67, 0.3), 0 1px 3px 1px rgba(60, 64, 67, 0.15);\n",
              "    fill: var(--button-hover-fill-color);\n",
              "  }\n",
              "\n",
              "  .colab-df-quickchart-complete:disabled,\n",
              "  .colab-df-quickchart-complete:disabled:hover {\n",
              "    background-color: var(--disabled-bg-color);\n",
              "    fill: var(--disabled-fill-color);\n",
              "    box-shadow: none;\n",
              "  }\n",
              "\n",
              "  .colab-df-spinner {\n",
              "    border: 2px solid var(--fill-color);\n",
              "    border-color: transparent;\n",
              "    border-bottom-color: var(--fill-color);\n",
              "    animation:\n",
              "      spin 1s steps(1) infinite;\n",
              "  }\n",
              "\n",
              "  @keyframes spin {\n",
              "    0% {\n",
              "      border-color: transparent;\n",
              "      border-bottom-color: var(--fill-color);\n",
              "      border-left-color: var(--fill-color);\n",
              "    }\n",
              "    20% {\n",
              "      border-color: transparent;\n",
              "      border-left-color: var(--fill-color);\n",
              "      border-top-color: var(--fill-color);\n",
              "    }\n",
              "    30% {\n",
              "      border-color: transparent;\n",
              "      border-left-color: var(--fill-color);\n",
              "      border-top-color: var(--fill-color);\n",
              "      border-right-color: var(--fill-color);\n",
              "    }\n",
              "    40% {\n",
              "      border-color: transparent;\n",
              "      border-right-color: var(--fill-color);\n",
              "      border-top-color: var(--fill-color);\n",
              "    }\n",
              "    60% {\n",
              "      border-color: transparent;\n",
              "      border-right-color: var(--fill-color);\n",
              "    }\n",
              "    80% {\n",
              "      border-color: transparent;\n",
              "      border-right-color: var(--fill-color);\n",
              "      border-bottom-color: var(--fill-color);\n",
              "    }\n",
              "    90% {\n",
              "      border-color: transparent;\n",
              "      border-bottom-color: var(--fill-color);\n",
              "    }\n",
              "  }\n",
              "</style>\n",
              "\n",
              "  <script>\n",
              "    async function quickchart(key) {\n",
              "      const quickchartButtonEl =\n",
              "        document.querySelector('#' + key + ' button');\n",
              "      quickchartButtonEl.disabled = true;  // To prevent multiple clicks.\n",
              "      quickchartButtonEl.classList.add('colab-df-spinner');\n",
              "      try {\n",
              "        const charts = await google.colab.kernel.invokeFunction(\n",
              "            'suggestCharts', [key], {});\n",
              "      } catch (error) {\n",
              "        console.error('Error during call to suggestCharts:', error);\n",
              "      }\n",
              "      quickchartButtonEl.classList.remove('colab-df-spinner');\n",
              "      quickchartButtonEl.classList.add('colab-df-quickchart-complete');\n",
              "    }\n",
              "    (() => {\n",
              "      let quickchartButtonEl =\n",
              "        document.querySelector('#df-4d251a63-cdff-4058-b8e6-e34ae2fcc0c8 button');\n",
              "      quickchartButtonEl.style.display =\n",
              "        google.colab.kernel.accessAllowed ? 'block' : 'none';\n",
              "    })();\n",
              "  </script>\n",
              "</div>\n",
              "\n",
              "    </div>\n",
              "  </div>\n"
            ]
          },
          "metadata": {},
          "execution_count": 190
        }
      ]
    },
    {
      "cell_type": "code",
      "source": [
        "df_test.head()"
      ],
      "metadata": {
        "id": "ckSrKbCnPTNr",
        "colab": {
          "base_uri": "https://localhost:8080/",
          "height": 380
        },
        "outputId": "8864ff24-362e-4919-c90f-3c5de0e78f43"
      },
      "execution_count": null,
      "outputs": [
        {
          "output_type": "execute_result",
          "data": {
            "text/plain": [
              "        label                                          statement  \\\n",
              "0        true  Building a wall on the U.S.-Mexico border will...   \n",
              "1       false  Wisconsin is on pace to double the number of l...   \n",
              "2       false  Says John McCain has done nothing to help the ...   \n",
              "3   half-true  Suzanne Bonamici supports a plan that will cut...   \n",
              "4  pants-fire  When asked by a reporter whether hes at the ce...   \n",
              "\n",
              "                                          subject(s)  \\\n",
              "0                                        immigration   \n",
              "1                                               jobs   \n",
              "2                    military,veterans,voting-record   \n",
              "3  medicare,message-machine-2012,campaign-adverti...   \n",
              "4  campaign-finance,legal-issues,campaign-adverti...   \n",
              "\n",
              "                            speaker total_credit_history_count  \\\n",
              "0                        rick-perry                 republican   \n",
              "1                 katrina-shankland                   democrat   \n",
              "2                      donald-trump                 republican   \n",
              "3                     rob-cornilles                 republican   \n",
              "4  state-democratic-party-wisconsin                   democrat   \n",
              "\n",
              "   barely_true_counts  false_counts  half_true_counts  mostly_true_counts  \\\n",
              "0                  30            30                42                  23   \n",
              "1                   2             1                 0                   0   \n",
              "2                  63           114                51                  37   \n",
              "3                   1             1                 3                   1   \n",
              "4                   5             7                 2                   2   \n",
              "\n",
              "   pants_on_fire_counts                      context   \\\n",
              "0                    18               Radio interview   \n",
              "1                     0             a news conference   \n",
              "2                    61  comments on ABC's This Week.   \n",
              "3                     1                  a radio show   \n",
              "4                     7                   a web video   \n",
              "\n",
              "                             extracted_justification  \n",
              "0  Meantime, engineering experts agree the wall w...  \n",
              "1  She cited layoff notices received by the state...  \n",
              "2  Trump said that McCain \"has done nothing to he...  \n",
              "3  But spending still goes up. In addition, many ...  \n",
              "4  Our rating A Democratic Party web video making...  "
            ],
            "text/html": [
              "\n",
              "  <div id=\"df-5b4d0275-53d2-4a83-abe3-4eb1365da2fe\" class=\"colab-df-container\">\n",
              "    <div>\n",
              "<style scoped>\n",
              "    .dataframe tbody tr th:only-of-type {\n",
              "        vertical-align: middle;\n",
              "    }\n",
              "\n",
              "    .dataframe tbody tr th {\n",
              "        vertical-align: top;\n",
              "    }\n",
              "\n",
              "    .dataframe thead th {\n",
              "        text-align: right;\n",
              "    }\n",
              "</style>\n",
              "<table border=\"1\" class=\"dataframe\">\n",
              "  <thead>\n",
              "    <tr style=\"text-align: right;\">\n",
              "      <th></th>\n",
              "      <th>label</th>\n",
              "      <th>statement</th>\n",
              "      <th>subject(s)</th>\n",
              "      <th>speaker</th>\n",
              "      <th>total_credit_history_count</th>\n",
              "      <th>barely_true_counts</th>\n",
              "      <th>false_counts</th>\n",
              "      <th>half_true_counts</th>\n",
              "      <th>mostly_true_counts</th>\n",
              "      <th>pants_on_fire_counts</th>\n",
              "      <th>context</th>\n",
              "      <th>extracted_justification</th>\n",
              "    </tr>\n",
              "  </thead>\n",
              "  <tbody>\n",
              "    <tr>\n",
              "      <th>0</th>\n",
              "      <td>true</td>\n",
              "      <td>Building a wall on the U.S.-Mexico border will...</td>\n",
              "      <td>immigration</td>\n",
              "      <td>rick-perry</td>\n",
              "      <td>republican</td>\n",
              "      <td>30</td>\n",
              "      <td>30</td>\n",
              "      <td>42</td>\n",
              "      <td>23</td>\n",
              "      <td>18</td>\n",
              "      <td>Radio interview</td>\n",
              "      <td>Meantime, engineering experts agree the wall w...</td>\n",
              "    </tr>\n",
              "    <tr>\n",
              "      <th>1</th>\n",
              "      <td>false</td>\n",
              "      <td>Wisconsin is on pace to double the number of l...</td>\n",
              "      <td>jobs</td>\n",
              "      <td>katrina-shankland</td>\n",
              "      <td>democrat</td>\n",
              "      <td>2</td>\n",
              "      <td>1</td>\n",
              "      <td>0</td>\n",
              "      <td>0</td>\n",
              "      <td>0</td>\n",
              "      <td>a news conference</td>\n",
              "      <td>She cited layoff notices received by the state...</td>\n",
              "    </tr>\n",
              "    <tr>\n",
              "      <th>2</th>\n",
              "      <td>false</td>\n",
              "      <td>Says John McCain has done nothing to help the ...</td>\n",
              "      <td>military,veterans,voting-record</td>\n",
              "      <td>donald-trump</td>\n",
              "      <td>republican</td>\n",
              "      <td>63</td>\n",
              "      <td>114</td>\n",
              "      <td>51</td>\n",
              "      <td>37</td>\n",
              "      <td>61</td>\n",
              "      <td>comments on ABC's This Week.</td>\n",
              "      <td>Trump said that McCain \"has done nothing to he...</td>\n",
              "    </tr>\n",
              "    <tr>\n",
              "      <th>3</th>\n",
              "      <td>half-true</td>\n",
              "      <td>Suzanne Bonamici supports a plan that will cut...</td>\n",
              "      <td>medicare,message-machine-2012,campaign-adverti...</td>\n",
              "      <td>rob-cornilles</td>\n",
              "      <td>republican</td>\n",
              "      <td>1</td>\n",
              "      <td>1</td>\n",
              "      <td>3</td>\n",
              "      <td>1</td>\n",
              "      <td>1</td>\n",
              "      <td>a radio show</td>\n",
              "      <td>But spending still goes up. In addition, many ...</td>\n",
              "    </tr>\n",
              "    <tr>\n",
              "      <th>4</th>\n",
              "      <td>pants-fire</td>\n",
              "      <td>When asked by a reporter whether hes at the ce...</td>\n",
              "      <td>campaign-finance,legal-issues,campaign-adverti...</td>\n",
              "      <td>state-democratic-party-wisconsin</td>\n",
              "      <td>democrat</td>\n",
              "      <td>5</td>\n",
              "      <td>7</td>\n",
              "      <td>2</td>\n",
              "      <td>2</td>\n",
              "      <td>7</td>\n",
              "      <td>a web video</td>\n",
              "      <td>Our rating A Democratic Party web video making...</td>\n",
              "    </tr>\n",
              "  </tbody>\n",
              "</table>\n",
              "</div>\n",
              "    <div class=\"colab-df-buttons\">\n",
              "\n",
              "  <div class=\"colab-df-container\">\n",
              "    <button class=\"colab-df-convert\" onclick=\"convertToInteractive('df-5b4d0275-53d2-4a83-abe3-4eb1365da2fe')\"\n",
              "            title=\"Convert this dataframe to an interactive table.\"\n",
              "            style=\"display:none;\">\n",
              "\n",
              "  <svg xmlns=\"http://www.w3.org/2000/svg\" height=\"24px\" viewBox=\"0 -960 960 960\">\n",
              "    <path d=\"M120-120v-720h720v720H120Zm60-500h600v-160H180v160Zm220 220h160v-160H400v160Zm0 220h160v-160H400v160ZM180-400h160v-160H180v160Zm440 0h160v-160H620v160ZM180-180h160v-160H180v160Zm440 0h160v-160H620v160Z\"/>\n",
              "  </svg>\n",
              "    </button>\n",
              "\n",
              "  <style>\n",
              "    .colab-df-container {\n",
              "      display:flex;\n",
              "      gap: 12px;\n",
              "    }\n",
              "\n",
              "    .colab-df-convert {\n",
              "      background-color: #E8F0FE;\n",
              "      border: none;\n",
              "      border-radius: 50%;\n",
              "      cursor: pointer;\n",
              "      display: none;\n",
              "      fill: #1967D2;\n",
              "      height: 32px;\n",
              "      padding: 0 0 0 0;\n",
              "      width: 32px;\n",
              "    }\n",
              "\n",
              "    .colab-df-convert:hover {\n",
              "      background-color: #E2EBFA;\n",
              "      box-shadow: 0px 1px 2px rgba(60, 64, 67, 0.3), 0px 1px 3px 1px rgba(60, 64, 67, 0.15);\n",
              "      fill: #174EA6;\n",
              "    }\n",
              "\n",
              "    .colab-df-buttons div {\n",
              "      margin-bottom: 4px;\n",
              "    }\n",
              "\n",
              "    [theme=dark] .colab-df-convert {\n",
              "      background-color: #3B4455;\n",
              "      fill: #D2E3FC;\n",
              "    }\n",
              "\n",
              "    [theme=dark] .colab-df-convert:hover {\n",
              "      background-color: #434B5C;\n",
              "      box-shadow: 0px 1px 3px 1px rgba(0, 0, 0, 0.15);\n",
              "      filter: drop-shadow(0px 1px 2px rgba(0, 0, 0, 0.3));\n",
              "      fill: #FFFFFF;\n",
              "    }\n",
              "  </style>\n",
              "\n",
              "    <script>\n",
              "      const buttonEl =\n",
              "        document.querySelector('#df-5b4d0275-53d2-4a83-abe3-4eb1365da2fe button.colab-df-convert');\n",
              "      buttonEl.style.display =\n",
              "        google.colab.kernel.accessAllowed ? 'block' : 'none';\n",
              "\n",
              "      async function convertToInteractive(key) {\n",
              "        const element = document.querySelector('#df-5b4d0275-53d2-4a83-abe3-4eb1365da2fe');\n",
              "        const dataTable =\n",
              "          await google.colab.kernel.invokeFunction('convertToInteractive',\n",
              "                                                    [key], {});\n",
              "        if (!dataTable) return;\n",
              "\n",
              "        const docLinkHtml = 'Like what you see? Visit the ' +\n",
              "          '<a target=\"_blank\" href=https://colab.research.google.com/notebooks/data_table.ipynb>data table notebook</a>'\n",
              "          + ' to learn more about interactive tables.';\n",
              "        element.innerHTML = '';\n",
              "        dataTable['output_type'] = 'display_data';\n",
              "        await google.colab.output.renderOutput(dataTable, element);\n",
              "        const docLink = document.createElement('div');\n",
              "        docLink.innerHTML = docLinkHtml;\n",
              "        element.appendChild(docLink);\n",
              "      }\n",
              "    </script>\n",
              "  </div>\n",
              "\n",
              "\n",
              "<div id=\"df-97a7dfe8-9285-4054-be70-658ca48cb680\">\n",
              "  <button class=\"colab-df-quickchart\" onclick=\"quickchart('df-97a7dfe8-9285-4054-be70-658ca48cb680')\"\n",
              "            title=\"Suggest charts\"\n",
              "            style=\"display:none;\">\n",
              "\n",
              "<svg xmlns=\"http://www.w3.org/2000/svg\" height=\"24px\"viewBox=\"0 0 24 24\"\n",
              "     width=\"24px\">\n",
              "    <g>\n",
              "        <path d=\"M19 3H5c-1.1 0-2 .9-2 2v14c0 1.1.9 2 2 2h14c1.1 0 2-.9 2-2V5c0-1.1-.9-2-2-2zM9 17H7v-7h2v7zm4 0h-2V7h2v10zm4 0h-2v-4h2v4z\"/>\n",
              "    </g>\n",
              "</svg>\n",
              "  </button>\n",
              "\n",
              "<style>\n",
              "  .colab-df-quickchart {\n",
              "      --bg-color: #E8F0FE;\n",
              "      --fill-color: #1967D2;\n",
              "      --hover-bg-color: #E2EBFA;\n",
              "      --hover-fill-color: #174EA6;\n",
              "      --disabled-fill-color: #AAA;\n",
              "      --disabled-bg-color: #DDD;\n",
              "  }\n",
              "\n",
              "  [theme=dark] .colab-df-quickchart {\n",
              "      --bg-color: #3B4455;\n",
              "      --fill-color: #D2E3FC;\n",
              "      --hover-bg-color: #434B5C;\n",
              "      --hover-fill-color: #FFFFFF;\n",
              "      --disabled-bg-color: #3B4455;\n",
              "      --disabled-fill-color: #666;\n",
              "  }\n",
              "\n",
              "  .colab-df-quickchart {\n",
              "    background-color: var(--bg-color);\n",
              "    border: none;\n",
              "    border-radius: 50%;\n",
              "    cursor: pointer;\n",
              "    display: none;\n",
              "    fill: var(--fill-color);\n",
              "    height: 32px;\n",
              "    padding: 0;\n",
              "    width: 32px;\n",
              "  }\n",
              "\n",
              "  .colab-df-quickchart:hover {\n",
              "    background-color: var(--hover-bg-color);\n",
              "    box-shadow: 0 1px 2px rgba(60, 64, 67, 0.3), 0 1px 3px 1px rgba(60, 64, 67, 0.15);\n",
              "    fill: var(--button-hover-fill-color);\n",
              "  }\n",
              "\n",
              "  .colab-df-quickchart-complete:disabled,\n",
              "  .colab-df-quickchart-complete:disabled:hover {\n",
              "    background-color: var(--disabled-bg-color);\n",
              "    fill: var(--disabled-fill-color);\n",
              "    box-shadow: none;\n",
              "  }\n",
              "\n",
              "  .colab-df-spinner {\n",
              "    border: 2px solid var(--fill-color);\n",
              "    border-color: transparent;\n",
              "    border-bottom-color: var(--fill-color);\n",
              "    animation:\n",
              "      spin 1s steps(1) infinite;\n",
              "  }\n",
              "\n",
              "  @keyframes spin {\n",
              "    0% {\n",
              "      border-color: transparent;\n",
              "      border-bottom-color: var(--fill-color);\n",
              "      border-left-color: var(--fill-color);\n",
              "    }\n",
              "    20% {\n",
              "      border-color: transparent;\n",
              "      border-left-color: var(--fill-color);\n",
              "      border-top-color: var(--fill-color);\n",
              "    }\n",
              "    30% {\n",
              "      border-color: transparent;\n",
              "      border-left-color: var(--fill-color);\n",
              "      border-top-color: var(--fill-color);\n",
              "      border-right-color: var(--fill-color);\n",
              "    }\n",
              "    40% {\n",
              "      border-color: transparent;\n",
              "      border-right-color: var(--fill-color);\n",
              "      border-top-color: var(--fill-color);\n",
              "    }\n",
              "    60% {\n",
              "      border-color: transparent;\n",
              "      border-right-color: var(--fill-color);\n",
              "    }\n",
              "    80% {\n",
              "      border-color: transparent;\n",
              "      border-right-color: var(--fill-color);\n",
              "      border-bottom-color: var(--fill-color);\n",
              "    }\n",
              "    90% {\n",
              "      border-color: transparent;\n",
              "      border-bottom-color: var(--fill-color);\n",
              "    }\n",
              "  }\n",
              "</style>\n",
              "\n",
              "  <script>\n",
              "    async function quickchart(key) {\n",
              "      const quickchartButtonEl =\n",
              "        document.querySelector('#' + key + ' button');\n",
              "      quickchartButtonEl.disabled = true;  // To prevent multiple clicks.\n",
              "      quickchartButtonEl.classList.add('colab-df-spinner');\n",
              "      try {\n",
              "        const charts = await google.colab.kernel.invokeFunction(\n",
              "            'suggestCharts', [key], {});\n",
              "      } catch (error) {\n",
              "        console.error('Error during call to suggestCharts:', error);\n",
              "      }\n",
              "      quickchartButtonEl.classList.remove('colab-df-spinner');\n",
              "      quickchartButtonEl.classList.add('colab-df-quickchart-complete');\n",
              "    }\n",
              "    (() => {\n",
              "      let quickchartButtonEl =\n",
              "        document.querySelector('#df-97a7dfe8-9285-4054-be70-658ca48cb680 button');\n",
              "      quickchartButtonEl.style.display =\n",
              "        google.colab.kernel.accessAllowed ? 'block' : 'none';\n",
              "    })();\n",
              "  </script>\n",
              "</div>\n",
              "\n",
              "    </div>\n",
              "  </div>\n"
            ]
          },
          "metadata": {},
          "execution_count": 191
        }
      ]
    },
    {
      "cell_type": "code",
      "source": [
        "df_val.head()"
      ],
      "metadata": {
        "id": "sLmHJPexPWkC",
        "colab": {
          "base_uri": "https://localhost:8080/",
          "height": 293
        },
        "outputId": "105967a3-c5a6-4698-db3a-5f2b581c5948"
      },
      "execution_count": null,
      "outputs": [
        {
          "output_type": "execute_result",
          "data": {
            "text/plain": [
              "         label                                          statement  \\\n",
              "0  barely-true  We have less Americans working now than in the...   \n",
              "1   pants-fire  When Obama was sworn into office, he DID NOT u...   \n",
              "2        false  Says Having organizations parading as being so...   \n",
              "3    half-true     Says nearly half of Oregons children are poor.   \n",
              "4    half-true  On attacks by Republicans that various program...   \n",
              "\n",
              "                         subject(s)          speaker  \\\n",
              "0                      economy,jobs   vicky-hartzler   \n",
              "1  obama-birth-certificate,religion      chain-email   \n",
              "2   campaign-finance,congress,taxes  earl-blumenauer   \n",
              "3                           poverty  jim-francesconi   \n",
              "4                  economy,stimulus     barack-obama   \n",
              "\n",
              "  total_credit_history_count  barely_true_counts  false_counts  \\\n",
              "0                 republican                   1             0   \n",
              "1                       none                  11            43   \n",
              "2                   democrat                   0             1   \n",
              "3                       none                   0             1   \n",
              "4                   democrat                  70            71   \n",
              "\n",
              "   half_true_counts  mostly_true_counts  pants_on_fire_counts  \\\n",
              "0                 1                   0                     0   \n",
              "1                 8                   5                   105   \n",
              "2                 1                   1                     0   \n",
              "3                 1                   1                     0   \n",
              "4               160                 163                     9   \n",
              "\n",
              "                        context   \\\n",
              "0   an interview with ABC17 News   \n",
              "1        Contexte non disponible   \n",
              "2  a U.S. Ways and Means hearing   \n",
              "3             an opinion article   \n",
              "4        interview with CBS News   \n",
              "\n",
              "                             extracted_justification  \n",
              "0  However, Hartzler was talking about the entire...  \n",
              "1  Ellison used a Koran that once belonged to Tho...  \n",
              "2  However, we have two professors who say the la...  \n",
              "3  In fact, if you use federal definitions for po...  \n",
              "4  Obama's point is that some perspective is in o...  "
            ],
            "text/html": [
              "\n",
              "  <div id=\"df-ec275b2d-20a4-45cb-b4c2-85ac6eb36ccf\" class=\"colab-df-container\">\n",
              "    <div>\n",
              "<style scoped>\n",
              "    .dataframe tbody tr th:only-of-type {\n",
              "        vertical-align: middle;\n",
              "    }\n",
              "\n",
              "    .dataframe tbody tr th {\n",
              "        vertical-align: top;\n",
              "    }\n",
              "\n",
              "    .dataframe thead th {\n",
              "        text-align: right;\n",
              "    }\n",
              "</style>\n",
              "<table border=\"1\" class=\"dataframe\">\n",
              "  <thead>\n",
              "    <tr style=\"text-align: right;\">\n",
              "      <th></th>\n",
              "      <th>label</th>\n",
              "      <th>statement</th>\n",
              "      <th>subject(s)</th>\n",
              "      <th>speaker</th>\n",
              "      <th>total_credit_history_count</th>\n",
              "      <th>barely_true_counts</th>\n",
              "      <th>false_counts</th>\n",
              "      <th>half_true_counts</th>\n",
              "      <th>mostly_true_counts</th>\n",
              "      <th>pants_on_fire_counts</th>\n",
              "      <th>context</th>\n",
              "      <th>extracted_justification</th>\n",
              "    </tr>\n",
              "  </thead>\n",
              "  <tbody>\n",
              "    <tr>\n",
              "      <th>0</th>\n",
              "      <td>barely-true</td>\n",
              "      <td>We have less Americans working now than in the...</td>\n",
              "      <td>economy,jobs</td>\n",
              "      <td>vicky-hartzler</td>\n",
              "      <td>republican</td>\n",
              "      <td>1</td>\n",
              "      <td>0</td>\n",
              "      <td>1</td>\n",
              "      <td>0</td>\n",
              "      <td>0</td>\n",
              "      <td>an interview with ABC17 News</td>\n",
              "      <td>However, Hartzler was talking about the entire...</td>\n",
              "    </tr>\n",
              "    <tr>\n",
              "      <th>1</th>\n",
              "      <td>pants-fire</td>\n",
              "      <td>When Obama was sworn into office, he DID NOT u...</td>\n",
              "      <td>obama-birth-certificate,religion</td>\n",
              "      <td>chain-email</td>\n",
              "      <td>none</td>\n",
              "      <td>11</td>\n",
              "      <td>43</td>\n",
              "      <td>8</td>\n",
              "      <td>5</td>\n",
              "      <td>105</td>\n",
              "      <td>Contexte non disponible</td>\n",
              "      <td>Ellison used a Koran that once belonged to Tho...</td>\n",
              "    </tr>\n",
              "    <tr>\n",
              "      <th>2</th>\n",
              "      <td>false</td>\n",
              "      <td>Says Having organizations parading as being so...</td>\n",
              "      <td>campaign-finance,congress,taxes</td>\n",
              "      <td>earl-blumenauer</td>\n",
              "      <td>democrat</td>\n",
              "      <td>0</td>\n",
              "      <td>1</td>\n",
              "      <td>1</td>\n",
              "      <td>1</td>\n",
              "      <td>0</td>\n",
              "      <td>a U.S. Ways and Means hearing</td>\n",
              "      <td>However, we have two professors who say the la...</td>\n",
              "    </tr>\n",
              "    <tr>\n",
              "      <th>3</th>\n",
              "      <td>half-true</td>\n",
              "      <td>Says nearly half of Oregons children are poor.</td>\n",
              "      <td>poverty</td>\n",
              "      <td>jim-francesconi</td>\n",
              "      <td>none</td>\n",
              "      <td>0</td>\n",
              "      <td>1</td>\n",
              "      <td>1</td>\n",
              "      <td>1</td>\n",
              "      <td>0</td>\n",
              "      <td>an opinion article</td>\n",
              "      <td>In fact, if you use federal definitions for po...</td>\n",
              "    </tr>\n",
              "    <tr>\n",
              "      <th>4</th>\n",
              "      <td>half-true</td>\n",
              "      <td>On attacks by Republicans that various program...</td>\n",
              "      <td>economy,stimulus</td>\n",
              "      <td>barack-obama</td>\n",
              "      <td>democrat</td>\n",
              "      <td>70</td>\n",
              "      <td>71</td>\n",
              "      <td>160</td>\n",
              "      <td>163</td>\n",
              "      <td>9</td>\n",
              "      <td>interview with CBS News</td>\n",
              "      <td>Obama's point is that some perspective is in o...</td>\n",
              "    </tr>\n",
              "  </tbody>\n",
              "</table>\n",
              "</div>\n",
              "    <div class=\"colab-df-buttons\">\n",
              "\n",
              "  <div class=\"colab-df-container\">\n",
              "    <button class=\"colab-df-convert\" onclick=\"convertToInteractive('df-ec275b2d-20a4-45cb-b4c2-85ac6eb36ccf')\"\n",
              "            title=\"Convert this dataframe to an interactive table.\"\n",
              "            style=\"display:none;\">\n",
              "\n",
              "  <svg xmlns=\"http://www.w3.org/2000/svg\" height=\"24px\" viewBox=\"0 -960 960 960\">\n",
              "    <path d=\"M120-120v-720h720v720H120Zm60-500h600v-160H180v160Zm220 220h160v-160H400v160Zm0 220h160v-160H400v160ZM180-400h160v-160H180v160Zm440 0h160v-160H620v160ZM180-180h160v-160H180v160Zm440 0h160v-160H620v160Z\"/>\n",
              "  </svg>\n",
              "    </button>\n",
              "\n",
              "  <style>\n",
              "    .colab-df-container {\n",
              "      display:flex;\n",
              "      gap: 12px;\n",
              "    }\n",
              "\n",
              "    .colab-df-convert {\n",
              "      background-color: #E8F0FE;\n",
              "      border: none;\n",
              "      border-radius: 50%;\n",
              "      cursor: pointer;\n",
              "      display: none;\n",
              "      fill: #1967D2;\n",
              "      height: 32px;\n",
              "      padding: 0 0 0 0;\n",
              "      width: 32px;\n",
              "    }\n",
              "\n",
              "    .colab-df-convert:hover {\n",
              "      background-color: #E2EBFA;\n",
              "      box-shadow: 0px 1px 2px rgba(60, 64, 67, 0.3), 0px 1px 3px 1px rgba(60, 64, 67, 0.15);\n",
              "      fill: #174EA6;\n",
              "    }\n",
              "\n",
              "    .colab-df-buttons div {\n",
              "      margin-bottom: 4px;\n",
              "    }\n",
              "\n",
              "    [theme=dark] .colab-df-convert {\n",
              "      background-color: #3B4455;\n",
              "      fill: #D2E3FC;\n",
              "    }\n",
              "\n",
              "    [theme=dark] .colab-df-convert:hover {\n",
              "      background-color: #434B5C;\n",
              "      box-shadow: 0px 1px 3px 1px rgba(0, 0, 0, 0.15);\n",
              "      filter: drop-shadow(0px 1px 2px rgba(0, 0, 0, 0.3));\n",
              "      fill: #FFFFFF;\n",
              "    }\n",
              "  </style>\n",
              "\n",
              "    <script>\n",
              "      const buttonEl =\n",
              "        document.querySelector('#df-ec275b2d-20a4-45cb-b4c2-85ac6eb36ccf button.colab-df-convert');\n",
              "      buttonEl.style.display =\n",
              "        google.colab.kernel.accessAllowed ? 'block' : 'none';\n",
              "\n",
              "      async function convertToInteractive(key) {\n",
              "        const element = document.querySelector('#df-ec275b2d-20a4-45cb-b4c2-85ac6eb36ccf');\n",
              "        const dataTable =\n",
              "          await google.colab.kernel.invokeFunction('convertToInteractive',\n",
              "                                                    [key], {});\n",
              "        if (!dataTable) return;\n",
              "\n",
              "        const docLinkHtml = 'Like what you see? Visit the ' +\n",
              "          '<a target=\"_blank\" href=https://colab.research.google.com/notebooks/data_table.ipynb>data table notebook</a>'\n",
              "          + ' to learn more about interactive tables.';\n",
              "        element.innerHTML = '';\n",
              "        dataTable['output_type'] = 'display_data';\n",
              "        await google.colab.output.renderOutput(dataTable, element);\n",
              "        const docLink = document.createElement('div');\n",
              "        docLink.innerHTML = docLinkHtml;\n",
              "        element.appendChild(docLink);\n",
              "      }\n",
              "    </script>\n",
              "  </div>\n",
              "\n",
              "\n",
              "<div id=\"df-639f2b34-e776-45ed-946c-f784e03e03e7\">\n",
              "  <button class=\"colab-df-quickchart\" onclick=\"quickchart('df-639f2b34-e776-45ed-946c-f784e03e03e7')\"\n",
              "            title=\"Suggest charts\"\n",
              "            style=\"display:none;\">\n",
              "\n",
              "<svg xmlns=\"http://www.w3.org/2000/svg\" height=\"24px\"viewBox=\"0 0 24 24\"\n",
              "     width=\"24px\">\n",
              "    <g>\n",
              "        <path d=\"M19 3H5c-1.1 0-2 .9-2 2v14c0 1.1.9 2 2 2h14c1.1 0 2-.9 2-2V5c0-1.1-.9-2-2-2zM9 17H7v-7h2v7zm4 0h-2V7h2v10zm4 0h-2v-4h2v4z\"/>\n",
              "    </g>\n",
              "</svg>\n",
              "  </button>\n",
              "\n",
              "<style>\n",
              "  .colab-df-quickchart {\n",
              "      --bg-color: #E8F0FE;\n",
              "      --fill-color: #1967D2;\n",
              "      --hover-bg-color: #E2EBFA;\n",
              "      --hover-fill-color: #174EA6;\n",
              "      --disabled-fill-color: #AAA;\n",
              "      --disabled-bg-color: #DDD;\n",
              "  }\n",
              "\n",
              "  [theme=dark] .colab-df-quickchart {\n",
              "      --bg-color: #3B4455;\n",
              "      --fill-color: #D2E3FC;\n",
              "      --hover-bg-color: #434B5C;\n",
              "      --hover-fill-color: #FFFFFF;\n",
              "      --disabled-bg-color: #3B4455;\n",
              "      --disabled-fill-color: #666;\n",
              "  }\n",
              "\n",
              "  .colab-df-quickchart {\n",
              "    background-color: var(--bg-color);\n",
              "    border: none;\n",
              "    border-radius: 50%;\n",
              "    cursor: pointer;\n",
              "    display: none;\n",
              "    fill: var(--fill-color);\n",
              "    height: 32px;\n",
              "    padding: 0;\n",
              "    width: 32px;\n",
              "  }\n",
              "\n",
              "  .colab-df-quickchart:hover {\n",
              "    background-color: var(--hover-bg-color);\n",
              "    box-shadow: 0 1px 2px rgba(60, 64, 67, 0.3), 0 1px 3px 1px rgba(60, 64, 67, 0.15);\n",
              "    fill: var(--button-hover-fill-color);\n",
              "  }\n",
              "\n",
              "  .colab-df-quickchart-complete:disabled,\n",
              "  .colab-df-quickchart-complete:disabled:hover {\n",
              "    background-color: var(--disabled-bg-color);\n",
              "    fill: var(--disabled-fill-color);\n",
              "    box-shadow: none;\n",
              "  }\n",
              "\n",
              "  .colab-df-spinner {\n",
              "    border: 2px solid var(--fill-color);\n",
              "    border-color: transparent;\n",
              "    border-bottom-color: var(--fill-color);\n",
              "    animation:\n",
              "      spin 1s steps(1) infinite;\n",
              "  }\n",
              "\n",
              "  @keyframes spin {\n",
              "    0% {\n",
              "      border-color: transparent;\n",
              "      border-bottom-color: var(--fill-color);\n",
              "      border-left-color: var(--fill-color);\n",
              "    }\n",
              "    20% {\n",
              "      border-color: transparent;\n",
              "      border-left-color: var(--fill-color);\n",
              "      border-top-color: var(--fill-color);\n",
              "    }\n",
              "    30% {\n",
              "      border-color: transparent;\n",
              "      border-left-color: var(--fill-color);\n",
              "      border-top-color: var(--fill-color);\n",
              "      border-right-color: var(--fill-color);\n",
              "    }\n",
              "    40% {\n",
              "      border-color: transparent;\n",
              "      border-right-color: var(--fill-color);\n",
              "      border-top-color: var(--fill-color);\n",
              "    }\n",
              "    60% {\n",
              "      border-color: transparent;\n",
              "      border-right-color: var(--fill-color);\n",
              "    }\n",
              "    80% {\n",
              "      border-color: transparent;\n",
              "      border-right-color: var(--fill-color);\n",
              "      border-bottom-color: var(--fill-color);\n",
              "    }\n",
              "    90% {\n",
              "      border-color: transparent;\n",
              "      border-bottom-color: var(--fill-color);\n",
              "    }\n",
              "  }\n",
              "</style>\n",
              "\n",
              "  <script>\n",
              "    async function quickchart(key) {\n",
              "      const quickchartButtonEl =\n",
              "        document.querySelector('#' + key + ' button');\n",
              "      quickchartButtonEl.disabled = true;  // To prevent multiple clicks.\n",
              "      quickchartButtonEl.classList.add('colab-df-spinner');\n",
              "      try {\n",
              "        const charts = await google.colab.kernel.invokeFunction(\n",
              "            'suggestCharts', [key], {});\n",
              "      } catch (error) {\n",
              "        console.error('Error during call to suggestCharts:', error);\n",
              "      }\n",
              "      quickchartButtonEl.classList.remove('colab-df-spinner');\n",
              "      quickchartButtonEl.classList.add('colab-df-quickchart-complete');\n",
              "    }\n",
              "    (() => {\n",
              "      let quickchartButtonEl =\n",
              "        document.querySelector('#df-639f2b34-e776-45ed-946c-f784e03e03e7 button');\n",
              "      quickchartButtonEl.style.display =\n",
              "        google.colab.kernel.accessAllowed ? 'block' : 'none';\n",
              "    })();\n",
              "  </script>\n",
              "</div>\n",
              "\n",
              "    </div>\n",
              "  </div>\n"
            ]
          },
          "metadata": {},
          "execution_count": 192
        }
      ]
    },
    {
      "cell_type": "code",
      "source": [
        "\n",
        "from sklearn.feature_extraction.text import CountVectorizer, TfidfVectorizer\n",
        "from sklearn.naive_bayes import MultinomialNB\n",
        "from sklearn.svm import SVC\n",
        "\n",
        "from sklearn.metrics import accuracy_score, classification_report\n",
        "\n",
        "columns = ['label','statement','subject(s)','speaker','total_credit_history_count',\n",
        "                'barely_true_counts','false_counts','half_true_counts','mostly_true_counts','pants_on_fire_counts','context ',\n",
        "                'extracted_justification']\n",
        "\n",
        "\n",
        "\n",
        "# Prepare the data\n",
        "X_train = df['statement']\n",
        "y_train = df['label']\n",
        "\n",
        "X_test = df_test['statement']\n",
        "y_test = df_test['label']\n"
      ],
      "metadata": {
        "id": "NrzMnnqFO1xQ"
      },
      "execution_count": null,
      "outputs": []
    },
    {
      "cell_type": "code",
      "source": [
        "df['label'].value_counts()"
      ],
      "metadata": {
        "id": "vmePrq1QY7iT",
        "colab": {
          "base_uri": "https://localhost:8080/"
        },
        "outputId": "07e81d69-e7ed-4757-d5d7-29628d3863c7"
      },
      "execution_count": null,
      "outputs": [
        {
          "output_type": "execute_result",
          "data": {
            "text/plain": [
              "half-true      2095\n",
              "false          1974\n",
              "mostly-true    1954\n",
              "true           1664\n",
              "barely-true    1637\n",
              "pants-fire      830\n",
              "Name: label, dtype: int64"
            ]
          },
          "metadata": {},
          "execution_count": 194
        }
      ]
    },
    {
      "cell_type": "code",
      "source": [
        "# Conversion les données categorielle pour des valeur numéqrique : LabelEncoder, OneHotEncoder\n",
        "# Conversion pour l'attribut label : df['label']\n",
        "\n",
        "from sklearn.preprocessing import LabelEncoder\n",
        "\n",
        "le = LabelEncoder()\n",
        "# Conversion de la variable cible 'label'\n",
        "y_train = le.fit_transform(y_train)\n",
        "y_test = le.fit_transform(y_test)\n"
      ],
      "metadata": {
        "id": "8vZrDH_tWtQL"
      },
      "execution_count": null,
      "outputs": []
    },
    {
      "cell_type": "code",
      "source": [
        "\n",
        "# Vectorization\n",
        "vectorizer = TfidfVectorizer()\n",
        "X_train_vectorized = vectorizer.fit_transform(X_train)\n",
        "X_test_vectorized = vectorizer.transform(X_test)\n"
      ],
      "metadata": {
        "id": "R2LQK5fvO4Kk"
      },
      "execution_count": null,
      "outputs": []
    },
    {
      "cell_type": "code",
      "source": [
        "\n",
        "# SVM\n",
        "svm_classifier = SVC()\n",
        "svm_classifier.fit(X_train_vectorized, y_train)\n",
        "svm_predictions = svm_classifier.predict(X_test_vectorized)"
      ],
      "metadata": {
        "id": "-ltvkLt8O_jg"
      },
      "execution_count": null,
      "outputs": []
    },
    {
      "cell_type": "code",
      "source": [
        "# Naive Bayes\n",
        "nb_classifier = MultinomialNB()\n",
        "nb_classifier.fit(X_train_vectorized, y_train)\n",
        "nb_predictions = nb_classifier.predict(X_test_vectorized)\n"
      ],
      "metadata": {
        "id": "USNbTMlXO8vV"
      },
      "execution_count": null,
      "outputs": []
    },
    {
      "cell_type": "code",
      "source": [
        "# Evaluate\n",
        "print(\"Naive Bayes Accuracy:\", accuracy_score(y_test, nb_predictions))\n",
        "print(\"SVM Accuracy:\", accuracy_score(y_test, svm_predictions))\n",
        "print(\"\\nNaive Bayes Classification Report:\\n\", classification_report(y_test, nb_predictions))\n",
        "print(\"\\nSVM Classification Report:\\n\", classification_report(y_test, svm_predictions))"
      ],
      "metadata": {
        "id": "N-fjAkkobkNF",
        "colab": {
          "base_uri": "https://localhost:8080/"
        },
        "outputId": "28f97213-8bc1-4ce0-cada-e8aaa2b33768"
      },
      "execution_count": null,
      "outputs": [
        {
          "output_type": "stream",
          "name": "stdout",
          "text": [
            "Naive Bayes Accuracy: 0.24403815580286167\n",
            "SVM Accuracy: 0.26232114467408585\n",
            "\n",
            "Naive Bayes Classification Report:\n",
            "               precision    recall  f1-score   support\n",
            "\n",
            "           0       0.37      0.08      0.13       210\n",
            "           1       0.26      0.27      0.26       249\n",
            "           2       0.23      0.55      0.33       263\n",
            "           3       0.23      0.30      0.26       240\n",
            "           4       0.00      0.00      0.00        90\n",
            "           5       0.24      0.04      0.07       206\n",
            "\n",
            "    accuracy                           0.24      1258\n",
            "   macro avg       0.22      0.21      0.18      1258\n",
            "weighted avg       0.25      0.24      0.20      1258\n",
            "\n",
            "\n",
            "SVM Classification Report:\n",
            "               precision    recall  f1-score   support\n",
            "\n",
            "           0       0.30      0.14      0.19       210\n",
            "           1       0.28      0.43      0.34       249\n",
            "           2       0.24      0.34      0.28       263\n",
            "           3       0.24      0.29      0.26       240\n",
            "           4       1.00      0.02      0.04        90\n",
            "           5       0.29      0.16      0.20       206\n",
            "\n",
            "    accuracy                           0.26      1258\n",
            "   macro avg       0.39      0.23      0.22      1258\n",
            "weighted avg       0.32      0.26      0.24      1258\n",
            "\n"
          ]
        },
        {
          "output_type": "stream",
          "name": "stderr",
          "text": [
            "/usr/local/lib/python3.10/dist-packages/sklearn/metrics/_classification.py:1344: UndefinedMetricWarning: Precision and F-score are ill-defined and being set to 0.0 in labels with no predicted samples. Use `zero_division` parameter to control this behavior.\n",
            "  _warn_prf(average, modifier, msg_start, len(result))\n",
            "/usr/local/lib/python3.10/dist-packages/sklearn/metrics/_classification.py:1344: UndefinedMetricWarning: Precision and F-score are ill-defined and being set to 0.0 in labels with no predicted samples. Use `zero_division` parameter to control this behavior.\n",
            "  _warn_prf(average, modifier, msg_start, len(result))\n",
            "/usr/local/lib/python3.10/dist-packages/sklearn/metrics/_classification.py:1344: UndefinedMetricWarning: Precision and F-score are ill-defined and being set to 0.0 in labels with no predicted samples. Use `zero_division` parameter to control this behavior.\n",
            "  _warn_prf(average, modifier, msg_start, len(result))\n"
          ]
        }
      ]
    },
    {
      "cell_type": "markdown",
      "source": [
        "###Explication des Faibles Scores Obtenus"
      ],
      "metadata": {
        "id": "x7OFkx-cSyTx"
      }
    },
    {
      "cell_type": "markdown",
      "source": [
        "\n",
        "Les faibles scores d'exactitude et de F1 obtenus pour les modèles Naive Bayes (NBN) et Support Vector Machines (SVM) suggèrent que l'approche actuelle peut ne pas classifier efficacement nos 'statements' . Voici quelques explications :\n",
        "\n",
        "Classes Déséquilibrées : La distribution inégale des classes peut affecter les performances, en particulier pour les classes minoritaires\n",
        "\n",
        "Réglage des Hyperparamètres : On peut ajuster des differents hyperparamétres pour SVM , NBN pour améliorer les performences de nos modéles"
      ],
      "metadata": {
        "id": "0WJ4RWrbSTC0"
      }
    },
    {
      "cell_type": "markdown",
      "source": [
        "### Groupement des classes en cas binaire (fake/non-fake)"
      ],
      "metadata": {
        "id": "xnu-nQmmTp19"
      }
    },
    {
      "cell_type": "code",
      "source": [
        "from sklearn.feature_extraction.text import TfidfVectorizer\n",
        "from sklearn.naive_bayes import MultinomialNB\n",
        "from sklearn.svm import SVC\n",
        "from sklearn.metrics import accuracy_score, classification_report\n",
        "\n",
        "# Mapping des classes\n",
        "class_mapping = {\n",
        "    'half-true': 'Non Fake',\n",
        "    'mostly-true': 'Non Fake',\n",
        "    'true': 'Non Fake',\n",
        "    'pants-fire': 'Fake',\n",
        "    'false': 'Fake',\n",
        "    'mostly-false': 'Fake'\n",
        "}\n",
        "\n",
        "# Appliquer le mapping sur les colonnes 'label'\n",
        "df['label_grouped'] = df['label'].map(class_mapping)\n",
        "df_test['label_grouped'] = df_test['label'].map(class_mapping)\n",
        "\n",
        "# Prepare the data for binary classification\n",
        "X_train_grouped = df['statement']\n",
        "y_train_grouped = df['label_grouped']\n",
        "\n",
        "X_test_grouped = df_test['statement']\n",
        "y_test_grouped = df_test['label_grouped']\n",
        "\n"
      ],
      "metadata": {
        "id": "2_KZBwIdT1dS"
      },
      "execution_count": null,
      "outputs": []
    },
    {
      "cell_type": "markdown",
      "source": [
        "half-true      1587\n",
        "false          1490\n",
        "mostly-true    1478\n",
        "true           1264\n",
        "barely-true    1224\n",
        "pants-fire"
      ],
      "metadata": {
        "id": "qhaUMIskcB9M"
      }
    },
    {
      "cell_type": "markdown",
      "source": [],
      "metadata": {
        "id": "o8ppK0TPTtGt"
      }
    },
    {
      "cell_type": "code",
      "source": [
        "y_train_grouped.value_counts()"
      ],
      "metadata": {
        "colab": {
          "base_uri": "https://localhost:8080/"
        },
        "id": "r7kwHUg1ZLSU",
        "outputId": "3cfe8421-6f09-43fb-a1e4-9803956be2ff"
      },
      "execution_count": null,
      "outputs": [
        {
          "output_type": "execute_result",
          "data": {
            "text/plain": [
              "Non Fake    5713\n",
              "Fake        2804\n",
              "Name: label_grouped, dtype: int64"
            ]
          },
          "metadata": {},
          "execution_count": 201
        }
      ]
    },
    {
      "cell_type": "code",
      "source": [
        "y_train_grouped = le.fit_transform(y_train_grouped)\n",
        "y_test_grouped = le.fit_transform(y_test_grouped)"
      ],
      "metadata": {
        "id": "CIXhY4yVcl0m"
      },
      "execution_count": null,
      "outputs": []
    },
    {
      "cell_type": "code",
      "source": [
        "# Vectorization for binary classification\n",
        "vectorizer_grouped = TfidfVectorizer()\n",
        "X_train_vectorized_grouped = vectorizer_grouped.fit_transform(X_train_grouped)\n",
        "X_test_vectorized_grouped = vectorizer_grouped.transform(X_test_grouped)\n"
      ],
      "metadata": {
        "id": "16Yyz8gEZa6m"
      },
      "execution_count": null,
      "outputs": []
    },
    {
      "cell_type": "code",
      "source": [
        "# Naive Bayes for binary classification\n",
        "nb_classifier_grouped = MultinomialNB()\n",
        "nb_classifier_grouped.fit(X_train_vectorized_grouped, y_train_grouped)\n",
        "nb_predictions_grouped = nb_classifier_grouped.predict(X_test_vectorized_grouped)\n"
      ],
      "metadata": {
        "id": "-InS2M6eZf02"
      },
      "execution_count": null,
      "outputs": []
    },
    {
      "cell_type": "code",
      "source": [
        "# SVM for binary classification\n",
        "svm_classifier_grouped = SVC()\n",
        "svm_classifier_grouped.fit(X_train_vectorized_grouped, y_train_grouped)\n",
        "svm_predictions_grouped = svm_classifier_grouped.predict(X_test_vectorized_grouped)\n"
      ],
      "metadata": {
        "id": "43opwGvNZkOG"
      },
      "execution_count": null,
      "outputs": []
    },
    {
      "cell_type": "code",
      "source": [
        "# Evaluate binary classification with grouped classes\n",
        "print(\"Naive Bayes Grouped Accuracy:\", accuracy_score(y_test_grouped, nb_predictions_grouped))\n",
        "print(\"SVM Grouped Accuracy:\", accuracy_score(y_test_grouped, svm_predictions_grouped))\n",
        "print(\"\\nNaive Bayes Grouped Classification Report:\\n\", classification_report(y_test_grouped, nb_predictions_grouped))\n",
        "print(\"\\nSVM Grouped Classification Report:\\n\", classification_report(y_test_grouped, svm_predictions_grouped))"
      ],
      "metadata": {
        "id": "tbkjrdlFZkwi",
        "colab": {
          "base_uri": "https://localhost:8080/"
        },
        "outputId": "8bd6589e-a385-4ad2-8425-86bee136c9d2"
      },
      "execution_count": null,
      "outputs": [
        {
          "output_type": "stream",
          "name": "stdout",
          "text": [
            "Naive Bayes Grouped Accuracy: 0.5731319554848967\n",
            "SVM Grouped Accuracy: 0.5874403815580286\n",
            "\n",
            "Naive Bayes Grouped Classification Report:\n",
            "               precision    recall  f1-score   support\n",
            "\n",
            "           0       0.70      0.05      0.09       339\n",
            "           1       0.57      0.99      0.73       709\n",
            "           2       0.00      0.00      0.00       210\n",
            "\n",
            "    accuracy                           0.57      1258\n",
            "   macro avg       0.42      0.35      0.27      1258\n",
            "weighted avg       0.51      0.57      0.43      1258\n",
            "\n",
            "\n",
            "SVM Grouped Classification Report:\n",
            "               precision    recall  f1-score   support\n",
            "\n",
            "           0       0.55      0.14      0.22       339\n",
            "           1       0.59      0.98      0.74       709\n",
            "           2       0.00      0.00      0.00       210\n",
            "\n",
            "    accuracy                           0.59      1258\n",
            "   macro avg       0.38      0.37      0.32      1258\n",
            "weighted avg       0.48      0.59      0.47      1258\n",
            "\n"
          ]
        },
        {
          "output_type": "stream",
          "name": "stderr",
          "text": [
            "/usr/local/lib/python3.10/dist-packages/sklearn/metrics/_classification.py:1344: UndefinedMetricWarning: Precision and F-score are ill-defined and being set to 0.0 in labels with no predicted samples. Use `zero_division` parameter to control this behavior.\n",
            "  _warn_prf(average, modifier, msg_start, len(result))\n",
            "/usr/local/lib/python3.10/dist-packages/sklearn/metrics/_classification.py:1344: UndefinedMetricWarning: Precision and F-score are ill-defined and being set to 0.0 in labels with no predicted samples. Use `zero_division` parameter to control this behavior.\n",
            "  _warn_prf(average, modifier, msg_start, len(result))\n",
            "/usr/local/lib/python3.10/dist-packages/sklearn/metrics/_classification.py:1344: UndefinedMetricWarning: Precision and F-score are ill-defined and being set to 0.0 in labels with no predicted samples. Use `zero_division` parameter to control this behavior.\n",
            "  _warn_prf(average, modifier, msg_start, len(result))\n",
            "/usr/local/lib/python3.10/dist-packages/sklearn/metrics/_classification.py:1344: UndefinedMetricWarning: Precision and F-score are ill-defined and being set to 0.0 in labels with no predicted samples. Use `zero_division` parameter to control this behavior.\n",
            "  _warn_prf(average, modifier, msg_start, len(result))\n",
            "/usr/local/lib/python3.10/dist-packages/sklearn/metrics/_classification.py:1344: UndefinedMetricWarning: Precision and F-score are ill-defined and being set to 0.0 in labels with no predicted samples. Use `zero_division` parameter to control this behavior.\n",
            "  _warn_prf(average, modifier, msg_start, len(result))\n",
            "/usr/local/lib/python3.10/dist-packages/sklearn/metrics/_classification.py:1344: UndefinedMetricWarning: Precision and F-score are ill-defined and being set to 0.0 in labels with no predicted samples. Use `zero_division` parameter to control this behavior.\n",
            "  _warn_prf(average, modifier, msg_start, len(result))\n"
          ]
        }
      ]
    },
    {
      "cell_type": "markdown",
      "source": [
        "## Commentaire"
      ],
      "metadata": {
        "id": "-rn6dyGYiFZX"
      }
    },
    {
      "cell_type": "markdown",
      "source": [
        "\n",
        "\n",
        "Les modèles semblent mieux performants pour la classe \"Non Fake\" par rapport à la classe \"Fake\". Cela pourrait être dû à un déséquilibre dans les données ou à la complexité du regroupement des classes.\n",
        "La classe \"Fake\" (0) a des performances plus faibles, en particulier en termes de rappel. Cela suggère que les modèles ont du mal à identifier correctement les exemples réels de cette classe.\n",
        "Des techniques plus avancées de traitement du texte ou des ajustements supplémentaires des modèles pourraient être explorés pour améliorer les performances, en particulier pour la classe \"Fake\"."
      ],
      "metadata": {
        "id": "OCvDjs7piEmg"
      }
    },
    {
      "cell_type": "markdown",
      "source": [
        "# Traitement de texte"
      ],
      "metadata": {
        "id": "F6ra6v6aij54"
      }
    },
    {
      "cell_type": "markdown",
      "source": [
        "### Tf-Idf"
      ],
      "metadata": {
        "id": "7SSXdnD0inIk"
      }
    },
    {
      "cell_type": "code",
      "source": [
        "from sklearn.feature_extraction.text import TfidfVectorizer\n",
        "from sklearn.pipeline import make_pipeline\n",
        "from sklearn.preprocessing import StandardScaler\n",
        "\n",
        "# Créer un pipeline avec lemmatisation, suppression des stopwords et classification\n",
        "pipeline_nb = make_pipeline(TfidfVectorizer(stop_words='english', lowercase=True, use_idf=True, smooth_idf=True, sublinear_tf=True), MultinomialNB())\n",
        "pipeline_svm = make_pipeline(TfidfVectorizer(stop_words='english', lowercase=True, use_idf=True, smooth_idf=True, sublinear_tf=True), StandardScaler(with_mean=False), SVC())\n",
        "\n",
        "# Entraîner les modèles avec le nouveau pipeline\n",
        "pipeline_nb.fit(X_train_grouped, y_train_grouped)\n",
        "pipeline_svm.fit(X_train_grouped, y_train_grouped)\n",
        "\n",
        "# Prédictions\n",
        "nb_predictions_preprocessed = pipeline_nb.predict(X_test_grouped)\n",
        "svm_predictions_preprocessed = pipeline_svm.predict(X_test_grouped)\n",
        "\n",
        "# Évaluation\n",
        "print(\"Naive Bayes Preprocessed Accuracy:\", accuracy_score(y_test_grouped, nb_predictions_preprocessed))\n",
        "print(\"SVM Preprocessed Accuracy:\", accuracy_score(y_test_grouped, svm_predictions_preprocessed))\n",
        "print(\"\\nNaive Bayes Preprocessed Classification Report:\\n\", classification_report(y_test_grouped, nb_predictions_preprocessed))\n",
        "print(\"\\nSVM Preprocessed Classification Report:\\n\", classification_report(y_test_grouped, svm_predictions_preprocessed))"
      ],
      "metadata": {
        "colab": {
          "base_uri": "https://localhost:8080/"
        },
        "id": "ptvjs_eFeGnj",
        "outputId": "fc8785d6-f248-4441-8d83-e01ee02bd5b0"
      },
      "execution_count": null,
      "outputs": [
        {
          "output_type": "stream",
          "name": "stdout",
          "text": [
            "Naive Bayes Preprocessed Accuracy: 0.5707472178060413\n",
            "SVM Preprocessed Accuracy: 0.5620031796502385\n",
            "\n",
            "Naive Bayes Preprocessed Classification Report:\n",
            "               precision    recall  f1-score   support\n",
            "\n",
            "           0       0.61      0.04      0.08       339\n",
            "           1       0.57      0.99      0.72       709\n",
            "           2       0.00      0.00      0.00       210\n",
            "\n",
            "    accuracy                           0.57      1258\n",
            "   macro avg       0.39      0.34      0.27      1258\n",
            "weighted avg       0.49      0.57      0.43      1258\n",
            "\n",
            "\n",
            "SVM Preprocessed Classification Report:\n",
            "               precision    recall  f1-score   support\n",
            "\n",
            "           0       0.30      0.01      0.02       339\n",
            "           1       0.56      0.99      0.72       709\n",
            "           2       0.00      0.00      0.00       210\n",
            "\n",
            "    accuracy                           0.56      1258\n",
            "   macro avg       0.29      0.33      0.25      1258\n",
            "weighted avg       0.40      0.56      0.41      1258\n",
            "\n"
          ]
        },
        {
          "output_type": "stream",
          "name": "stderr",
          "text": [
            "/usr/local/lib/python3.10/dist-packages/sklearn/metrics/_classification.py:1344: UndefinedMetricWarning: Precision and F-score are ill-defined and being set to 0.0 in labels with no predicted samples. Use `zero_division` parameter to control this behavior.\n",
            "  _warn_prf(average, modifier, msg_start, len(result))\n",
            "/usr/local/lib/python3.10/dist-packages/sklearn/metrics/_classification.py:1344: UndefinedMetricWarning: Precision and F-score are ill-defined and being set to 0.0 in labels with no predicted samples. Use `zero_division` parameter to control this behavior.\n",
            "  _warn_prf(average, modifier, msg_start, len(result))\n",
            "/usr/local/lib/python3.10/dist-packages/sklearn/metrics/_classification.py:1344: UndefinedMetricWarning: Precision and F-score are ill-defined and being set to 0.0 in labels with no predicted samples. Use `zero_division` parameter to control this behavior.\n",
            "  _warn_prf(average, modifier, msg_start, len(result))\n",
            "/usr/local/lib/python3.10/dist-packages/sklearn/metrics/_classification.py:1344: UndefinedMetricWarning: Precision and F-score are ill-defined and being set to 0.0 in labels with no predicted samples. Use `zero_division` parameter to control this behavior.\n",
            "  _warn_prf(average, modifier, msg_start, len(result))\n",
            "/usr/local/lib/python3.10/dist-packages/sklearn/metrics/_classification.py:1344: UndefinedMetricWarning: Precision and F-score are ill-defined and being set to 0.0 in labels with no predicted samples. Use `zero_division` parameter to control this behavior.\n",
            "  _warn_prf(average, modifier, msg_start, len(result))\n",
            "/usr/local/lib/python3.10/dist-packages/sklearn/metrics/_classification.py:1344: UndefinedMetricWarning: Precision and F-score are ill-defined and being set to 0.0 in labels with no predicted samples. Use `zero_division` parameter to control this behavior.\n",
            "  _warn_prf(average, modifier, msg_start, len(result))\n"
          ]
        }
      ]
    },
    {
      "cell_type": "markdown",
      "source": [
        "## Commentaire"
      ],
      "metadata": {
        "id": "YmnzatGuea0j"
      }
    },
    {
      "cell_type": "markdown",
      "source": [
        "dans cette partie nous utilisons le TfidfVectorizer avec la lemmatisation (lowercase=True) et la suppression des stopwords (stop_words='english')"
      ],
      "metadata": {
        "id": "uaSbk7-WeeaK"
      }
    },
    {
      "cell_type": "markdown",
      "source": [
        "## WORD2VEC"
      ],
      "metadata": {
        "id": "f5KAfTbvn579"
      }
    },
    {
      "cell_type": "code",
      "source": [
        "\n",
        "# Download NLTK 'punkt' resource\n",
        "nltk.download('punkt')"
      ],
      "metadata": {
        "id": "cP2p-MioiyLM"
      },
      "execution_count": null,
      "outputs": []
    },
    {
      "cell_type": "code",
      "source": [
        "import nltk\n",
        "from gensim.models import Word2Vec\n",
        "from sklearn.svm import SVC\n",
        "from sklearn.naive_bayes import GaussianNB\n",
        "from sklearn.metrics import accuracy_score, classification_report\n",
        "from sklearn.pipeline import Pipeline\n",
        "from sklearn.preprocessing import StandardScaler\n",
        "from sklearn.base import BaseEstimator, TransformerMixin\n",
        "import numpy as np\n",
        "from gensim.downloader import load"
      ],
      "metadata": {
        "id": "Y_fCOh3Vnjnm"
      },
      "execution_count": null,
      "outputs": []
    },
    {
      "cell_type": "code",
      "source": [
        "class Word2VecVectorizer(BaseEstimator, TransformerMixin):\n",
        "    def __init__(self, model_path=None):\n",
        "        self.model_path = model_path\n",
        "        self.model = None\n",
        "\n",
        "    def fit(self, X, y=None):\n",
        "        # Train Word2Vec model on your training data\n",
        "        sentences = [nltk.word_tokenize(text.lower()) for text in X]\n",
        "        self.model = Word2Vec(sentences, vector_size=100, window=5, min_count=1, workers=4)\n",
        "        return self\n",
        "\n",
        "    def transform(self, X):\n",
        "        # Convert each document to the mean of its word vectors\n",
        "        vectors = []\n",
        "        for text in X:\n",
        "            words = nltk.word_tokenize(text.lower())\n",
        "            vector = np.mean([self.model.wv[word] for word in words if word in self.model.wv], axis=0)\n",
        "            vector[vector < 0] = 0  # Replace negative values with zeros\n",
        "            vectors.append(vector)\n",
        "        return np.vstack(vectors)\n",
        "\n",
        "# Create a pipeline with Word2Vec embeddings and the chosen classifiers\n",
        "pipeline_nb = make_pipeline(Word2VecVectorizer(), MultinomialNB())\n",
        "pipeline_svm = make_pipeline(Word2VecVectorizer(), StandardScaler(), SVC())\n",
        "\n",
        "# Train the models with the new pipeline\n",
        "pipeline_nb.fit(X_train_grouped, y_train_grouped)\n",
        "pipeline_svm.fit(X_train_grouped, y_train_grouped)\n",
        "\n",
        "# Predictions\n",
        "nb_predictions = pipeline_nb.predict(X_test_grouped)\n",
        "svm_predictions = pipeline_svm.predict(X_test_grouped)\n",
        "\n",
        "# Evaluation\n",
        "print(\"Naive Bayes Accuracy:\", accuracy_score(y_test_grouped, nb_predictions))\n",
        "print(\"SVM Accuracy:\", accuracy_score(y_test_grouped, svm_predictions))\n",
        "print(\"\\nNaive Bayes Classification Report:\\n\", classification_report(y_test_grouped, nb_predictions))\n",
        "print(\"\\nSVM Classification Report:\\n\", classification_report(y_test_grouped, svm_predictions))"
      ],
      "metadata": {
        "colab": {
          "base_uri": "https://localhost:8080/"
        },
        "id": "sZbiq0SmenH4",
        "outputId": "f9a51e1d-337c-4e97-c97e-7a1c1af6b2d8"
      },
      "execution_count": null,
      "outputs": [
        {
          "output_type": "stream",
          "name": "stdout",
          "text": [
            "Naive Bayes Accuracy: 0.5588235294117647\n",
            "SVM Accuracy: 0.5588235294117647\n",
            "\n",
            "Naive Bayes Classification Report:\n",
            "               precision    recall  f1-score   support\n",
            "\n",
            "           0       0.30      0.03      0.05       339\n",
            "           1       0.57      0.98      0.72       709\n",
            "           2       0.00      0.00      0.00       210\n",
            "\n",
            "    accuracy                           0.56      1258\n",
            "   macro avg       0.29      0.34      0.26      1258\n",
            "weighted avg       0.40      0.56      0.42      1258\n",
            "\n",
            "\n",
            "SVM Classification Report:\n",
            "               precision    recall  f1-score   support\n",
            "\n",
            "           0       0.27      0.04      0.06       339\n",
            "           1       0.57      0.97      0.72       709\n",
            "           2       0.00      0.00      0.00       210\n",
            "\n",
            "    accuracy                           0.56      1258\n",
            "   macro avg       0.28      0.34      0.26      1258\n",
            "weighted avg       0.39      0.56      0.42      1258\n",
            "\n"
          ]
        },
        {
          "output_type": "stream",
          "name": "stderr",
          "text": [
            "/usr/local/lib/python3.10/dist-packages/sklearn/metrics/_classification.py:1344: UndefinedMetricWarning: Precision and F-score are ill-defined and being set to 0.0 in labels with no predicted samples. Use `zero_division` parameter to control this behavior.\n",
            "  _warn_prf(average, modifier, msg_start, len(result))\n",
            "/usr/local/lib/python3.10/dist-packages/sklearn/metrics/_classification.py:1344: UndefinedMetricWarning: Precision and F-score are ill-defined and being set to 0.0 in labels with no predicted samples. Use `zero_division` parameter to control this behavior.\n",
            "  _warn_prf(average, modifier, msg_start, len(result))\n",
            "/usr/local/lib/python3.10/dist-packages/sklearn/metrics/_classification.py:1344: UndefinedMetricWarning: Precision and F-score are ill-defined and being set to 0.0 in labels with no predicted samples. Use `zero_division` parameter to control this behavior.\n",
            "  _warn_prf(average, modifier, msg_start, len(result))\n",
            "/usr/local/lib/python3.10/dist-packages/sklearn/metrics/_classification.py:1344: UndefinedMetricWarning: Precision and F-score are ill-defined and being set to 0.0 in labels with no predicted samples. Use `zero_division` parameter to control this behavior.\n",
            "  _warn_prf(average, modifier, msg_start, len(result))\n",
            "/usr/local/lib/python3.10/dist-packages/sklearn/metrics/_classification.py:1344: UndefinedMetricWarning: Precision and F-score are ill-defined and being set to 0.0 in labels with no predicted samples. Use `zero_division` parameter to control this behavior.\n",
            "  _warn_prf(average, modifier, msg_start, len(result))\n",
            "/usr/local/lib/python3.10/dist-packages/sklearn/metrics/_classification.py:1344: UndefinedMetricWarning: Precision and F-score are ill-defined and being set to 0.0 in labels with no predicted samples. Use `zero_division` parameter to control this behavior.\n",
            "  _warn_prf(average, modifier, msg_start, len(result))\n"
          ]
        }
      ]
    },
    {
      "cell_type": "markdown",
      "source": [
        "On obtient presque les memes resultats en utilisant Wor2Vec"
      ],
      "metadata": {
        "id": "MHb-wc1jpIcH"
      }
    },
    {
      "cell_type": "markdown",
      "source": [
        "## Glove"
      ],
      "metadata": {
        "id": "5RUPfykDoz--"
      }
    },
    {
      "cell_type": "markdown",
      "source": [
        "Telechargement de modéle glove"
      ],
      "metadata": {
        "id": "ZLBh9-gto8GW"
      }
    },
    {
      "cell_type": "code",
      "source": [
        "# Load pre-trained GloVe vectors\n",
        "glove_model = load('glove-twitter-100')"
      ],
      "metadata": {
        "id": "OwCi1y64ozHE"
      },
      "execution_count": null,
      "outputs": []
    },
    {
      "cell_type": "code",
      "source": [
        "\n",
        "class GloVeVectorizer(BaseEstimator, TransformerMixin):\n",
        "    def __init__(self, model):\n",
        "        self.model = model\n",
        "\n",
        "    def fit(self, X, y=None):\n",
        "        # No training needed for pre-trained embeddings\n",
        "        return self\n",
        "\n",
        "    def transform(self, X):\n",
        "        # Convert each document to the mean of its word vectors\n",
        "        vectors = []\n",
        "        for text in X:\n",
        "            words = nltk.word_tokenize(text.lower())\n",
        "            vectors.append(np.mean([self.model[word] for word in words if word in self.model], axis=0))\n",
        "        return np.vstack(vectors)\n",
        "\n",
        "# Create a pipeline with GloVe embeddings and Gaussian Naive Bayes\n",
        "# for SVM, we will use the original vectors without modification\n",
        "pipeline_nb = make_pipeline(GloVeVectorizer(glove_model), StandardScaler(), GaussianNB())\n",
        "pipeline_svm = make_pipeline(GloVeVectorizer(glove_model), StandardScaler(), SVC())\n",
        "\n",
        "# Train the models with the new pipeline\n",
        "pipeline_nb.fit(X_train_grouped, y_train_grouped)\n",
        "pipeline_svm.fit(X_train_grouped, y_train_grouped)\n",
        "\n",
        "# Predictions\n",
        "nb_predictions = pipeline_nb.predict(X_test_grouped)\n",
        "svm_predictions = pipeline_svm.predict(X_test_grouped)\n",
        "\n",
        "# Evaluation\n",
        "print(\"Naive Bayes Accuracy:\", accuracy_score(y_test_grouped, nb_predictions))\n",
        "print(\"SVM Accuracy:\", accuracy_score(y_test_grouped, svm_predictions))\n",
        "print(\"\\nNaive Bayes Classification Report:\\n\", classification_report(y_test_grouped, nb_predictions))\n",
        "print(\"\\nSVM Classification Report:\\n\", classification_report(y_test_grouped, svm_predictions))\n"
      ],
      "metadata": {
        "colab": {
          "base_uri": "https://localhost:8080/"
        },
        "id": "N7ho5Pmbn0dY",
        "outputId": "76ccd0bb-f240-4a71-b252-61ec6fac6032"
      },
      "execution_count": null,
      "outputs": [
        {
          "output_type": "stream",
          "name": "stdout",
          "text": [
            "Naive Bayes Accuracy: 0.4864864864864865\n",
            "SVM Accuracy: 0.5699523052464229\n",
            "\n",
            "Naive Bayes Classification Report:\n",
            "               precision    recall  f1-score   support\n",
            "\n",
            "           0       0.33      0.36      0.34       339\n",
            "           1       0.63      0.64      0.63       709\n",
            "           2       0.22      0.18      0.19       210\n",
            "\n",
            "    accuracy                           0.49      1258\n",
            "   macro avg       0.39      0.39      0.39      1258\n",
            "weighted avg       0.48      0.49      0.48      1258\n",
            "\n",
            "\n",
            "SVM Classification Report:\n",
            "               precision    recall  f1-score   support\n",
            "\n",
            "           0       0.47      0.09      0.15       339\n",
            "           1       0.58      0.97      0.72       709\n",
            "           2       0.00      0.00      0.00       210\n",
            "\n",
            "    accuracy                           0.57      1258\n",
            "   macro avg       0.35      0.35      0.29      1258\n",
            "weighted avg       0.45      0.57      0.45      1258\n",
            "\n"
          ]
        },
        {
          "output_type": "stream",
          "name": "stderr",
          "text": [
            "/usr/local/lib/python3.10/dist-packages/sklearn/metrics/_classification.py:1344: UndefinedMetricWarning: Precision and F-score are ill-defined and being set to 0.0 in labels with no predicted samples. Use `zero_division` parameter to control this behavior.\n",
            "  _warn_prf(average, modifier, msg_start, len(result))\n",
            "/usr/local/lib/python3.10/dist-packages/sklearn/metrics/_classification.py:1344: UndefinedMetricWarning: Precision and F-score are ill-defined and being set to 0.0 in labels with no predicted samples. Use `zero_division` parameter to control this behavior.\n",
            "  _warn_prf(average, modifier, msg_start, len(result))\n",
            "/usr/local/lib/python3.10/dist-packages/sklearn/metrics/_classification.py:1344: UndefinedMetricWarning: Precision and F-score are ill-defined and being set to 0.0 in labels with no predicted samples. Use `zero_division` parameter to control this behavior.\n",
            "  _warn_prf(average, modifier, msg_start, len(result))\n"
          ]
        }
      ]
    },
    {
      "cell_type": "markdown",
      "source": [
        "## Comparaison des performance entre Wor2Vec et Glove"
      ],
      "metadata": {
        "id": "Ooj6a8XltVF3"
      }
    },
    {
      "cell_type": "markdown",
      "source": [
        "On remarque que est plus performant que Glove parce que  Word2Vec prend en compte le contexte local des mots dans les phrases, tandis que GloVe repose sur des co-occurrences globales . et dans notre variable explicative qui est 'Statement' repose sur des phrase courtes et donc moin d'occurences ."
      ],
      "metadata": {
        "id": "Nq3q9hj9tVLB"
      }
    },
    {
      "cell_type": "markdown",
      "source": [
        "## Ajustement des Hyperparamétres"
      ],
      "metadata": {
        "id": "QPJEYci4uvlu"
      }
    },
    {
      "cell_type": "code",
      "source": [
        "from sklearn.svm import SVC\n",
        "from sklearn.model_selection import GridSearchCV\n",
        "from sklearn.metrics import accuracy_score, classification_report\n",
        "from sklearn.feature_extraction.text import TfidfVectorizer"
      ],
      "metadata": {
        "id": "pDtZ7Nrde7W4"
      },
      "execution_count": null,
      "outputs": []
    },
    {
      "cell_type": "code",
      "source": [
        "# Vectorization for binary classification\n",
        "vectorizer_grouped = TfidfVectorizer()\n",
        "X_train_vectorized_grouped = vectorizer_grouped.fit_transform(X_train_grouped)\n",
        "X_test_vectorized_grouped = vectorizer_grouped.transform(X_test_grouped)\n",
        "\n",
        "\n",
        "\n"
      ],
      "metadata": {
        "id": "GeYpMQvRdoWl"
      },
      "execution_count": null,
      "outputs": []
    },
    {
      "cell_type": "code",
      "source": [
        "# SVM with different kernels and hyperparameter tuning\n",
        "param_grid = {\n",
        "    'C': [0.1, 1, 10, 100],\n",
        "    'kernel': ['linear', 'poly', 'rbf', 'sigmoid'],\n",
        "}\n"
      ],
      "metadata": {
        "id": "VxOfSrVcvOnH"
      },
      "execution_count": null,
      "outputs": []
    },
    {
      "cell_type": "code",
      "source": [
        "svm_classifier_grouped = SVC()\n",
        "grid_search = GridSearchCV(svm_classifier_grouped, param_grid, cv=5, n_jobs=-1)\n",
        "grid_search.fit(X_train_vectorized_grouped, y_train_grouped)"
      ],
      "metadata": {
        "id": "Ew9yJ72QK-ER"
      },
      "execution_count": null,
      "outputs": []
    },
    {
      "cell_type": "markdown",
      "source": [
        "GridSearchCV est utilisé pour rechercher les meilleurs hyperparamètres pour le SVM en termes de précision sur un ensemble de validation croisée"
      ],
      "metadata": {
        "id": "8k6ILE68wCzy"
      }
    },
    {
      "cell_type": "code",
      "source": [
        "# Get the best parameters from the grid search\n",
        "best_params = grid_search.best_params_\n",
        "best_svm_classifier_grouped = grid_search.best_estimator_\n",
        "\n",
        "# Predictions\n",
        "svm_predictions_grouped = best_svm_classifier_grouped.predict(X_test_vectorized_grouped)\n"
      ],
      "metadata": {
        "id": "2eFxqBj-vm3I"
      },
      "execution_count": null,
      "outputs": []
    },
    {
      "cell_type": "code",
      "source": [
        "\n",
        "\n",
        "print(\"SVM Grouped Best Parameters:\", best_params)\n",
        "print(\"SVM Grouped Accuracy:\", accuracy_score(y_test_grouped, svm_predictions_grouped))\n",
        "print(\"\\nSVM Grouped Classification Report:\\n\", classification_report(y_test_grouped, svm_predictions_grouped))"
      ],
      "metadata": {
        "colab": {
          "base_uri": "https://localhost:8080/"
        },
        "id": "UoJf8wCsvpB_",
        "outputId": "55a12e2c-67b0-43d5-ad99-bd737f5c0521"
      },
      "execution_count": null,
      "outputs": [
        {
          "output_type": "stream",
          "name": "stdout",
          "text": [
            "SVM Grouped Best Parameters: {'C': 1, 'kernel': 'rbf'}\n",
            "SVM Grouped Accuracy: 0.5874403815580286\n",
            "\n",
            "SVM Grouped Classification Report:\n",
            "               precision    recall  f1-score   support\n",
            "\n",
            "           0       0.55      0.14      0.22       339\n",
            "           1       0.59      0.98      0.74       709\n",
            "           2       0.00      0.00      0.00       210\n",
            "\n",
            "    accuracy                           0.59      1258\n",
            "   macro avg       0.38      0.37      0.32      1258\n",
            "weighted avg       0.48      0.59      0.47      1258\n",
            "\n"
          ]
        },
        {
          "output_type": "stream",
          "name": "stderr",
          "text": [
            "/usr/local/lib/python3.10/dist-packages/sklearn/metrics/_classification.py:1344: UndefinedMetricWarning: Precision and F-score are ill-defined and being set to 0.0 in labels with no predicted samples. Use `zero_division` parameter to control this behavior.\n",
            "  _warn_prf(average, modifier, msg_start, len(result))\n",
            "/usr/local/lib/python3.10/dist-packages/sklearn/metrics/_classification.py:1344: UndefinedMetricWarning: Precision and F-score are ill-defined and being set to 0.0 in labels with no predicted samples. Use `zero_division` parameter to control this behavior.\n",
            "  _warn_prf(average, modifier, msg_start, len(result))\n",
            "/usr/local/lib/python3.10/dist-packages/sklearn/metrics/_classification.py:1344: UndefinedMetricWarning: Precision and F-score are ill-defined and being set to 0.0 in labels with no predicted samples. Use `zero_division` parameter to control this behavior.\n",
            "  _warn_prf(average, modifier, msg_start, len(result))\n"
          ]
        }
      ]
    },
    {
      "cell_type": "markdown",
      "source": [
        "## Commentaire"
      ],
      "metadata": {
        "id": "sW7pt-jIwX4h"
      }
    },
    {
      "cell_type": "markdown",
      "source": [
        "On a Testé SVM avec differents hyperparamétres Noyeau ('linear','poly','rbf','sigmoid') et pour differentes valeurs de C ( 0.1 , 1 , 10 , 100 ) , Notre modéle est le Plus Performant avec ces paramétres : C = 1 , Noyeau = 'rbf' avec un score de 0.59"
      ],
      "metadata": {
        "id": "Np_vKvgkwYWa"
      }
    },
    {
      "cell_type": "markdown",
      "source": [
        "## Application de LSTM Pour Trouver La meilleure méthode de Classfication"
      ],
      "metadata": {
        "id": "6oDR_7PBxG_q"
      }
    },
    {
      "cell_type": "code",
      "source": [
        "import tensorflow as tf\n",
        "from tensorflow.keras.models import Sequential\n",
        "from tensorflow.keras.layers import Embedding, LSTM, Dense, Dropout\n",
        "from tensorflow.keras.preprocessing.text import Tokenizer\n",
        "from tensorflow.keras.preprocessing.sequence import pad_sequences\n",
        "from sklearn.preprocessing import LabelEncoder"
      ],
      "metadata": {
        "id": "q9t5Aq51xWf3"
      },
      "execution_count": null,
      "outputs": []
    },
    {
      "cell_type": "code",
      "source": [
        "# Mapping des classes\n",
        "class_mapping = {\n",
        "    'half-true': 'Non Fake',\n",
        "    'mostly-true': 'Non Fake',\n",
        "    'true': 'Non Fake',\n",
        "    'pants-fire': 'Fake',\n",
        "    'false': 'Fake',\n",
        "    'mostly-false': 'Fake'\n",
        "}\n",
        "\n",
        "# Appliquer le mapping sur les colonnes 'label'\n",
        "df_val['label_grouped'] = df_val['label'].map(class_mapping)\n",
        "\n",
        "\n",
        "# Prepare the data for binary classification\n",
        "X_val_grouped = df['statement']\n",
        "y_val_grouped = df['label_grouped']\n",
        "\n",
        "\n",
        "\n",
        "\n"
      ],
      "metadata": {
        "id": "eWXcbhGuvZaV"
      },
      "execution_count": null,
      "outputs": []
    },
    {
      "cell_type": "code",
      "source": [
        "max_words = 10000\n",
        "tokenizer = Tokenizer(num_words=max_words, oov_token=\"<OOV>\")\n",
        "tokenizer.fit_on_texts(X_train_grouped)"
      ],
      "metadata": {
        "id": "kr3MBjh04p6r"
      },
      "execution_count": null,
      "outputs": []
    },
    {
      "cell_type": "code",
      "source": [
        "X_train_sequence = tokenizer.texts_to_sequences(X_train_grouped)\n",
        "X_test_sequence = tokenizer.texts_to_sequences(X_test_grouped)\n",
        "X_val_sequence = tokenizer.texts_to_sequences(X_val_grouped)\n",
        "\n",
        "max_len = max(len(seq) for seq in X_train_sequence)\n",
        "\n",
        "X_train_padded = pad_sequences(X_train_sequence, maxlen=max_len, padding='post')\n",
        "X_test_padded = pad_sequences(X_test_sequence, maxlen=max_len, padding='post')\n",
        "X_val_padded = pad_sequences(X_val_sequence, maxlen=max_len, padding='post')\n",
        "\n",
        "# Encode labels\n",
        "label_encoder = LabelEncoder()\n",
        "y_train_encoded = label_encoder.fit_transform(y_train_grouped)\n",
        "y_test_encoded = label_encoder.transform(y_test_grouped)\n",
        "y_val_encoded = label_encoder.fit_transform(y_val_grouped)"
      ],
      "metadata": {
        "id": "UOBd3ytlxvSG"
      },
      "execution_count": null,
      "outputs": []
    },
    {
      "cell_type": "code",
      "source": [
        "model = Sequential()\n",
        "model.add(Embedding(input_dim=max_words, output_dim=128, input_length=max_len))\n",
        "model.add(LSTM(128, activation='relu', return_sequences=True))  # Increase units and use 'relu'\n",
        "model.add(LSTM(64, activation='relu'))\n",
        "model.add(Dense(1, activation='sigmoid'))"
      ],
      "metadata": {
        "id": "z0lqSjkhtnjR"
      },
      "execution_count": null,
      "outputs": []
    },
    {
      "cell_type": "code",
      "source": [
        "model.compile(optimizer=tf.keras.optimizers.Adam(learning_rate=0.001), loss='binary_crossentropy', metrics=['accuracy'])\n",
        "\n"
      ],
      "metadata": {
        "id": "FyiJQHqHtpz2"
      },
      "execution_count": null,
      "outputs": []
    },
    {
      "cell_type": "code",
      "source": [
        "\n",
        "model.fit(X_train_padded, y_train_encoded, epochs=5,batch_size=128, validation_data=(X_test_padded, y_test_encoded))"
      ],
      "metadata": {
        "colab": {
          "base_uri": "https://localhost:8080/"
        },
        "id": "rrKGxF8ltzp_",
        "outputId": "6a141fa5-6751-4b79-ea35-5d2549452217"
      },
      "execution_count": null,
      "outputs": [
        {
          "output_type": "stream",
          "name": "stdout",
          "text": [
            "Epoch 1/5\n",
            "80/80 [==============================] - 263s 3s/step - loss: 0.4138 - accuracy: 0.5626 - val_loss: 0.3318 - val_accuracy: 0.5636\n",
            "Epoch 2/5\n",
            "80/80 [==============================] - 248s 3s/step - loss: 0.3609 - accuracy: 0.5626 - val_loss: 0.3362 - val_accuracy: 0.5636\n",
            "Epoch 3/5\n",
            "80/80 [==============================] - 249s 3s/step - loss: 0.3606 - accuracy: 0.5626 - val_loss: 0.3325 - val_accuracy: 0.5636\n",
            "Epoch 4/5\n",
            "80/80 [==============================] - 252s 3s/step - loss: 0.3597 - accuracy: 0.5626 - val_loss: 0.3351 - val_accuracy: 0.5636\n",
            "Epoch 5/5\n",
            "80/80 [==============================] - 255s 3s/step - loss: 0.3591 - accuracy: 0.5626 - val_loss: 0.3308 - val_accuracy: 0.5636\n"
          ]
        },
        {
          "output_type": "execute_result",
          "data": {
            "text/plain": [
              "<keras.src.callbacks.History at 0x7874420f1cf0>"
            ]
          },
          "metadata": {},
          "execution_count": 127
        }
      ]
    },
    {
      "cell_type": "code",
      "source": [
        "# Evaluate the model\n",
        "loss, accuracy = model.evaluate(X_test_padded, y_test_encoded)\n",
        "print(f\"\\nTest Accuracy: {accuracy * 100:.2f}%\")"
      ],
      "metadata": {
        "id": "8oqPSvUcttkk",
        "colab": {
          "base_uri": "https://localhost:8080/"
        },
        "outputId": "44aa636a-1a93-4edf-cf4a-151021c1227e"
      },
      "execution_count": null,
      "outputs": [
        {
          "output_type": "stream",
          "name": "stdout",
          "text": [
            "40/40 [==============================] - 15s 373ms/step - loss: 0.3308 - accuracy: 0.5636\n",
            "\n",
            "Test Accuracy: 56.36%\n"
          ]
        }
      ]
    },
    {
      "cell_type": "markdown",
      "source": [
        "Nous utilisons un modèle LSTM simple avec une couche d'embedding, deux couches LSTM, et une couche Dense avec une fonction d'activation sigmoid.\n",
        "Les données sont tokenizées et les séquences sont remplies pour avoir la même longueur.\n",
        "Le modèle est compilé avec la fonction de perte binaire 'binary_crossentropy' et l'optimiseur 'adam'.\n",
        "Le modèle est ensuite entraîné sur les données d'apprentissage."
      ],
      "metadata": {
        "id": "S6XfeuBKB2PH"
      }
    },
    {
      "cell_type": "markdown",
      "source": [
        "## Tester Le modéle avec différents Variables"
      ],
      "metadata": {
        "id": "llIriI9bAmh3"
      }
    },
    {
      "cell_type": "code",
      "source": [
        "# Appliquer le mapping sur les colonnes 'label'\n",
        "df['label_grouped'] = df['label'].map(class_mapping)\n",
        "df_test['label_grouped'] = df_test['label'].map(class_mapping)\n",
        "\n",
        "# Prepare the data for binary classification\n",
        "X_train_grouped = df[['statement', 'speaker','subject(s)']]\n",
        "y_train_grouped = df['label_grouped']\n",
        "\n",
        "X_test_grouped = df_test[['statement', 'speaker','subject(s)']]\n",
        "y_test_grouped = df_test['label_grouped']\n",
        "\n",
        "# Encode labels\n",
        "le = LabelEncoder()\n",
        "y_train_grouped = le.fit_transform(y_train_grouped)\n",
        "y_test_grouped = le.fit_transform(y_test_grouped)\n",
        "\n",
        "# Vectorization for binary classification\n",
        "vectorizer_grouped = TfidfVectorizer()\n",
        "X_train_vectorized_grouped = vectorizer_grouped.fit_transform(X_train_grouped.apply(lambda x: ' '.join(x), axis=1))\n",
        "X_test_vectorized_grouped = vectorizer_grouped.transform(X_test_grouped.apply(lambda x: ' '.join(x), axis=1))\n",
        "\n",
        "# Naive Bayes for binary classification\n",
        "nb_classifier_grouped = MultinomialNB()\n",
        "nb_classifier_grouped.fit(X_train_vectorized_grouped, y_train_grouped)\n",
        "nb_predictions_grouped = nb_classifier_grouped.predict(X_test_vectorized_grouped)\n",
        "\n",
        "# SVM for binary classification\n",
        "svm_classifier_grouped = SVC()\n",
        "svm_classifier_grouped.fit(X_train_vectorized_grouped, y_train_grouped)\n",
        "svm_predictions_grouped = svm_classifier_grouped.predict(X_test_vectorized_grouped)\n",
        "\n",
        "# Evaluate binary classification with grouped classes\n",
        "print(\"Naive Bayes Grouped Accuracy:\", accuracy_score(y_test_grouped, nb_predictions_grouped))\n",
        "print(\"SVM Grouped Accuracy:\", accuracy_score(y_test_grouped, svm_predictions_grouped))\n",
        "print(\"\\nNaive Bayes Grouped Classification Report:\\n\", classification_report(y_test_grouped, nb_predictions_grouped))\n",
        "print(\"\\nSVM Grouped Classification Report:\\n\", classification_report(y_test_grouped, svm_predictions_grouped))"
      ],
      "metadata": {
        "id": "XrZN8gPQIORr",
        "colab": {
          "base_uri": "https://localhost:8080/"
        },
        "outputId": "86419b14-c83f-452e-9bb7-388fd5359cd6"
      },
      "execution_count": null,
      "outputs": [
        {
          "output_type": "stream",
          "name": "stdout",
          "text": [
            "Naive Bayes Grouped Accuracy: 0.5763116057233705\n",
            "SVM Grouped Accuracy: 0.5937996820349761\n",
            "\n",
            "Naive Bayes Grouped Classification Report:\n",
            "               precision    recall  f1-score   support\n",
            "\n",
            "           0       0.75      0.06      0.11       339\n",
            "           1       0.57      0.99      0.73       709\n",
            "           2       0.00      0.00      0.00       210\n",
            "\n",
            "    accuracy                           0.58      1258\n",
            "   macro avg       0.44      0.35      0.28      1258\n",
            "weighted avg       0.52      0.58      0.44      1258\n",
            "\n",
            "\n",
            "SVM Grouped Classification Report:\n",
            "               precision    recall  f1-score   support\n",
            "\n",
            "           0       0.57      0.17      0.27       339\n",
            "           1       0.60      0.97      0.74       709\n",
            "           2       0.00      0.00      0.00       210\n",
            "\n",
            "    accuracy                           0.59      1258\n",
            "   macro avg       0.39      0.38      0.33      1258\n",
            "weighted avg       0.49      0.59      0.49      1258\n",
            "\n"
          ]
        },
        {
          "output_type": "stream",
          "name": "stderr",
          "text": [
            "/usr/local/lib/python3.10/dist-packages/sklearn/metrics/_classification.py:1344: UndefinedMetricWarning: Precision and F-score are ill-defined and being set to 0.0 in labels with no predicted samples. Use `zero_division` parameter to control this behavior.\n",
            "  _warn_prf(average, modifier, msg_start, len(result))\n",
            "/usr/local/lib/python3.10/dist-packages/sklearn/metrics/_classification.py:1344: UndefinedMetricWarning: Precision and F-score are ill-defined and being set to 0.0 in labels with no predicted samples. Use `zero_division` parameter to control this behavior.\n",
            "  _warn_prf(average, modifier, msg_start, len(result))\n",
            "/usr/local/lib/python3.10/dist-packages/sklearn/metrics/_classification.py:1344: UndefinedMetricWarning: Precision and F-score are ill-defined and being set to 0.0 in labels with no predicted samples. Use `zero_division` parameter to control this behavior.\n",
            "  _warn_prf(average, modifier, msg_start, len(result))\n",
            "/usr/local/lib/python3.10/dist-packages/sklearn/metrics/_classification.py:1344: UndefinedMetricWarning: Precision and F-score are ill-defined and being set to 0.0 in labels with no predicted samples. Use `zero_division` parameter to control this behavior.\n",
            "  _warn_prf(average, modifier, msg_start, len(result))\n",
            "/usr/local/lib/python3.10/dist-packages/sklearn/metrics/_classification.py:1344: UndefinedMetricWarning: Precision and F-score are ill-defined and being set to 0.0 in labels with no predicted samples. Use `zero_division` parameter to control this behavior.\n",
            "  _warn_prf(average, modifier, msg_start, len(result))\n",
            "/usr/local/lib/python3.10/dist-packages/sklearn/metrics/_classification.py:1344: UndefinedMetricWarning: Precision and F-score are ill-defined and being set to 0.0 in labels with no predicted samples. Use `zero_division` parameter to control this behavior.\n",
            "  _warn_prf(average, modifier, msg_start, len(result))\n"
          ]
        }
      ]
    },
    {
      "cell_type": "code",
      "source": [
        "from sklearn.feature_extraction.text import TfidfVectorizer\n",
        "from sklearn.naive_bayes import MultinomialNB\n",
        "from sklearn.svm import SVC\n",
        "from sklearn.metrics import accuracy_score, classification_report\n",
        "from sklearn.preprocessing import LabelEncoder\n",
        "\n",
        "# Mapping des classes\n",
        "class_mapping = {\n",
        "    'half-true': 'Non Fake',\n",
        "    'mostly-true': 'Non Fake',\n",
        "    'true': 'Non Fake',\n",
        "    'pants-fire': 'Fake',\n",
        "    'false': 'Fake',\n",
        "    'mostly-false': 'Fake'\n",
        "}\n",
        "\n",
        "# Appliquer le mapping sur les colonnes 'label'\n",
        "df['label_grouped'] = df['label'].map(class_mapping)\n",
        "df_test['label_grouped'] = df_test['label'].map(class_mapping)\n",
        "\n",
        "# Prepare the data for binary classification\n",
        "X_train_grouped = df[['statement', 'speaker']]\n",
        "y_train_grouped = df['label_grouped']\n",
        "\n",
        "X_test_grouped = df_test[['statement', 'speaker']]\n",
        "y_test_grouped = df_test['label_grouped']\n",
        "\n",
        "# Encode labels\n",
        "le = LabelEncoder()\n",
        "y_train_grouped = le.fit_transform(y_train_grouped)\n",
        "y_test_grouped = le.fit_transform(y_test_grouped)\n",
        "\n",
        "# Vectorization for binary classification\n",
        "vectorizer_grouped = TfidfVectorizer()\n",
        "X_train_vectorized_grouped = vectorizer_grouped.fit_transform(X_train_grouped.apply(lambda x: ' '.join(x), axis=1))\n",
        "X_test_vectorized_grouped = vectorizer_grouped.transform(X_test_grouped.apply(lambda x: ' '.join(x), axis=1))\n",
        "\n",
        "# Naive Bayes for binary classification\n",
        "nb_classifier_grouped = MultinomialNB()\n",
        "nb_classifier_grouped.fit(X_train_vectorized_grouped, y_train_grouped)\n",
        "nb_predictions_grouped = nb_classifier_grouped.predict(X_test_vectorized_grouped)\n",
        "\n",
        "# SVM for binary classification\n",
        "svm_classifier_grouped = SVC()\n",
        "svm_classifier_grouped.fit(X_train_vectorized_grouped, y_train_grouped)\n",
        "svm_predictions_grouped = svm_classifier_grouped.predict(X_test_vectorized_grouped)\n",
        "\n",
        "# Evaluate binary classification with grouped classes\n",
        "print(\"Naive Bayes Grouped Accuracy:\", accuracy_score(y_test_grouped, nb_predictions_grouped))\n",
        "print(\"SVM Grouped Accuracy:\", accuracy_score(y_test_grouped, svm_predictions_grouped))\n",
        "print(\"\\nNaive Bayes Grouped Classification Report:\\n\", classification_report(y_test_grouped, nb_predictions_grouped))\n",
        "print(\"\\nSVM Grouped Classification Report:\\n\", classification_report(y_test_grouped, svm_predictions_grouped))\n"
      ],
      "metadata": {
        "colab": {
          "base_uri": "https://localhost:8080/"
        },
        "id": "pmsGsS32K5dn",
        "outputId": "a5766af9-9e3b-42fa-cbe6-65a05e743ea9"
      },
      "execution_count": null,
      "outputs": [
        {
          "output_type": "stream",
          "name": "stdout",
          "text": [
            "Naive Bayes Grouped Accuracy: 0.5779014308426074\n",
            "SVM Grouped Accuracy: 0.5961844197138315\n",
            "\n",
            "Naive Bayes Grouped Classification Report:\n",
            "               precision    recall  f1-score   support\n",
            "\n",
            "           0       0.75      0.07      0.13       339\n",
            "           1       0.57      0.99      0.73       709\n",
            "           2       0.00      0.00      0.00       210\n",
            "\n",
            "    accuracy                           0.58      1258\n",
            "   macro avg       0.44      0.35      0.29      1258\n",
            "weighted avg       0.53      0.58      0.44      1258\n",
            "\n",
            "\n",
            "SVM Grouped Classification Report:\n",
            "               precision    recall  f1-score   support\n",
            "\n",
            "           0       0.58      0.18      0.27       339\n",
            "           1       0.60      0.97      0.74       709\n",
            "           2       0.00      0.00      0.00       210\n",
            "\n",
            "    accuracy                           0.60      1258\n",
            "   macro avg       0.39      0.38      0.34      1258\n",
            "weighted avg       0.49      0.60      0.49      1258\n",
            "\n"
          ]
        },
        {
          "output_type": "stream",
          "name": "stderr",
          "text": [
            "/usr/local/lib/python3.10/dist-packages/sklearn/metrics/_classification.py:1344: UndefinedMetricWarning: Precision and F-score are ill-defined and being set to 0.0 in labels with no predicted samples. Use `zero_division` parameter to control this behavior.\n",
            "  _warn_prf(average, modifier, msg_start, len(result))\n",
            "/usr/local/lib/python3.10/dist-packages/sklearn/metrics/_classification.py:1344: UndefinedMetricWarning: Precision and F-score are ill-defined and being set to 0.0 in labels with no predicted samples. Use `zero_division` parameter to control this behavior.\n",
            "  _warn_prf(average, modifier, msg_start, len(result))\n",
            "/usr/local/lib/python3.10/dist-packages/sklearn/metrics/_classification.py:1344: UndefinedMetricWarning: Precision and F-score are ill-defined and being set to 0.0 in labels with no predicted samples. Use `zero_division` parameter to control this behavior.\n",
            "  _warn_prf(average, modifier, msg_start, len(result))\n",
            "/usr/local/lib/python3.10/dist-packages/sklearn/metrics/_classification.py:1344: UndefinedMetricWarning: Precision and F-score are ill-defined and being set to 0.0 in labels with no predicted samples. Use `zero_division` parameter to control this behavior.\n",
            "  _warn_prf(average, modifier, msg_start, len(result))\n",
            "/usr/local/lib/python3.10/dist-packages/sklearn/metrics/_classification.py:1344: UndefinedMetricWarning: Precision and F-score are ill-defined and being set to 0.0 in labels with no predicted samples. Use `zero_division` parameter to control this behavior.\n",
            "  _warn_prf(average, modifier, msg_start, len(result))\n",
            "/usr/local/lib/python3.10/dist-packages/sklearn/metrics/_classification.py:1344: UndefinedMetricWarning: Precision and F-score are ill-defined and being set to 0.0 in labels with no predicted samples. Use `zero_division` parameter to control this behavior.\n",
            "  _warn_prf(average, modifier, msg_start, len(result))\n"
          ]
        }
      ]
    },
    {
      "cell_type": "markdown",
      "source": [
        "En ajoutant la variable speaker on remarque que le Score de Accuarcy augmente\n",
        "\n",
        "Quand on ajoute la variable Subject(s) le Score augmente aussi"
      ],
      "metadata": {
        "id": "8-1E_ThpG7st"
      }
    },
    {
      "cell_type": "markdown",
      "source": [
        "# Partie 3 : Génération de Réponses Justificatives avec un Modèle GPT\n",
        "Le but de cette partie c’est l’exploration de la génération de réponses justificatives (colonne «justification») en utilisant un modèle de langage pré-entraîné tel que GPT (vous avez le choix de l’architecture). Il est à noter que cette colonne a été ajoutée à la base initiale LIAR dans le papier \"Proceedings of the First Workshop on Fact Extraction and Verification (FEVER)\" publié en 2018 dans la conférence EMNLP par James Thorne, Andreas Vlachos, Oana Cocarascu, Christos Christodoulopoulos et Arpit Mittal"
      ],
      "metadata": {
        "id": "DtQC815jbpQ_"
      }
    },
    {
      "cell_type": "code",
      "source": [
        "from transformers import GPT2LMHeadModel, GPT2Tokenizer, GPT2Config, AdamW\n",
        "from torch.utils.data import Dataset, DataLoader\n",
        "from tqdm import tqdm\n",
        "import torch\n",
        "import nltk\n",
        "from nltk.translate.bleu_score import sentence_bleu"
      ],
      "metadata": {
        "id": "lfsZr_7CIen6"
      },
      "execution_count": null,
      "outputs": []
    },
    {
      "cell_type": "code",
      "source": [
        "dftrain = df[['statement', 'extracted_justification']]"
      ],
      "metadata": {
        "id": "LzCmp5_1IezX"
      },
      "execution_count": null,
      "outputs": []
    },
    {
      "cell_type": "markdown",
      "source": [
        "## Fine-Tune GPT2 Model"
      ],
      "metadata": {
        "id": "ZVz1-u5uIz8y"
      }
    },
    {
      "cell_type": "code",
      "source": [
        "# Load the tokenizer and configure the GPT-2 model\n",
        "model_name = \"gpt2\"\n",
        "tokenizer = GPT2Tokenizer.from_pretrained(model_name)\n",
        "config = GPT2Config.from_pretrained(model_name)\n",
        "model = GPT2LMHeadModel(config)\n",
        "\n",
        "# Set the padding token to be the EOS token\n",
        "tokenizer.pad_token = tokenizer.eos_token\n",
        "\n",
        "# Add a token for padding\n",
        "tokenizer.add_special_tokens({'pad_token': tokenizer.eos_token})"
      ],
      "metadata": {
        "id": "v06p2RaBIe19"
      },
      "execution_count": null,
      "outputs": []
    },
    {
      "cell_type": "code",
      "source": [
        "# Preprocess the data for training\n",
        "class CustomDataset(Dataset):\n",
        "    def __init__(self, statements, justifications, tokenizer, max_length=512):\n",
        "        self.statements = statements\n",
        "        self.justifications = justifications\n",
        "        self.tokenizer = tokenizer\n",
        "        self.max_length = max_length\n",
        "\n",
        "    def __len__(self):\n",
        "        return len(self.statements)\n",
        "\n",
        "    def __getitem__(self, idx):\n",
        "        statement = str(self.statements[idx])\n",
        "        justification = str(self.justifications[idx])\n",
        "\n",
        "        # Concatenate the statement and justification with special tokens\n",
        "        input_text = f\"{tokenizer.bos_token} {statement} {tokenizer.eos_token} {tokenizer.bos_token} {justification} {tokenizer.eos_token}\"\n",
        "\n",
        "        # Tokenize and pad according to the maximum length\n",
        "        inputs = self.tokenizer(input_text, max_length=self.max_length, padding=\"max_length\", truncation=True, return_tensors=\"pt\", pad_to_max_length=True)\n",
        "\n",
        "        return inputs"
      ],
      "metadata": {
        "id": "JhC3PhB4Ie4H"
      },
      "execution_count": null,
      "outputs": []
    },
    {
      "cell_type": "code",
      "source": [
        "train_dataset = CustomDataset(dftrain[\"statement\"], dftrain[\"extracted_justification\"], tokenizer)\n",
        "\n",
        "train_dataloader = DataLoader(train_dataset, batch_size=4, shuffle=True)\n",
        "\n",
        "# Train the model\n",
        "optimizer = AdamW(model.parameters(), lr=1e-5)\n",
        "num_epochs = 1\n",
        "\n",
        "device = torch.device(\"cuda\" if torch.cuda.is_available() else \"cpu\")\n",
        "model.to(device)\n",
        "\n",
        "for epoch in range(num_epochs):\n",
        "    tqdm_dataloader = tqdm(train_dataloader, desc=f\"Epoch {epoch + 1}\", unit=\"batch\", leave=False)\n",
        "\n",
        "    for batch in tqdm_dataloader:\n",
        "        optimizer.zero_grad()\n",
        "        inputs = {key: value.to(device) for key, value in batch.items()}\n",
        "        labels = inputs[\"input_ids\"].clone()\n",
        "\n",
        "        outputs = model(**inputs, labels=labels)\n",
        "        loss = outputs.loss\n",
        "        loss.backward()\n",
        "        optimizer.step()\n",
        "\n",
        "        tqdm_dataloader.set_postfix({'Loss': loss.item()}, refresh=True)\n",
        "\n",
        "# Save the trained model\n",
        "model.save_pretrained(\"./finetuned_model\")\n",
        "\n",
        "# Load the trained model\n",
        "model = GPT2LMHeadModel.from_pretrained(\"./finetuned_model\")\n"
      ],
      "metadata": {
        "id": "8UMzMPoiIe6e"
      },
      "execution_count": null,
      "outputs": []
    },
    {
      "cell_type": "markdown",
      "source": [
        "## Generate New Justifications"
      ],
      "metadata": {
        "id": "oWRhzoy9IvWX"
      }
    },
    {
      "cell_type": "code",
      "source": [
        "from transformers import GPT2LMHeadModel, GPT2Tokenizer\n",
        "\n",
        "# Load the fine-tuned model and tokenizer\n",
        "model_path = \"./finetuned_model\"\n",
        "model = GPT2LMHeadModel.from_pretrained(model_path)\n",
        "tokenizer = GPT2Tokenizer.from_pretrained('gpt2', padding_side=\"left\")\n",
        "\n",
        "# Set the model to evaluation mode\n",
        "model.eval()\n",
        "\n",
        "# Assuming df_test is your test dataset with a 'statement' column\n",
        "df_test = df_test[['statement']]\n",
        "\n",
        "# Function to generate justifications\n",
        "def generate_justification(statement):\n",
        "    input_text = f\"{tokenizer.bos_token} {statement} {tokenizer.eos_token}\"\n",
        "    input_ids = tokenizer.encode(input_text, return_tensors=\"pt\")\n",
        "\n",
        "    # Generate text\n",
        "    output = model.generate(input_ids, max_length=100, temperature=0.8, num_beams=5, do_sample=False, no_repeat_ngram_size=2, pad_token_id=tokenizer.eos_token_id)\n",
        "\n",
        "    # Decode the generated tokens back to text\n",
        "    generated_text = tokenizer.decode(output[0], skip_special_tokens=True)\n",
        "\n",
        "    return generated_text\n",
        "\n",
        "# Generate justifications for each statement in the test dataset\n",
        "df_test['generated_justification'] = df_test['statement'].apply(generate_justification)\n",
        "\n",
        "# Print and save the results\n",
        "print(df_test[['statement', 'generated_justification']])\n",
        "df_test[['statement', 'generated_justification']].to_csv(\"generated_justifications.csv\", index=False)\n"
      ],
      "metadata": {
        "id": "7c7o6KxYIe98"
      },
      "execution_count": null,
      "outputs": []
    },
    {
      "cell_type": "markdown",
      "source": [
        "## Model Evaluation"
      ],
      "metadata": {
        "id": "5uEDi7TOIrup"
      }
    },
    {
      "cell_type": "code",
      "source": [
        "references = df_test['extracted_justification'].tolist()\n",
        "hypotheses = df_test['generated_justification'].tolist()\n",
        "\n",
        "# Tokenize references and hypotheses\n",
        "references = [nltk.word_tokenize(ref) for ref in references]\n",
        "hypotheses = [nltk.word_tokenize(hyp) for hyp in hypotheses]\n",
        "\n",
        "# Compute BLEU score\n",
        "bleu_scores = [sentence_bleu([ref], hyp) for ref, hyp in zip(references, hypotheses)]\n",
        "\n",
        "# Average BLEU score\n",
        "average_bleu = sum(bleu_scores) / len(bleu_scores)\n",
        "\n",
        "print(f'Average BLEU Score: {average_bleu}')"
      ],
      "metadata": {
        "id": "6oNZbd7kIqzJ"
      },
      "execution_count": null,
      "outputs": []
    }
  ]
}